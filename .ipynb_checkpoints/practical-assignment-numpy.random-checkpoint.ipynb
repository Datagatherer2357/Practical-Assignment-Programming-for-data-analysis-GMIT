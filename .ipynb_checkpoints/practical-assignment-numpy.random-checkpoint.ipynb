{
 "cells": [
  {
   "cell_type": "markdown",
   "metadata": {},
   "source": [
    "<img src=\"https://image.ibb.co/gw4Gen/Index-GMIT.png\" alt=\"Index-GMIT\" border=\"0\">\n",
    "## Practical Assignment: ***numpy.random package***\n",
    "* Assignment for Programming for Data Analytics\n",
    "\n",
    "* Start date: 12-10-2018 End date 11-11-2018\n",
    "-----------------------------------------------------------------------\n"
   ]
  },
  {
   "cell_type": "markdown",
   "metadata": {},
   "source": [
    "### Assignment outline and objectives\n",
    "1. Explain the overall purpose of the package.\n",
    "2. Explain the use of the “Simple random data” and “Permutations” functions.\n",
    "3. Explain the use and purpose of at least five “Distributions” functions.\n",
    "4. Explain the use of seeds in generating pseudorandom numbers.\n",
    "--------------------"
   ]
  },
  {
   "cell_type": "markdown",
   "metadata": {},
   "source": [
    "### Overall purpose of the package \n",
    "\n",
    "The random module in Python's numpy package is a widely used tool which affords a suite of functions for generating random numbers, data and distributions.\n",
    "It supplements the built-in Python *random* with functions for efficiently generating whole arrays of sample values from many kinds of probabilty distributions [1].\n",
    "The module is comprised of \"simple random data\" (functions), \"permutations\", \"distributions\" and \"random generators.\n",
    "It provides an array of tools, for tasks such as picking a random floating-point number between 0 and 1, and selecting a random integer between two numbers [2].\n",
    "The module is also capable of generating a vast amount of probability distribtions, e.g. a normal or binomial types.\n",
    "The module uses a popular and robust number generator called the *Mersenne Twister*. It also provides the function *seed* for setting the initial seed (more on this below).\n",
    "\n",
    "-----------------------------\n",
    "\n",
    "As a brief example, the random module can *choose* an item at random from a sequence or shuffle a list of items randomly:\n",
    "\n",
    "-----------------------\n"
   ]
  },
  {
   "cell_type": "code",
   "execution_count": 4,
   "metadata": {},
   "outputs": [
    {
     "data": {
      "text/plain": [
       "'Linux'"
      ]
     },
     "execution_count": 4,
     "metadata": {},
     "output_type": "execute_result"
    }
   ],
   "source": [
    "# Choosing an item at random \n",
    "\n",
    "import random\n",
    "random.choice(['Windows', 'Linux', 'Mac', 'Android'])"
   ]
  },
  {
   "cell_type": "code",
   "execution_count": 5,
   "metadata": {},
   "outputs": [
    {
     "data": {
      "text/plain": [
       "'Windows'"
      ]
     },
     "execution_count": 5,
     "metadata": {},
     "output_type": "execute_result"
    }
   ],
   "source": [
    "# Repeating the random choice\n",
    "\n",
    "random.choice(['Windows', 'Linux', 'Mac', 'Android'])"
   ]
  },
  {
   "cell_type": "code",
   "execution_count": 8,
   "metadata": {},
   "outputs": [
    {
     "data": {
      "text/plain": [
       "['Microsoft', 'Acer', 'Dell', 'HP', 'Apple']"
      ]
     },
     "execution_count": 8,
     "metadata": {},
     "output_type": "execute_result"
    }
   ],
   "source": [
    "# Shuffling a list of items randomly\n",
    "\n",
    "import random\n",
    "machines = ['HP', 'Dell', 'Microsoft', 'Apple', 'Acer']\n",
    "random.shuffle(machines)\n",
    "machines"
   ]
  },
  {
   "cell_type": "code",
   "execution_count": 6,
   "metadata": {},
   "outputs": [
    {
     "data": {
      "text/plain": [
       "['Acer', 'Dell', 'Apple', 'Microsoft', 'HP']"
      ]
     },
     "execution_count": 6,
     "metadata": {},
     "output_type": "execute_result"
    }
   ],
   "source": [
    "# Repeating the random shuffle\n",
    "\n",
    "random.shuffle(machines)\n",
    "machines"
   ]
  },
  {
   "cell_type": "markdown",
   "metadata": {},
   "source": [
    "---------------------------\n",
    "\n",
    "Another example is that we could get a 5 × 4 array of \"samples\" from the standard normal distribution using *normal* [2]:\n",
    "\n",
    "---------------------------"
   ]
  },
  {
   "cell_type": "code",
   "execution_count": 16,
   "metadata": {},
   "outputs": [
    {
     "data": {
      "text/plain": [
       "array([[ 1.01374113,  0.6913671 , -0.9246909 ,  0.45796252],\n",
       "       [ 1.14862288, -0.56652677,  0.40109699, -2.00930794],\n",
       "       [ 1.10619317,  0.66843948, -0.60722913,  0.21581349],\n",
       "       [-0.72943668, -0.69343747,  1.85234325, -2.20950965],\n",
       "       [ 1.32621308, -0.69871543, -1.07032921,  1.32486823]])"
      ]
     },
     "execution_count": 16,
     "metadata": {},
     "output_type": "execute_result"
    }
   ],
   "source": [
    "# Creating a randomly sampled array\n",
    "\n",
    "import numpy as np\n",
    "import random\n",
    "samples = np.random.normal(size=(5, 4))\n",
    "samples"
   ]
  },
  {
   "cell_type": "markdown",
   "metadata": {},
   "source": [
    "### Use of the “Simple random data” and “Permutations” functions\n",
    "\n",
    "The random module's *simple random data* section is a collection of ten functions, which perform different tasks. The afforementioned *random.choice()* function above is an example of one of these functions. Below is another example: The *random.randint()* function, which returns random integers from *low* (inclusive) to *high* (exclusive). We can also include a third *size* argument as seen below:"
   ]
  },
  {
   "cell_type": "code",
   "execution_count": 3,
   "metadata": {},
   "outputs": [
    {
     "data": {
      "text/plain": [
       "array([28,  1, 51,  8, 73, 20])"
      ]
     },
     "execution_count": 3,
     "metadata": {},
     "output_type": "execute_result"
    }
   ],
   "source": [
    "# Generate six random integers between 1 and 75\n",
    "\n",
    "import numpy as np\n",
    "np.random.randint(low=1, high=75, size=6)"
   ]
  },
  {
   "cell_type": "markdown",
   "metadata": {},
   "source": [
    "The module's *permutations* section is comprised of two more specialised funtions: *shuffle* and *permutation*. *shuffle* takes only one argument (x), and will modify a sequence in-place by shuffling its contents (as demonstrated in the example above). The shuffle function will only shuffle an array along the first axis of a multi-dimensional array. The order of sub-arrays is changed but their contents remains the same. *permutation* will also take one argument (x) and randomly permute (reorder) a sequence, or return a permuted range [3]."
   ]
  },
  {
   "cell_type": "markdown",
   "metadata": {},
   "source": [
    "### References\n",
    "\n",
    "[1]. McKinney, W.(2018). *Python for Data Analysis*. Boston: O' Reilly.\n",
    "\n",
    "[2]. Lutz, M.(2013). *Learning Python*. Boston: O' Reilly\n",
    "\n",
    "[3]. SciPy.org, multiple authors (2018). *Random sampling (numpy.random)*. Retrieved from:    https://docs.scipy.org/doc/numpy-1.15.1/reference/routines.random.html"
   ]
  },
  {
   "cell_type": "code",
   "execution_count": null,
   "metadata": {},
   "outputs": [],
   "source": []
  }
 ],
 "metadata": {
  "kernelspec": {
   "display_name": "Python 3",
   "language": "python",
   "name": "python3"
  },
  "language_info": {
   "codemirror_mode": {
    "name": "ipython",
    "version": 3
   },
   "file_extension": ".py",
   "mimetype": "text/x-python",
   "name": "python",
   "nbconvert_exporter": "python",
   "pygments_lexer": "ipython3",
   "version": "3.6.5"
  }
 },
 "nbformat": 4,
 "nbformat_minor": 2
}
