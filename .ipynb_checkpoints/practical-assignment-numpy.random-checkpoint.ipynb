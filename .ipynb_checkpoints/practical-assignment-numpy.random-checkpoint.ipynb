{
 "cells": [
  {
   "cell_type": "markdown",
   "metadata": {},
   "source": [
    "<img src=\"https://image.ibb.co/gw4Gen/Index-GMIT.png\" alt=\"Index-GMIT\" border=\"0\">\n",
    "## Practical Assignment: ***numpy.random package***\n",
    "* Assignment for Programming for Data Analytics\n",
    "\n",
    "* Start date: 12-10-2018 End date 11-11-2018\n",
    "-----------------------------------------------------------------------\n"
   ]
  },
  {
   "cell_type": "markdown",
   "metadata": {},
   "source": [
    "### Assignment outline and objectives\n",
    "1. Explain the overall purpose of the package.\n",
    "2. Explain the use of the “Simple random data” and “Permutations” functions.\n",
    "3. Explain the use and purpose of at least five “Distributions” functions.\n",
    "4. Explain the use of seeds in generating pseudorandom numbers.\n",
    "--------------------"
   ]
  },
  {
   "cell_type": "markdown",
   "metadata": {},
   "source": [
    "### Overall purpose of the package \n",
    "\n",
    "The random module in Python's numpy package is a widely used tool which affords a suite of functions for generating random numbers, data and distributions.\n",
    "It supplements the built-in Python *random* with functions for efficiently generating whole arrays of sample values from many kinds of probabilty distributions [1].\n",
    "The module is comprised of \"simple random data\" (functions), \"permutations\", \"distributions\" and \"random generators.\n",
    "It provides an array of tools, for tasks such as picking a random floating-point number between 0 and 1, and selecting a random integer between two numbers [2].\n",
    "The module is also capable of generating a vast amount of probability distribtions, e.g. a normal or binomial types.\n",
    "The module uses a popular and robust number generator called the *Mersenne Twister*. It also provides the function *seed* for setting the initial seed (more on this below).\n",
    "\n",
    "-----------------------------\n",
    "\n",
    "As a brief example, the random module can *choose* an item at random from a sequence or shuffle a list of items randomly:\n",
    "\n",
    "-----------------------\n"
   ]
  },
  {
   "cell_type": "code",
   "execution_count": 1,
   "metadata": {},
   "outputs": [
    {
     "data": {
      "text/plain": [
       "'Android'"
      ]
     },
     "execution_count": 1,
     "metadata": {},
     "output_type": "execute_result"
    }
   ],
   "source": [
    "# Choosing an item at random \n",
    "\n",
    "import random\n",
    "random.choice(['Windows', 'Linux', 'Mac', 'Android'])"
   ]
  },
  {
   "cell_type": "code",
   "execution_count": 2,
   "metadata": {},
   "outputs": [
    {
     "data": {
      "text/plain": [
       "'Windows'"
      ]
     },
     "execution_count": 2,
     "metadata": {},
     "output_type": "execute_result"
    }
   ],
   "source": [
    "# Repeating the random choice\n",
    "\n",
    "random.choice(['Windows', 'Linux', 'Mac', 'Android'])"
   ]
  },
  {
   "cell_type": "code",
   "execution_count": 3,
   "metadata": {},
   "outputs": [
    {
     "data": {
      "text/plain": [
       "['Acer', 'Dell', 'HP', 'Apple', 'Microsoft']"
      ]
     },
     "execution_count": 3,
     "metadata": {},
     "output_type": "execute_result"
    }
   ],
   "source": [
    "# Shuffling a list of items randomly\n",
    "\n",
    "import random\n",
    "machines = ['HP', 'Dell', 'Microsoft', 'Apple', 'Acer']\n",
    "random.shuffle(machines)\n",
    "machines"
   ]
  },
  {
   "cell_type": "code",
   "execution_count": 4,
   "metadata": {},
   "outputs": [
    {
     "data": {
      "text/plain": [
       "['HP', 'Acer', 'Apple', 'Microsoft', 'Dell']"
      ]
     },
     "execution_count": 4,
     "metadata": {},
     "output_type": "execute_result"
    }
   ],
   "source": [
    "# Repeating the random shuffle\n",
    "\n",
    "random.shuffle(machines)\n",
    "machines"
   ]
  },
  {
   "cell_type": "markdown",
   "metadata": {},
   "source": [
    "---------------------------\n",
    "\n",
    "Another example is that we could get a 5 × 4 array of \"samples\" from the standard normal distribution using *normal* [2]:\n",
    "\n",
    "---------------------------"
   ]
  },
  {
   "cell_type": "code",
   "execution_count": 5,
   "metadata": {},
   "outputs": [
    {
     "data": {
      "text/plain": [
       "array([[-0.29949411,  0.45863439,  0.23609932,  0.39213722],\n",
       "       [ 0.79538379,  0.32829102,  0.38840433, -0.26405728],\n",
       "       [ 0.4685686 ,  1.15229844,  0.79814492, -0.93258662],\n",
       "       [ 1.56341622,  1.71581183, -0.74905407,  1.12355738],\n",
       "       [-1.12376213, -1.94375662,  1.94822359,  0.91155388]])"
      ]
     },
     "execution_count": 5,
     "metadata": {},
     "output_type": "execute_result"
    }
   ],
   "source": [
    "# Creating a randomly sampled array\n",
    "\n",
    "import numpy as np\n",
    "import random\n",
    "samples = np.random.normal(size=(5, 4))\n",
    "samples"
   ]
  },
  {
   "cell_type": "markdown",
   "metadata": {},
   "source": [
    "### Use of the “Simple random data” and “Permutations” functions\n",
    "\n",
    "The random module's *simple random data* section is a collection of ten functions, which perform different tasks. The afforementioned *random.choice()* function above is an example of one of these functions. \n",
    "\n",
    "Another function example is the *random.randint()* function, which returns random integers from *low* (inclusive) to *high* (exclusive). We can also include a third *size* argument as seen below:"
   ]
  },
  {
   "cell_type": "code",
   "execution_count": 6,
   "metadata": {},
   "outputs": [
    {
     "data": {
      "text/plain": [
       "array([46, 29, 24, 14, 20, 61, 40])"
      ]
     },
     "execution_count": 6,
     "metadata": {},
     "output_type": "execute_result"
    }
   ],
   "source": [
    "# Generate seven random integers between 1 and 75\n",
    "\n",
    "import numpy as np\n",
    "np.random.randint(low=1, high=75, size=7) # specifying lower and upper values and array size"
   ]
  },
  {
   "cell_type": "markdown",
   "metadata": {},
   "source": [
    "We could also for example, produce a 4 x 4 numpy array of integers between 1 and 20:"
   ]
  },
  {
   "cell_type": "code",
   "execution_count": 22,
   "metadata": {},
   "outputs": [
    {
     "data": {
      "text/plain": [
       "array([[15, 14,  9, 17],\n",
       "       [15, 14,  5, 13],\n",
       "       [ 8,  2,  7,  9]])"
      ]
     },
     "execution_count": 22,
     "metadata": {},
     "output_type": "execute_result"
    }
   ],
   "source": [
    "y = np.random.randint(1, 20, size=(3, 4)) # assigning array code to y variable\n",
    "y"
   ]
  },
  {
   "cell_type": "markdown",
   "metadata": {},
   "source": [
    "We can also plot this random array nicely on a histogram:"
   ]
  },
  {
   "cell_type": "code",
   "execution_count": 25,
   "metadata": {},
   "outputs": [
    {
     "data": {
      "image/png": "[encoded data removed]",
      "text/plain": [
       "<Figure size 432x288 with 1 Axes>"
      ]
     },
     "metadata": {},
     "output_type": "display_data"
    }
   ],
   "source": [
    "# plotting a random array\n",
    "\n",
    "import matplotlib.pyplot as plt\n",
    "plt.title(\"GMIT randint histogram\") # Labelling the title\n",
    "plt.xlabel(\"Count\")                 # Labelling x axis\n",
    "plt.ylabel(\"Random integer\")        # Labelling y axis\n",
    "\n",
    "plt.hist(y)\n",
    "\n",
    "plt.show() # or use: %matplotlib inline"
   ]
  },
  {
   "cell_type": "markdown",
   "metadata": {},
   "source": [
    "The histogram is nicely defined showing a bar measure for each number in the array and how many times each occurs.\n",
    "\n",
    "\n",
    "Another useful function belonging to the simple random data suite is the *random.rand* function. \n",
    "\n",
    "*rand* will take ANY number of arguments in its parameters and returns a set of random values in a given shape. So for example, we could create an array of this given shape and fill it with random samples from a uniform distribution over;[0, 1).\n",
    "\n",
    "But what does this mean ? It, means that the outputted distribution can include any random (floating point) number between 0 and 1 but won't include 1 *itself*. If no argument is specified, a single float will be returned [3]. \n",
    "\n",
    "For example, using rand we could randomly construct a 2D or 3D numpy array:\n",
    "\n",
    "-----------------------------\n"
   ]
  },
  {
   "cell_type": "code",
   "execution_count": 26,
   "metadata": {},
   "outputs": [
    {
     "data": {
      "text/plain": [
       "array([[0.7356731 , 0.70830839, 0.10344341, 0.04139901],\n",
       "       [0.47125975, 0.03194845, 0.84777557, 0.34471699],\n",
       "       [0.41613219, 0.7402566 , 0.73720195, 0.42974194]])"
      ]
     },
     "execution_count": 26,
     "metadata": {},
     "output_type": "execute_result"
    }
   ],
   "source": [
    "# 2D array using rand function\n",
    "\n",
    "twoD = np.random.rand(3, 4) \n",
    "twoD"
   ]
  },
  {
   "cell_type": "code",
   "execution_count": 27,
   "metadata": {},
   "outputs": [
    {
     "data": {
      "text/plain": [
       "array([[[0.83212292, 0.25585343, 0.21820813],\n",
       "        [0.76797526, 0.02457421, 0.24483006],\n",
       "        [0.83923557, 0.06606951, 0.67475305],\n",
       "        [0.80593456, 0.82906448, 0.26040309],\n",
       "        [0.56566314, 0.75397005, 0.57429166]],\n",
       "\n",
       "       [[0.59211133, 0.10175676, 0.20625569],\n",
       "        [0.75576133, 0.76831791, 0.99845509],\n",
       "        [0.44475385, 0.77799727, 0.6674606 ],\n",
       "        [0.68856896, 0.81150182, 0.74306045],\n",
       "        [0.23872086, 0.83209952, 0.0308947 ]]])"
      ]
     },
     "execution_count": 27,
     "metadata": {},
     "output_type": "execute_result"
    }
   ],
   "source": [
    "# 3D array using rand function\n",
    "\n",
    "threeD = np.random.rand(2, 5, 3) \n",
    "threeD"
   ]
  },
  {
   "cell_type": "markdown",
   "metadata": {},
   "source": [
    "Indeed, interesting and useful, but for the purpose of gaining a better visualization of our random data, we will go a bit further and input our own number into the rand parameters and produce a nice scatterplot:"
   ]
  },
  {
   "cell_type": "code",
   "execution_count": 28,
   "metadata": {},
   "outputs": [
    {
     "data": {
      "image/png": "[encoded data removed]",
      "text/plain": [
       "<Figure size 432x288 with 1 Axes>"
      ]
     },
     "metadata": {},
     "output_type": "display_data"
    }
   ],
   "source": [
    "import numpy as np\n",
    "import matplotlib.pyplot\n",
    "\n",
    "# Creating our random scatteplot data [4].\n",
    "\n",
    "num = 135 # Number of random data points\n",
    "x = np.random.rand(num) # plots the random data positions (x and y axes)\n",
    "y = np.random.rand(num)\n",
    "colors = np.random.rand(num) # Using the random.rand function to create random colours on our points\n",
    "area = (20 * np.random.rand(num))**2  # This will determine the size properties of our scatter radii points\n",
    "\n",
    "# Setting the parameters of our plot [4].\n",
    "\n",
    "plt.scatter(x, y, s=area, c=colors, alpha=0.5)  # \"s\" plots an array like shape; \"c\" plots the colour sequence;  \n",
    "                                                # \"alpha\" is the blending value between 0 (transparent) and 1 (opaque).\n",
    "plt.title('Scatterplot of GMIT random assignment data') # For labelling our visible title    \n",
    "plt.xlabel('random x data') # labelling my x axis\n",
    "plt.ylabel('random y data') # labelling my y axis \n",
    "plt.show()"
   ]
  },
  {
   "cell_type": "markdown",
   "metadata": {},
   "source": [
    "There we are, a simple and appealing plot of purely randomly generated data\n",
    "\n",
    "----------------------------"
   ]
  },
  {
   "cell_type": "markdown",
   "metadata": {},
   "source": [
    "------------------\n",
    "\n",
    "The module's *permutations* section is comprised of two more specialised funtions: *shuffle* and *permutation*. \n",
    "\n",
    "*shuffle* takes only one argument (x), and will modify a sequence in-place by shuffling its contents (as demonstrated in the example above). \n",
    "\n",
    "The shuffle function will also only shuffle an array along the first axis of a multi-dimensional array. The order of sub-arrays is changed but their contents remains the same [3]. So, below is another example of the shuffle function...we can shuffle a multidimensional array by row:"
   ]
  },
  {
   "cell_type": "code",
   "execution_count": 29,
   "metadata": {},
   "outputs": [
    {
     "data": {
      "text/plain": [
       "array([[0.10834139, 0.1412637 , 0.0486077 ],\n",
       "       [0.46433101, 0.54414437, 0.63437346],\n",
       "       [0.72391129, 0.8438917 , 0.85893299],\n",
       "       [0.40809962, 0.13411108, 0.13324288],\n",
       "       [0.11620161, 0.13656185, 0.25003297]])"
      ]
     },
     "execution_count": 29,
     "metadata": {},
     "output_type": "execute_result"
    }
   ],
   "source": [
    "# First we create our random array \"so_random\"\n",
    "\n",
    "so_random = np.random.random((5, 3)) # the random function returns random floats in the half-open interval [0.0, 1.0).\n",
    "so_random"
   ]
  },
  {
   "cell_type": "code",
   "execution_count": 30,
   "metadata": {},
   "outputs": [
    {
     "data": {
      "text/plain": [
       "array([[0.72391129, 0.8438917 , 0.85893299],\n",
       "       [0.46433101, 0.54414437, 0.63437346],\n",
       "       [0.10834139, 0.1412637 , 0.0486077 ],\n",
       "       [0.40809962, 0.13411108, 0.13324288],\n",
       "       [0.11620161, 0.13656185, 0.25003297]])"
      ]
     },
     "execution_count": 30,
     "metadata": {},
     "output_type": "execute_result"
    }
   ],
   "source": [
    "# Next we shuffle our so_random array\n",
    "\n",
    "np.random.shuffle(so_random) # our previous randomly shuffled z array of floats entered into the shuffle paramter\n",
    "so_random"
   ]
  },
  {
   "cell_type": "markdown",
   "metadata": {},
   "source": [
    "*permutation* will also take one argument (x) and randomly permute (randomly reorder) a sequence, or return a permuted range [3].\n",
    "\n",
    "While permutation appears to be very similar to the shuffle function, there are some differences. For example, if passed an array, permutation will return a shuffled copy of the array; np.random.shuffle shuffles the array *inplace*."
   ]
  },
  {
   "cell_type": "code",
   "execution_count": 20,
   "metadata": {},
   "outputs": [
    {
     "data": {
      "text/plain": [
       "array([ 2, 11,  1,  5, 13,  3, 23, 17, 19,  7])"
      ]
     },
     "execution_count": 20,
     "metadata": {},
     "output_type": "execute_result"
    }
   ],
   "source": [
    "# Here I'll input a list of primes numbers, and apply the permutation function:\n",
    "\n",
    "import numpy as np\n",
    "np.random.permutation([1, 2, 3, 5, 7, 11, 13, 17, 19, 23])"
   ]
  },
  {
   "cell_type": "code",
   "execution_count": 39,
   "metadata": {},
   "outputs": [
    {
     "data": {
      "text/plain": [
       "array([[ 0,  1,  2,  3,  4],\n",
       "       [ 5,  6,  7,  8,  9],\n",
       "       [10, 11, 12, 13, 14],\n",
       "       [15, 16, 17, 18, 19],\n",
       "       [20, 21, 22, 23, 24]])"
      ]
     },
     "execution_count": 39,
     "metadata": {},
     "output_type": "execute_result"
    }
   ],
   "source": [
    "# Now I'll apply permutation to an array.\n",
    "# First I'll create a random array:\n",
    "\n",
    "array_mix = np.arange(25).reshape((5, 5))\n",
    "array_mix"
   ]
  },
  {
   "cell_type": "code",
   "execution_count": 38,
   "metadata": {},
   "outputs": [
    {
     "data": {
      "text/plain": [
       "array([[ 0,  1,  2,  3,  4],\n",
       "       [15, 16, 17, 18, 19],\n",
       "       [ 5,  6,  7,  8,  9],\n",
       "       [10, 11, 12, 13, 14],\n",
       "       [20, 21, 22, 23, 24]])"
      ]
     },
     "execution_count": 38,
     "metadata": {},
     "output_type": "execute_result"
    }
   ],
   "source": [
    "# Now we will apply the permutation function to the array:\n",
    "\n",
    "np.random.permutation(array_mix)"
   ]
  },
  {
   "cell_type": "markdown",
   "metadata": {},
   "source": [
    "Permuting a series or the rows in a dataframe is also quite easy to achieve. "
   ]
  },
  {
   "cell_type": "code",
   "execution_count": 87,
   "metadata": {},
   "outputs": [
    {
     "data": {
      "text/html": [
       "<div>\n",
       "<style scoped>\n",
       "    .dataframe tbody tr th:only-of-type {\n",
       "        vertical-align: middle;\n",
       "    }\n",
       "\n",
       "    .dataframe tbody tr th {\n",
       "        vertical-align: top;\n",
       "    }\n",
       "\n",
       "    .dataframe thead th {\n",
       "        text-align: right;\n",
       "    }\n",
       "</style>\n",
       "<table border=\"1\" class=\"dataframe\">\n",
       "  <thead>\n",
       "    <tr style=\"text-align: right;\">\n",
       "      <th></th>\n",
       "      <th>0</th>\n",
       "      <th>1</th>\n",
       "      <th>2</th>\n",
       "      <th>3</th>\n",
       "      <th>4</th>\n",
       "      <th>5</th>\n",
       "      <th>6</th>\n",
       "    </tr>\n",
       "  </thead>\n",
       "  <tbody>\n",
       "    <tr>\n",
       "      <th>0</th>\n",
       "      <td>0</td>\n",
       "      <td>1</td>\n",
       "      <td>2</td>\n",
       "      <td>3</td>\n",
       "      <td>4</td>\n",
       "      <td>5</td>\n",
       "      <td>6</td>\n",
       "    </tr>\n",
       "    <tr>\n",
       "      <th>1</th>\n",
       "      <td>7</td>\n",
       "      <td>8</td>\n",
       "      <td>9</td>\n",
       "      <td>10</td>\n",
       "      <td>11</td>\n",
       "      <td>12</td>\n",
       "      <td>13</td>\n",
       "    </tr>\n",
       "    <tr>\n",
       "      <th>2</th>\n",
       "      <td>14</td>\n",
       "      <td>15</td>\n",
       "      <td>16</td>\n",
       "      <td>17</td>\n",
       "      <td>18</td>\n",
       "      <td>19</td>\n",
       "      <td>20</td>\n",
       "    </tr>\n",
       "    <tr>\n",
       "      <th>3</th>\n",
       "      <td>21</td>\n",
       "      <td>22</td>\n",
       "      <td>23</td>\n",
       "      <td>24</td>\n",
       "      <td>25</td>\n",
       "      <td>26</td>\n",
       "      <td>27</td>\n",
       "    </tr>\n",
       "    <tr>\n",
       "      <th>4</th>\n",
       "      <td>28</td>\n",
       "      <td>29</td>\n",
       "      <td>30</td>\n",
       "      <td>31</td>\n",
       "      <td>32</td>\n",
       "      <td>33</td>\n",
       "      <td>34</td>\n",
       "    </tr>\n",
       "  </tbody>\n",
       "</table>\n",
       "</div>"
      ],
      "text/plain": [
       "    0   1   2   3   4   5   6\n",
       "0   0   1   2   3   4   5   6\n",
       "1   7   8   9  10  11  12  13\n",
       "2  14  15  16  17  18  19  20\n",
       "3  21  22  23  24  25  26  27\n",
       "4  28  29  30  31  32  33  34"
      ]
     },
     "execution_count": 87,
     "metadata": {},
     "output_type": "execute_result"
    }
   ],
   "source": [
    "# Creating a dataframe\n",
    "\n",
    "import pandas as pd\n",
    "GMIT_df = pd.DataFrame(np.arange(7 * 5).reshape((5, 7))) # Arranges and shapes the amount of rows and columns in the dataframe (GMIT_df)\n",
    "GMIT_df"
   ]
  },
  {
   "cell_type": "code",
   "execution_count": 88,
   "metadata": {},
   "outputs": [
    {
     "data": {
      "text/plain": [
       "array([[21, 22, 23, 24, 25, 26, 27],\n",
       "       [ 0,  1,  2,  3,  4,  5,  6],\n",
       "       [ 7,  8,  9, 10, 11, 12, 13],\n",
       "       [28, 29, 30, 31, 32, 33, 34],\n",
       "       [14, 15, 16, 17, 18, 19, 20]])"
      ]
     },
     "execution_count": 88,
     "metadata": {},
     "output_type": "execute_result"
    }
   ],
   "source": [
    "# Permuting the dataframe\n",
    "\n",
    "np.random.permutation(GMIT_df)"
   ]
  },
  {
   "cell_type": "markdown",
   "metadata": {},
   "source": [
    "Calling permutation with the length of the axis you want to permute produces an array of integers indicating the new\n",
    "ordering [1]:"
   ]
  },
  {
   "cell_type": "code",
   "execution_count": 99,
   "metadata": {},
   "outputs": [
    {
     "data": {
      "text/plain": [
       "array([4, 2, 1, 0, 3])"
      ]
     },
     "execution_count": 99,
     "metadata": {},
     "output_type": "execute_result"
    }
   ],
   "source": [
    "# Producing random array\n",
    "\n",
    "sample_arr = np.random.permutation(5) # Permuting array \n",
    "sample_arr"
   ]
  },
  {
   "cell_type": "markdown",
   "metadata": {},
   "source": [
    "This array can now be used in iloc-based indexing (by incorporating the *take* function) with our above dataframe (GMIT_DF) [1]:"
   ]
  },
  {
   "cell_type": "code",
   "execution_count": 101,
   "metadata": {},
   "outputs": [
    {
     "data": {
      "text/html": [
       "<div>\n",
       "<style scoped>\n",
       "    .dataframe tbody tr th:only-of-type {\n",
       "        vertical-align: middle;\n",
       "    }\n",
       "\n",
       "    .dataframe tbody tr th {\n",
       "        vertical-align: top;\n",
       "    }\n",
       "\n",
       "    .dataframe thead th {\n",
       "        text-align: right;\n",
       "    }\n",
       "</style>\n",
       "<table border=\"1\" class=\"dataframe\">\n",
       "  <thead>\n",
       "    <tr style=\"text-align: right;\">\n",
       "      <th></th>\n",
       "      <th>0</th>\n",
       "      <th>1</th>\n",
       "      <th>2</th>\n",
       "      <th>3</th>\n",
       "      <th>4</th>\n",
       "      <th>5</th>\n",
       "      <th>6</th>\n",
       "    </tr>\n",
       "  </thead>\n",
       "  <tbody>\n",
       "    <tr>\n",
       "      <th>4</th>\n",
       "      <td>28</td>\n",
       "      <td>29</td>\n",
       "      <td>30</td>\n",
       "      <td>31</td>\n",
       "      <td>32</td>\n",
       "      <td>33</td>\n",
       "      <td>34</td>\n",
       "    </tr>\n",
       "    <tr>\n",
       "      <th>2</th>\n",
       "      <td>14</td>\n",
       "      <td>15</td>\n",
       "      <td>16</td>\n",
       "      <td>17</td>\n",
       "      <td>18</td>\n",
       "      <td>19</td>\n",
       "      <td>20</td>\n",
       "    </tr>\n",
       "    <tr>\n",
       "      <th>1</th>\n",
       "      <td>7</td>\n",
       "      <td>8</td>\n",
       "      <td>9</td>\n",
       "      <td>10</td>\n",
       "      <td>11</td>\n",
       "      <td>12</td>\n",
       "      <td>13</td>\n",
       "    </tr>\n",
       "    <tr>\n",
       "      <th>0</th>\n",
       "      <td>0</td>\n",
       "      <td>1</td>\n",
       "      <td>2</td>\n",
       "      <td>3</td>\n",
       "      <td>4</td>\n",
       "      <td>5</td>\n",
       "      <td>6</td>\n",
       "    </tr>\n",
       "    <tr>\n",
       "      <th>3</th>\n",
       "      <td>21</td>\n",
       "      <td>22</td>\n",
       "      <td>23</td>\n",
       "      <td>24</td>\n",
       "      <td>25</td>\n",
       "      <td>26</td>\n",
       "      <td>27</td>\n",
       "    </tr>\n",
       "  </tbody>\n",
       "</table>\n",
       "</div>"
      ],
      "text/plain": [
       "    0   1   2   3   4   5   6\n",
       "4  28  29  30  31  32  33  34\n",
       "2  14  15  16  17  18  19  20\n",
       "1   7   8   9  10  11  12  13\n",
       "0   0   1   2   3   4   5   6\n",
       "3  21  22  23  24  25  26  27"
      ]
     },
     "execution_count": 101,
     "metadata": {},
     "output_type": "execute_result"
    }
   ],
   "source": [
    "# Applying the permuted array to re-index dataframe\n",
    "\n",
    "GMIT_df.take(sample_arr) # \"take\" takes elements from an array along an axis\n"
   ]
  },
  {
   "cell_type": "markdown",
   "metadata": {},
   "source": [
    "### References\n",
    "\n",
    "[1]. McKinney, W.(2018). *Python for Data Analysis*. Boston: O' Reilly.\n",
    "\n",
    "[2]. Lutz, M.(2013). *Learning Python*. Boston: O' Reilly\n",
    "\n",
    "[3]. SciPy.org, multiple authors (2018). *Random sampling (numpy.random)*. Retrieved from:    https://docs.scipy.org/doc/numpy-1.15.1/reference/routines.random.html\n",
    "\n",
    "[4]. Matplotlib.org, multiple authors (2018). *Shapes and collections\"*. Retrieved from:  https://matplotlib.org/gallery/shapes_and_collections/scatter.html\n"
   ]
  }
 ],
 "metadata": {
  "kernelspec": {
   "display_name": "Python 3",
   "language": "python",
   "name": "python3"
  },
  "language_info": {
   "codemirror_mode": {
    "name": "ipython",
    "version": 3
   },
   "file_extension": ".py",
   "mimetype": "text/x-python",
   "name": "python",
   "nbconvert_exporter": "python",
   "pygments_lexer": "ipython3",
   "version": "3.6.5"
  }
 },
 "nbformat": 4,
 "nbformat_minor": 2
}
