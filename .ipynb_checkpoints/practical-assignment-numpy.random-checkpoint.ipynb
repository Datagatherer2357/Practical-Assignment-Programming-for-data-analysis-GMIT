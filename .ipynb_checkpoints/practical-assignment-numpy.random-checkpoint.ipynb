{
 "cells": [
  {
   "cell_type": "markdown",
   "metadata": {},
   "source": [
    "<img src=\"https://image.ibb.co/gw4Gen/Index-GMIT.png\" alt=\"Index-GMIT\" border=\"0\">\n",
    "## Practical Assignment: ***numpy.random package***\n",
    "\n",
    "* Assignment for Programming for Data Analytics\n",
    "\n",
    "* Start date: 12-10-2018 End date 11-11-2018\n",
    "\n",
    "-----------------------------------------------------------------------\n"
   ]
  },
  {
   "cell_type": "markdown",
   "metadata": {},
   "source": [
    "### Assignment outline and objectives\n",
    "1. Explain the overall purpose of the package.\n",
    "2. Explain the use of the “Simple random data” and “Permutations” functions.\n",
    "3. Explain the use and purpose of at least five “Distributions” functions.\n",
    "4. Explain the use of seeds in generating pseudorandom numbers.\n",
    "\n",
    "--------------------"
   ]
  },
  {
   "cell_type": "markdown",
   "metadata": {},
   "source": [
    "### Overall purpose of the package \n",
    "\n",
    "* The random module in Python's numpy package is a widely used tool which affords a suite of functions for generating random numbers, data and distributions.\n",
    "* It supplements the built-in Python *random* with functions for efficiently generating whole arrays of sample values from many kinds of probabilty distributions [1].\n",
    "* The module is comprised of \"simple random data\" (functions), \"permutations\", \"distributions\" and \"random generators.\n",
    "* The module is capable of generating a vast amount of probability distribtions, e.g. a normal or binomial types.\n",
    "* The module uses a popular and robust number generator called the *Mersenne Twister*. It also provides the function *seed* for setting the initial seed (more on this below).\n",
    "-----------------------\n"
   ]
  },
  {
   "cell_type": "markdown",
   "metadata": {},
   "source": [
    "## References\n",
    "\n",
    "[1]. McKinney, W.(2018). *Python for Data Analysis*. Boston: O' Reilly."
   ]
  },
  {
   "cell_type": "code",
   "execution_count": null,
   "metadata": {},
   "outputs": [],
   "source": []
  }
 ],
 "metadata": {
  "kernelspec": {
   "display_name": "Python 3",
   "language": "python",
   "name": "python3"
  },
  "language_info": {
   "codemirror_mode": {
    "name": "ipython",
    "version": 3
   },
   "file_extension": ".py",
   "mimetype": "text/x-python",
   "name": "python",
   "nbconvert_exporter": "python",
   "pygments_lexer": "ipython3",
   "version": "3.6.5"
  }
 },
 "nbformat": 4,
 "nbformat_minor": 2
}
