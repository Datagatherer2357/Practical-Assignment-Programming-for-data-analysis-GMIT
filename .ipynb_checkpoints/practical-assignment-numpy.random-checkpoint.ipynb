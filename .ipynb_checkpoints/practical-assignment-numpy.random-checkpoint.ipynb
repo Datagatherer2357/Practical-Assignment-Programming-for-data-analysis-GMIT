{
 "cells": [
  {
   "cell_type": "markdown",
   "metadata": {},
   "source": [
    "<img src=\"https://image.ibb.co/gw4Gen/Index-GMIT.png\" alt=\"Index-GMIT\" border=\"0\">\n",
    "## Practical Assignment: ***numpy.random package***\n",
    "* Assignment for Programming for Data Analytics\n",
    "\n",
    "* Start date: 12-10-2018 End date 11-11-2018\n",
    "-----------------------------------------------------------------------\n"
   ]
  },
  {
   "cell_type": "markdown",
   "metadata": {},
   "source": [
    "### Assignment outline and objectives\n",
    "1. Explain the overall purpose of the package.\n",
    "2. Explain the use of the “Simple random data” and “Permutations” functions.\n",
    "3. Explain the use and purpose of at least five “Distributions” functions.\n",
    "4. Explain the use of seeds in generating pseudorandom numbers.\n",
    "--------------------"
   ]
  },
  {
   "cell_type": "markdown",
   "metadata": {},
   "source": [
    "### Overall purpose of the package \n",
    "\n",
    "The random module in Python's numpy package is a widely used tool which affords a suite of functions for generating random numbers, data and distributions.\n",
    "It supplements the built-in Python *random* with functions for efficiently generating whole arrays of sample values from many kinds of probabilty distributions [1].\n",
    "The module is comprised of \"simple random data\" (functions), \"permutations\", \"distributions\" and \"random generators.\n",
    "It provides an array of tools, for tasks such as picking a random floating-point number between 0 and 1, and selecting a random integer between two numbers [2].\n",
    "The module is also capable of generating a vast amount of probability distribtions, e.g. a normal or binomial types.\n",
    "The module uses a popular and robust number generator called the *Mersenne Twister*. It also provides the function *seed* for setting the initial seed (more on this below).\n",
    "\n",
    "-----------------------------\n",
    "\n",
    "As a brief example, the random module can *choose* an item at random from a sequence or shuffle a list of items randomly:\n",
    "\n",
    "-----------------------\n"
   ]
  },
  {
   "cell_type": "code",
   "execution_count": 1,
   "metadata": {},
   "outputs": [
    {
     "data": {
      "text/plain": [
       "'Android'"
      ]
     },
     "execution_count": 1,
     "metadata": {},
     "output_type": "execute_result"
    }
   ],
   "source": [
    "# Choosing an item at random \n",
    "\n",
    "import random\n",
    "random.choice(['Windows', 'Linux', 'Mac', 'Android'])"
   ]
  },
  {
   "cell_type": "code",
   "execution_count": 2,
   "metadata": {},
   "outputs": [
    {
     "data": {
      "text/plain": [
       "'Windows'"
      ]
     },
     "execution_count": 2,
     "metadata": {},
     "output_type": "execute_result"
    }
   ],
   "source": [
    "# Repeating the random choice\n",
    "\n",
    "random.choice(['Windows', 'Linux', 'Mac', 'Android'])"
   ]
  },
  {
   "cell_type": "code",
   "execution_count": 3,
   "metadata": {},
   "outputs": [
    {
     "data": {
      "text/plain": [
       "['Acer', 'Dell', 'HP', 'Apple', 'Microsoft']"
      ]
     },
     "execution_count": 3,
     "metadata": {},
     "output_type": "execute_result"
    }
   ],
   "source": [
    "# Shuffling a list of items randomly\n",
    "\n",
    "import random\n",
    "machines = ['HP', 'Dell', 'Microsoft', 'Apple', 'Acer']\n",
    "random.shuffle(machines)\n",
    "machines"
   ]
  },
  {
   "cell_type": "code",
   "execution_count": 4,
   "metadata": {},
   "outputs": [
    {
     "data": {
      "text/plain": [
       "['HP', 'Acer', 'Apple', 'Microsoft', 'Dell']"
      ]
     },
     "execution_count": 4,
     "metadata": {},
     "output_type": "execute_result"
    }
   ],
   "source": [
    "# Repeating the random shuffle\n",
    "\n",
    "random.shuffle(machines)\n",
    "machines"
   ]
  },
  {
   "cell_type": "markdown",
   "metadata": {},
   "source": [
    "---------------------------\n",
    "\n",
    "Another example is that we could get a 5 × 4 array of \"samples\" from the standard normal distribution using *normal* [2]:\n",
    "\n",
    "---------------------------"
   ]
  },
  {
   "cell_type": "code",
   "execution_count": 5,
   "metadata": {},
   "outputs": [
    {
     "data": {
      "text/plain": [
       "array([[-0.29949411,  0.45863439,  0.23609932,  0.39213722],\n",
       "       [ 0.79538379,  0.32829102,  0.38840433, -0.26405728],\n",
       "       [ 0.4685686 ,  1.15229844,  0.79814492, -0.93258662],\n",
       "       [ 1.56341622,  1.71581183, -0.74905407,  1.12355738],\n",
       "       [-1.12376213, -1.94375662,  1.94822359,  0.91155388]])"
      ]
     },
     "execution_count": 5,
     "metadata": {},
     "output_type": "execute_result"
    }
   ],
   "source": [
    "# Creating a randomly sampled array\n",
    "\n",
    "import numpy as np\n",
    "import random\n",
    "samples = np.random.normal(size=(5, 4))\n",
    "samples"
   ]
  },
  {
   "cell_type": "markdown",
   "metadata": {},
   "source": [
    "### Use of “Simple random data” and “Permutations” functions\n",
    "\n",
    "The random module's *simple random data* section is a collection of ten functions, which perform different tasks. The afforementioned *random.choice()* function above is an example of one of these functions. \n",
    "\n",
    "Another function example is the *random.randint()* function, which returns random integers from *low* (inclusive) to *high* (exclusive). We can also include a third *size* argument as seen below:"
   ]
  },
  {
   "cell_type": "code",
   "execution_count": 6,
   "metadata": {},
   "outputs": [
    {
     "data": {
      "text/plain": [
       "array([46, 29, 24, 14, 20, 61, 40])"
      ]
     },
     "execution_count": 6,
     "metadata": {},
     "output_type": "execute_result"
    }
   ],
   "source": [
    "# Generate seven random integers between 1 and 75\n",
    "\n",
    "import numpy as np\n",
    "np.random.randint(low=1, high=75, size=7) # specifying lower and upper values and array size"
   ]
  },
  {
   "cell_type": "markdown",
   "metadata": {},
   "source": [
    "We could also for example, produce a 4 x 4 numpy array of integers between 1 and 20:"
   ]
  },
  {
   "cell_type": "code",
   "execution_count": 86,
   "metadata": {},
   "outputs": [
    {
     "data": {
      "text/plain": [
       "array([[ 7, 11,  7,  7],\n",
       "       [ 6,  1, 14,  8],\n",
       "       [19, 13,  7,  8]])"
      ]
     },
     "execution_count": 86,
     "metadata": {},
     "output_type": "execute_result"
    }
   ],
   "source": [
    "y = np.random.randint(1, 20, size=(3, 4)) # assigning array code to y variable\n",
    "y"
   ]
  },
  {
   "cell_type": "markdown",
   "metadata": {},
   "source": [
    "We can also plot this random array nicely on a histogram:"
   ]
  },
  {
   "cell_type": "code",
   "execution_count": 87,
   "metadata": {},
   "outputs": [
    {
     "data": {
      "image/png": "[encoded data removed]",
      "text/plain": [
       "<Figure size 432x288 with 1 Axes>"
      ]
     },
     "metadata": {},
     "output_type": "display_data"
    }
   ],
   "source": [
    "# plotting a random array\n",
    "\n",
    "import matplotlib.pyplot as plt\n",
    "plt.title(\"GMIT randint histogram\") # Labelling the title\n",
    "plt.xlabel(\"Count\")                 # Labelling x axis\n",
    "plt.ylabel(\"Random integer\")        # Labelling y axis\n",
    "\n",
    "plt.hist(y, edgecolor='k')\n",
    "\n",
    "plt.show() # or use: %matplotlib inline"
   ]
  },
  {
   "cell_type": "markdown",
   "metadata": {},
   "source": [
    "The histogram is nicely defined showing a bar measure for each number in the array and how many times each occurs.\n",
    "\n",
    "\n",
    "Another useful function belonging to the simple random data suite is the *random.rand* function. \n",
    "\n",
    "*rand* will take ANY number of arguments in its parameters and returns a set of random values in a given shape. So for example, we could create an array of this given shape and fill it with random samples from a uniform distribution over;[0, 1).\n",
    "\n",
    "But what does this mean ? It, means that the outputted distribution can include any random (floating point) number between 0 and 1 but won't include 1 *itself*. If no argument is specified, a single float will be returned [3]. \n",
    "\n",
    "For example, using rand we could randomly construct a 2D or 3D numpy array:\n",
    "\n",
    "-----------------------------\n"
   ]
  },
  {
   "cell_type": "code",
   "execution_count": 26,
   "metadata": {},
   "outputs": [
    {
     "data": {
      "text/plain": [
       "array([[0.7356731 , 0.70830839, 0.10344341, 0.04139901],\n",
       "       [0.47125975, 0.03194845, 0.84777557, 0.34471699],\n",
       "       [0.41613219, 0.7402566 , 0.73720195, 0.42974194]])"
      ]
     },
     "execution_count": 26,
     "metadata": {},
     "output_type": "execute_result"
    }
   ],
   "source": [
    "# 2D array using rand function\n",
    "\n",
    "twoD = np.random.rand(3, 4) \n",
    "twoD"
   ]
  },
  {
   "cell_type": "code",
   "execution_count": 27,
   "metadata": {},
   "outputs": [
    {
     "data": {
      "text/plain": [
       "array([[[0.83212292, 0.25585343, 0.21820813],\n",
       "        [0.76797526, 0.02457421, 0.24483006],\n",
       "        [0.83923557, 0.06606951, 0.67475305],\n",
       "        [0.80593456, 0.82906448, 0.26040309],\n",
       "        [0.56566314, 0.75397005, 0.57429166]],\n",
       "\n",
       "       [[0.59211133, 0.10175676, 0.20625569],\n",
       "        [0.75576133, 0.76831791, 0.99845509],\n",
       "        [0.44475385, 0.77799727, 0.6674606 ],\n",
       "        [0.68856896, 0.81150182, 0.74306045],\n",
       "        [0.23872086, 0.83209952, 0.0308947 ]]])"
      ]
     },
     "execution_count": 27,
     "metadata": {},
     "output_type": "execute_result"
    }
   ],
   "source": [
    "# 3D array using rand function\n",
    "\n",
    "threeD = np.random.rand(2, 5, 3) \n",
    "threeD"
   ]
  },
  {
   "cell_type": "markdown",
   "metadata": {},
   "source": [
    "Indeed, interesting and useful, but for the purpose of gaining a better visualization of our random data, we will go a bit further and input our own number into the rand parameters and produce a nice scatterplot:"
   ]
  },
  {
   "cell_type": "code",
   "execution_count": 70,
   "metadata": {},
   "outputs": [
    {
     "data": {
      "image/png": "[encoded data removed]",
      "text/plain": [
       "<Figure size 432x288 with 1 Axes>"
      ]
     },
     "metadata": {},
     "output_type": "display_data"
    }
   ],
   "source": [
    "import numpy as np\n",
    "import matplotlib.pyplot\n",
    "\n",
    "# Creating our random scatteplot data [4].\n",
    "\n",
    "num = 135 # Number of random data points\n",
    "x = np.random.rand(num) # plots the random data positions (x and y axes)\n",
    "y = np.random.rand(num)\n",
    "colors = np.random.rand(num) # Using the random.rand function to create random colours on our points\n",
    "area = (20 * np.random.rand(num))**2  # This will determine the size properties of our scatter radii points\n",
    "\n",
    "# Setting the parameters of our plot [4].\n",
    "\n",
    "plt.scatter(x, y, s=area, c=colors, alpha=0.5, edgecolor = 'black') # \"s\" plots an array like shape; \"c\" plots the colour sequence;  \n",
    "                                                                    # \"alpha\" is the blending value between 0 (transparent) and 1 (opaque).\n",
    "                                                                    # edgecolour adds edge colours to the radii points\n",
    "plt.title('Scatterplot of GMIT random assignment data') # For labelling our visible title    \n",
    "plt.xlabel('random x data') # labelling my x axis\n",
    "plt.ylabel('random y data') # labelling my y axis \n",
    "plt.show()"
   ]
  },
  {
   "cell_type": "markdown",
   "metadata": {},
   "source": [
    "There we are, a simple and appealing plot of purely randomly generated data\n",
    "\n",
    "----------------------------"
   ]
  },
  {
   "cell_type": "markdown",
   "metadata": {},
   "source": [
    "------------------\n",
    "\n",
    "The module's *permutations* section is comprised of two more specialised funtions: *shuffle* and *permutation*. \n",
    "\n",
    "*shuffle* takes only one argument (x), and will modify a sequence in-place by shuffling its contents (as demonstrated in the example above). \n",
    "\n",
    "The shuffle function will also only shuffle an array along the first axis of a multi-dimensional array. The order of sub-arrays is changed but their contents remains the same [3]. So, below is another example of the shuffle function...we can shuffle a multidimensional array by row:"
   ]
  },
  {
   "cell_type": "code",
   "execution_count": 29,
   "metadata": {},
   "outputs": [
    {
     "data": {
      "text/plain": [
       "array([[0.10834139, 0.1412637 , 0.0486077 ],\n",
       "       [0.46433101, 0.54414437, 0.63437346],\n",
       "       [0.72391129, 0.8438917 , 0.85893299],\n",
       "       [0.40809962, 0.13411108, 0.13324288],\n",
       "       [0.11620161, 0.13656185, 0.25003297]])"
      ]
     },
     "execution_count": 29,
     "metadata": {},
     "output_type": "execute_result"
    }
   ],
   "source": [
    "# First we create our random array \"so_random\"\n",
    "\n",
    "so_random = np.random.random((5, 3)) # the random function returns random floats in the half-open interval [0.0, 1.0).\n",
    "so_random"
   ]
  },
  {
   "cell_type": "code",
   "execution_count": 30,
   "metadata": {},
   "outputs": [
    {
     "data": {
      "text/plain": [
       "array([[0.72391129, 0.8438917 , 0.85893299],\n",
       "       [0.46433101, 0.54414437, 0.63437346],\n",
       "       [0.10834139, 0.1412637 , 0.0486077 ],\n",
       "       [0.40809962, 0.13411108, 0.13324288],\n",
       "       [0.11620161, 0.13656185, 0.25003297]])"
      ]
     },
     "execution_count": 30,
     "metadata": {},
     "output_type": "execute_result"
    }
   ],
   "source": [
    "# Next we shuffle our so_random array\n",
    "\n",
    "np.random.shuffle(so_random) # our previous randomly shuffled z array of floats entered into the shuffle paramter\n",
    "so_random"
   ]
  },
  {
   "cell_type": "markdown",
   "metadata": {},
   "source": [
    "*permutation* will also take one argument (x) and randomly permute (randomly reorder) a sequence, or return a permuted range [3].\n",
    "\n",
    "While permutation appears to be very similar to the shuffle function, there are some differences. For example, if passed an array, permutation will return a shuffled copy of the array; np.random.shuffle shuffles the array *inplace*."
   ]
  },
  {
   "cell_type": "code",
   "execution_count": 20,
   "metadata": {},
   "outputs": [
    {
     "data": {
      "text/plain": [
       "array([ 2, 11,  1,  5, 13,  3, 23, 17, 19,  7])"
      ]
     },
     "execution_count": 20,
     "metadata": {},
     "output_type": "execute_result"
    }
   ],
   "source": [
    "# Here I'll input a list of primes numbers, and apply the permutation function:\n",
    "\n",
    "import numpy as np\n",
    "np.random.permutation([1, 2, 3, 5, 7, 11, 13, 17, 19, 23])"
   ]
  },
  {
   "cell_type": "code",
   "execution_count": 39,
   "metadata": {},
   "outputs": [
    {
     "data": {
      "text/plain": [
       "array([[ 0,  1,  2,  3,  4],\n",
       "       [ 5,  6,  7,  8,  9],\n",
       "       [10, 11, 12, 13, 14],\n",
       "       [15, 16, 17, 18, 19],\n",
       "       [20, 21, 22, 23, 24]])"
      ]
     },
     "execution_count": 39,
     "metadata": {},
     "output_type": "execute_result"
    }
   ],
   "source": [
    "# Now I'll apply permutation to an array.\n",
    "# First I'll create a random array:\n",
    "\n",
    "array_mix = np.arange(25).reshape((5, 5))\n",
    "array_mix"
   ]
  },
  {
   "cell_type": "code",
   "execution_count": 38,
   "metadata": {},
   "outputs": [
    {
     "data": {
      "text/plain": [
       "array([[ 0,  1,  2,  3,  4],\n",
       "       [15, 16, 17, 18, 19],\n",
       "       [ 5,  6,  7,  8,  9],\n",
       "       [10, 11, 12, 13, 14],\n",
       "       [20, 21, 22, 23, 24]])"
      ]
     },
     "execution_count": 38,
     "metadata": {},
     "output_type": "execute_result"
    }
   ],
   "source": [
    "# Now we will apply the permutation function to the array:\n",
    "\n",
    "np.random.permutation(array_mix)"
   ]
  },
  {
   "cell_type": "markdown",
   "metadata": {},
   "source": [
    "Permuting a series or the rows in a dataframe is also quite easy to achieve. "
   ]
  },
  {
   "cell_type": "code",
   "execution_count": 87,
   "metadata": {},
   "outputs": [
    {
     "data": {
      "text/html": [
       "<div>\n",
       "<style scoped>\n",
       "    .dataframe tbody tr th:only-of-type {\n",
       "        vertical-align: middle;\n",
       "    }\n",
       "\n",
       "    .dataframe tbody tr th {\n",
       "        vertical-align: top;\n",
       "    }\n",
       "\n",
       "    .dataframe thead th {\n",
       "        text-align: right;\n",
       "    }\n",
       "</style>\n",
       "<table border=\"1\" class=\"dataframe\">\n",
       "  <thead>\n",
       "    <tr style=\"text-align: right;\">\n",
       "      <th></th>\n",
       "      <th>0</th>\n",
       "      <th>1</th>\n",
       "      <th>2</th>\n",
       "      <th>3</th>\n",
       "      <th>4</th>\n",
       "      <th>5</th>\n",
       "      <th>6</th>\n",
       "    </tr>\n",
       "  </thead>\n",
       "  <tbody>\n",
       "    <tr>\n",
       "      <th>0</th>\n",
       "      <td>0</td>\n",
       "      <td>1</td>\n",
       "      <td>2</td>\n",
       "      <td>3</td>\n",
       "      <td>4</td>\n",
       "      <td>5</td>\n",
       "      <td>6</td>\n",
       "    </tr>\n",
       "    <tr>\n",
       "      <th>1</th>\n",
       "      <td>7</td>\n",
       "      <td>8</td>\n",
       "      <td>9</td>\n",
       "      <td>10</td>\n",
       "      <td>11</td>\n",
       "      <td>12</td>\n",
       "      <td>13</td>\n",
       "    </tr>\n",
       "    <tr>\n",
       "      <th>2</th>\n",
       "      <td>14</td>\n",
       "      <td>15</td>\n",
       "      <td>16</td>\n",
       "      <td>17</td>\n",
       "      <td>18</td>\n",
       "      <td>19</td>\n",
       "      <td>20</td>\n",
       "    </tr>\n",
       "    <tr>\n",
       "      <th>3</th>\n",
       "      <td>21</td>\n",
       "      <td>22</td>\n",
       "      <td>23</td>\n",
       "      <td>24</td>\n",
       "      <td>25</td>\n",
       "      <td>26</td>\n",
       "      <td>27</td>\n",
       "    </tr>\n",
       "    <tr>\n",
       "      <th>4</th>\n",
       "      <td>28</td>\n",
       "      <td>29</td>\n",
       "      <td>30</td>\n",
       "      <td>31</td>\n",
       "      <td>32</td>\n",
       "      <td>33</td>\n",
       "      <td>34</td>\n",
       "    </tr>\n",
       "  </tbody>\n",
       "</table>\n",
       "</div>"
      ],
      "text/plain": [
       "    0   1   2   3   4   5   6\n",
       "0   0   1   2   3   4   5   6\n",
       "1   7   8   9  10  11  12  13\n",
       "2  14  15  16  17  18  19  20\n",
       "3  21  22  23  24  25  26  27\n",
       "4  28  29  30  31  32  33  34"
      ]
     },
     "execution_count": 87,
     "metadata": {},
     "output_type": "execute_result"
    }
   ],
   "source": [
    "# Creating a dataframe\n",
    "\n",
    "import pandas as pd\n",
    "GMIT_df = pd.DataFrame(np.arange(7 * 5).reshape((5, 7))) # Arranges and shapes the amount of rows and columns in the dataframe (GMIT_df)\n",
    "GMIT_df"
   ]
  },
  {
   "cell_type": "code",
   "execution_count": 88,
   "metadata": {},
   "outputs": [
    {
     "data": {
      "text/plain": [
       "array([[21, 22, 23, 24, 25, 26, 27],\n",
       "       [ 0,  1,  2,  3,  4,  5,  6],\n",
       "       [ 7,  8,  9, 10, 11, 12, 13],\n",
       "       [28, 29, 30, 31, 32, 33, 34],\n",
       "       [14, 15, 16, 17, 18, 19, 20]])"
      ]
     },
     "execution_count": 88,
     "metadata": {},
     "output_type": "execute_result"
    }
   ],
   "source": [
    "# Permuting the dataframe\n",
    "\n",
    "np.random.permutation(GMIT_df)"
   ]
  },
  {
   "cell_type": "markdown",
   "metadata": {},
   "source": [
    "Calling permutation with the length of the axis you want to permute produces an array of integers indicating the new\n",
    "ordering [1]:"
   ]
  },
  {
   "cell_type": "code",
   "execution_count": 99,
   "metadata": {},
   "outputs": [
    {
     "data": {
      "text/plain": [
       "array([4, 2, 1, 0, 3])"
      ]
     },
     "execution_count": 99,
     "metadata": {},
     "output_type": "execute_result"
    }
   ],
   "source": [
    "# Producing random array\n",
    "\n",
    "sample_arr = np.random.permutation(5) # Permuting array \n",
    "sample_arr"
   ]
  },
  {
   "cell_type": "markdown",
   "metadata": {},
   "source": [
    "This array can now be used in iloc-based indexing (by incorporating the *take* function) with our above dataframe (GMIT_DF) [1]:"
   ]
  },
  {
   "cell_type": "code",
   "execution_count": 101,
   "metadata": {},
   "outputs": [
    {
     "data": {
      "text/html": [
       "<div>\n",
       "<style scoped>\n",
       "    .dataframe tbody tr th:only-of-type {\n",
       "        vertical-align: middle;\n",
       "    }\n",
       "\n",
       "    .dataframe tbody tr th {\n",
       "        vertical-align: top;\n",
       "    }\n",
       "\n",
       "    .dataframe thead th {\n",
       "        text-align: right;\n",
       "    }\n",
       "</style>\n",
       "<table border=\"1\" class=\"dataframe\">\n",
       "  <thead>\n",
       "    <tr style=\"text-align: right;\">\n",
       "      <th></th>\n",
       "      <th>0</th>\n",
       "      <th>1</th>\n",
       "      <th>2</th>\n",
       "      <th>3</th>\n",
       "      <th>4</th>\n",
       "      <th>5</th>\n",
       "      <th>6</th>\n",
       "    </tr>\n",
       "  </thead>\n",
       "  <tbody>\n",
       "    <tr>\n",
       "      <th>4</th>\n",
       "      <td>28</td>\n",
       "      <td>29</td>\n",
       "      <td>30</td>\n",
       "      <td>31</td>\n",
       "      <td>32</td>\n",
       "      <td>33</td>\n",
       "      <td>34</td>\n",
       "    </tr>\n",
       "    <tr>\n",
       "      <th>2</th>\n",
       "      <td>14</td>\n",
       "      <td>15</td>\n",
       "      <td>16</td>\n",
       "      <td>17</td>\n",
       "      <td>18</td>\n",
       "      <td>19</td>\n",
       "      <td>20</td>\n",
       "    </tr>\n",
       "    <tr>\n",
       "      <th>1</th>\n",
       "      <td>7</td>\n",
       "      <td>8</td>\n",
       "      <td>9</td>\n",
       "      <td>10</td>\n",
       "      <td>11</td>\n",
       "      <td>12</td>\n",
       "      <td>13</td>\n",
       "    </tr>\n",
       "    <tr>\n",
       "      <th>0</th>\n",
       "      <td>0</td>\n",
       "      <td>1</td>\n",
       "      <td>2</td>\n",
       "      <td>3</td>\n",
       "      <td>4</td>\n",
       "      <td>5</td>\n",
       "      <td>6</td>\n",
       "    </tr>\n",
       "    <tr>\n",
       "      <th>3</th>\n",
       "      <td>21</td>\n",
       "      <td>22</td>\n",
       "      <td>23</td>\n",
       "      <td>24</td>\n",
       "      <td>25</td>\n",
       "      <td>26</td>\n",
       "      <td>27</td>\n",
       "    </tr>\n",
       "  </tbody>\n",
       "</table>\n",
       "</div>"
      ],
      "text/plain": [
       "    0   1   2   3   4   5   6\n",
       "4  28  29  30  31  32  33  34\n",
       "2  14  15  16  17  18  19  20\n",
       "1   7   8   9  10  11  12  13\n",
       "0   0   1   2   3   4   5   6\n",
       "3  21  22  23  24  25  26  27"
      ]
     },
     "execution_count": 101,
     "metadata": {},
     "output_type": "execute_result"
    }
   ],
   "source": [
    "# Applying the permuted array to re-index dataframe\n",
    "\n",
    "GMIT_df.take(sample_arr) # \"take\" takes elements from an array along an axis\n"
   ]
  },
  {
   "cell_type": "markdown",
   "metadata": {},
   "source": [
    "### Use and purpose of  “Distributions” functions"
   ]
  },
  {
   "cell_type": "markdown",
   "metadata": {},
   "source": [
    "Numpy's random distribution functions is a suite of probabilty distributions of many different varieties. But what is a probability distribution? \n",
    "\n",
    "Well, A probability distribution is a table or an equation that links each outcome of a statistical experiment with its probability of occurrence. That is, it provides the probabilities of occurrence of different possible *outcomes* of any given experiment [5].\n",
    "\n",
    "To get a better understanding of probability distributions we need to understand random variables.\n",
    "\n",
    "A variables is a symbol (A, B, x, y, z etc) that can adopt any specified set of values. When the value of a variable is the result of a statistical experiment, then it is known as a random variable.\n",
    "\n",
    "To explain the relationship between random variables and probability distributions imagine flipping a coin twice.\n",
    "\n",
    "This very basic statistical experiment can have four possible outcomes:\n",
    "\n",
    "* **Heads/Heads**\n",
    "* **Heads/Tails**\n",
    "* **Tails/Heads**\n",
    "* **Tails/Tails**\n",
    "\n",
    "\"X\" represents the number of heads that result from our experiment with its probability of occurence. The table below, which associates each outcome with its chance of occuring (probability), is an example of a basic probabilty distribution.\n",
    "\n",
    "| No. of heads (X) | Probabilty |\n",
    "| :--------------: | :--------: |\n",
    "| 0                | 0.25       |\n",
    "| 1                | 0.50       |\n",
    "| 2                | 0.25       |\n",
    "\n",
    "----------------------"
   ]
  },
  {
   "cell_type": "markdown",
   "metadata": {},
   "source": [
    "#### Normal distribution\n",
    "\n",
    "The normal distribution (also known as the Gaussian distribution or bell curve) is the most important probability distribution in statistics because it fits many natural phenomena. For example, heights, blood pressure, measurement error, and IQ scores follow the normal distribution.  \n",
    "\n",
    "The normal distribution is symmetric and most of the observations cluster around the central peak and the probabilities for values further away from the mean taper off equally in both directions. Extreme values in both tails of the distribution are also unlikely, they are know as outliers [6].\n",
    "\n",
    "The parameters for the normal distribution define its shape and probabilities. The normal distribution has two parameters, the mean and standard deviation: \n",
    "\n",
    "* The mean (M) is the central tendency of the distribution. It defines the location of the peak for normal distributions. Most values cluster around the mean. \n",
    "\n",
    "* The standard deviation (SD) is a measure of variability. It defines the width of the normal distribution. The standard deviation determines how far away from the mean the values tend to fall. It represents the typical distance between the observations and the average [6].\n",
    "\n",
    "numpy.random.normal draws random samples from a normal distribution. It has three parameters: location (M), scale (SD) and size (optional).\n",
    "\n",
    "Let's have a look at a few examples:\n",
    "\n",
    "\n"
   ]
  },
  {
   "cell_type": "code",
   "execution_count": 137,
   "metadata": {
    "scrolled": true
   },
   "outputs": [
    {
     "data": {
      "text/plain": [
       "array([ 1.18171251e-01, -7.74848230e-02, -1.10990966e-02,  3.17810675e-02,\n",
       "       -7.76462608e-02, -2.55453843e-02, -1.95912727e-01, -1.60564289e-01,\n",
       "        7.46724246e-02,  8.44085959e-02, -1.17557321e-01,  2.92270546e-02,\n",
       "       -1.49315235e-01,  2.14812934e-02, -2.70004280e-02,  7.92754684e-03,\n",
       "        1.08442466e-01,  1.02283809e-01,  2.69384349e-02, -4.70555718e-02,\n",
       "        1.24289556e-02, -9.07064047e-02,  1.84512411e-01,  8.52833432e-02,\n",
       "        1.36176194e-01, -4.31756897e-02,  1.51995793e-01,  2.06836917e-01,\n",
       "        6.46547815e-02, -6.57608246e-02, -5.15950150e-02,  1.13232611e-01,\n",
       "        1.63639897e-01, -4.34894013e-02,  1.12510795e-01,  2.49903358e-02,\n",
       "        7.87308534e-02,  1.23095968e-01,  1.30043698e-02, -9.84321818e-02,\n",
       "       -3.79280978e-02,  1.00828655e-01, -6.24154818e-02, -1.04041050e-02,\n",
       "       -1.44458416e-01,  4.78793498e-02, -3.41826390e-02,  6.48973774e-02,\n",
       "       -1.90656943e-02, -2.46104722e-02, -1.15842569e-01, -3.59036585e-02,\n",
       "       -4.09347517e-02, -1.21543195e-01, -1.27086566e-01, -6.48280005e-02,\n",
       "        9.12158648e-02, -9.32460645e-02,  1.15471398e-01,  4.22689347e-02,\n",
       "       -1.01974107e-01,  1.20098577e-01, -3.51461387e-03,  1.27167276e-01,\n",
       "        5.46931327e-02,  6.68509489e-02, -1.18142736e-01,  1.20287934e-01,\n",
       "       -2.11872747e-02, -5.43991965e-02,  1.33102847e-01,  9.79602406e-02,\n",
       "        2.00844192e-01,  5.45707925e-02, -2.02491880e-01,  1.02872609e-01,\n",
       "       -8.76665846e-02,  1.15581615e-01,  3.83968816e-03,  3.89111789e-02,\n",
       "       -1.83515879e-02, -1.33743522e-02,  6.75449564e-02, -1.24138988e-01,\n",
       "        1.75070315e-01,  9.95687556e-04,  1.92350123e-01,  8.75447398e-03,\n",
       "        1.17345527e-01,  1.35481473e-01,  2.64148526e-02,  4.31512898e-02,\n",
       "       -1.89952596e-02,  7.56980398e-02,  1.88318183e-01, -3.56579196e-02,\n",
       "       -1.86845087e-01, -3.08246699e-02, -2.04787896e-01, -7.96010621e-02,\n",
       "       -1.13376522e-02, -1.40803308e-01, -1.48572519e-02,  1.28028220e-02,\n",
       "        6.44641313e-03,  4.40067958e-02,  3.72175137e-02, -1.12686395e-01,\n",
       "       -4.37034613e-02, -6.94435380e-02, -1.37079157e-01, -2.00386789e-02,\n",
       "       -6.71045721e-02,  1.72650272e-02, -5.50762697e-02, -3.60698375e-03,\n",
       "        7.49407453e-02,  2.30259584e-04,  8.86712731e-03,  9.68320924e-02,\n",
       "        1.96292885e-01,  1.71128173e-01,  4.74124215e-02, -1.06966926e-01,\n",
       "       -5.36873459e-02, -4.24212755e-02, -1.01865710e-01, -3.02559241e-01,\n",
       "        1.34086205e-01, -1.25371410e-02, -4.20853342e-02, -2.31573008e-01,\n",
       "        1.08608123e-01,  5.58541034e-02, -5.54390464e-02,  1.72670636e-01,\n",
       "       -1.22168761e-02, -4.29001897e-02,  5.94242195e-02, -2.08111884e-02,\n",
       "       -9.19403631e-02, -1.71108519e-02,  4.92596370e-02,  1.65584988e-02,\n",
       "        1.20040540e-01,  5.07165586e-03,  1.48363555e-02, -1.08677130e-02,\n",
       "        1.57101115e-02, -3.17146395e-02,  6.12102816e-02,  2.75437619e-02,\n",
       "       -7.09357974e-02,  9.00132076e-02, -1.35925525e-02, -6.36736478e-02,\n",
       "        5.49871024e-02,  5.39136439e-02, -4.71594882e-02, -3.22631248e-01,\n",
       "       -3.86283077e-02, -2.42059600e-02, -1.39795785e-01,  1.40085282e-01,\n",
       "        1.47192874e-01, -7.96962441e-02,  6.19284415e-02,  1.02345721e-01,\n",
       "       -2.91213273e-01, -7.46340445e-02,  2.30872382e-02, -1.17302390e-01,\n",
       "        1.06048219e-01,  1.61987103e-02, -6.43302736e-02, -1.60528601e-02,\n",
       "        9.38481895e-02,  2.24549396e-02, -7.06385094e-02,  7.10616935e-02,\n",
       "        1.09400167e-02,  7.05993466e-02, -2.03524636e-01, -1.75554009e-01,\n",
       "        4.48920288e-03, -2.28426268e-02, -1.06300365e-01,  5.67654482e-03,\n",
       "       -1.59519572e-01,  1.62587919e-01, -1.89332914e-01,  1.73447268e-01,\n",
       "       -6.12745934e-02,  1.18988855e-01,  2.57243494e-02,  5.53388998e-02,\n",
       "       -4.09189234e-02, -5.94509386e-02, -1.17071580e-01,  8.56910874e-02,\n",
       "        9.44912719e-02,  1.01068478e-01, -1.43798916e-01, -4.45317757e-04,\n",
       "        1.11591924e-02,  1.29762347e-01,  5.48026309e-02,  2.45268634e-02,\n",
       "        1.28351156e-01, -4.05701477e-02,  2.67395338e-02,  1.15277657e-01,\n",
       "        3.26477263e-02, -1.28051253e-02, -5.24609003e-02,  1.49323335e-01,\n",
       "        1.48861807e-01,  3.28330689e-02,  2.42493020e-02, -1.30576311e-02,\n",
       "       -9.12716308e-02, -7.83970715e-02, -5.78853726e-02,  9.86015014e-02,\n",
       "       -1.30433396e-01, -1.76174198e-02, -2.14666931e-02, -1.71713785e-02,\n",
       "        1.60551745e-02,  8.74301986e-03, -1.09630294e-02, -1.04278302e-01,\n",
       "        1.37629112e-02, -1.35014678e-01,  1.22892852e-01,  2.16273685e-02,\n",
       "       -3.80352205e-02,  8.22140152e-02,  5.22421812e-04, -8.62713217e-02,\n",
       "        1.77464632e-03,  1.94684091e-02,  4.61752939e-02, -5.13114615e-02,\n",
       "        3.78362646e-02, -2.22641570e-03,  6.35396908e-02,  1.35638477e-01,\n",
       "       -9.91094230e-02, -1.12838000e-01,  1.64312943e-01,  4.15273394e-02,\n",
       "       -3.26470539e-03,  2.29755053e-01,  1.19924981e-01,  1.63337081e-03,\n",
       "        3.24957343e-02, -7.08408368e-03, -1.13549719e-01, -1.73921955e-02,\n",
       "        1.16393254e-02, -2.97172405e-02,  1.20931929e-01,  1.35176090e-02,\n",
       "        1.55149770e-02,  2.46803628e-02, -1.25441962e-01,  4.91365943e-02,\n",
       "       -1.50099034e-01, -1.58493031e-02, -4.55167622e-02,  5.56431279e-02,\n",
       "        1.98086507e-02, -1.26706150e-01,  6.39176110e-02, -1.91600357e-01,\n",
       "       -6.92694169e-02, -1.26202787e-01,  9.60100122e-02, -1.63311433e-01,\n",
       "       -5.07280433e-02,  1.26689289e-01,  1.16382739e-01, -2.65772446e-02,\n",
       "        1.38263739e-01,  1.25177060e-02,  1.58544135e-01,  2.43790157e-02,\n",
       "        4.67110517e-02,  2.25572033e-02, -1.02239938e-01,  1.19990968e-01,\n",
       "       -6.41498903e-02, -3.30051339e-02, -4.68106135e-02, -2.79044398e-02,\n",
       "        1.57341330e-01,  2.67678669e-01,  1.45358268e-02, -1.29669966e-01,\n",
       "        1.23648365e-01, -1.57101745e-03, -7.53884418e-02,  5.28553234e-02,\n",
       "        1.11875756e-01, -4.42112279e-02,  1.20359601e-01, -9.25895296e-02,\n",
       "        5.76313062e-02,  1.59510195e-02,  1.89430058e-02,  8.83887187e-02,\n",
       "       -7.52864240e-02, -1.62239834e-02, -1.17119935e-01,  6.08428972e-02,\n",
       "       -1.40568108e-01,  1.79098601e-01,  2.55187831e-02,  2.57014743e-02,\n",
       "       -2.91470277e-02, -1.09083171e-03, -7.12734096e-02, -2.43507956e-01,\n",
       "        6.43842796e-02,  3.40546302e-02,  1.08051980e-01, -1.52735242e-01,\n",
       "        1.94578793e-01, -2.17076923e-02, -5.11463309e-02,  6.52965429e-02,\n",
       "        1.12886693e-02, -1.50565772e-01,  1.80799525e-01, -4.10910786e-02,\n",
       "        2.00159108e-01, -7.91385224e-02,  1.49174793e-02, -9.58182473e-02,\n",
       "        9.30068561e-02, -6.53140085e-03, -3.59254204e-02, -1.07676863e-01,\n",
       "       -3.10849170e-02, -2.96362674e-03,  4.79936895e-02,  1.46287276e-01,\n",
       "       -9.33578863e-02, -1.89092676e-01, -9.19219721e-02,  2.24898494e-01,\n",
       "       -1.21505956e-02,  8.29678364e-02,  7.74639406e-02,  5.50248802e-02,\n",
       "        2.40192509e-02, -6.46216721e-02,  2.68440965e-03,  7.42887545e-03,\n",
       "        1.08037186e-01, -1.08069705e-01,  1.06611430e-01, -4.75447573e-02,\n",
       "       -1.03109603e-01, -1.21188678e-02, -1.19921677e-01, -1.17439163e-01,\n",
       "        1.13844633e-01, -6.54217900e-02, -3.96096110e-02,  7.58763864e-02,\n",
       "       -1.34783528e-01,  1.39075588e-01,  7.82697859e-02, -5.72825239e-02,\n",
       "       -2.45010253e-03, -2.73665042e-02,  4.94793027e-02, -1.84049672e-02,\n",
       "        9.77983416e-02, -3.10983692e-02,  2.04106433e-02, -1.10854138e-01,\n",
       "       -4.67529168e-02, -1.60841610e-01, -1.10098279e-02, -9.14855054e-02,\n",
       "       -2.61014678e-02, -1.95585847e-01,  7.36659159e-02, -1.14316787e-01,\n",
       "       -1.28301945e-01, -1.25893727e-01,  9.99009070e-02,  1.37140180e-02,\n",
       "       -2.13175882e-02, -1.54216566e-01,  2.80813636e-02, -9.10492715e-02,\n",
       "       -1.64121433e-01,  7.37820131e-02,  6.02881533e-02, -6.40833284e-02,\n",
       "       -9.17471828e-02,  6.07475986e-02, -1.72891434e-01, -4.54018071e-02,\n",
       "        1.30574284e-01,  1.26700874e-01, -2.74273509e-02, -6.00507004e-02,\n",
       "       -4.86372361e-02,  9.28976172e-02,  4.40773736e-02,  1.30516811e-02,\n",
       "       -1.57866154e-01, -8.59299880e-02, -1.01259312e-02, -1.18229567e-01,\n",
       "       -7.84045645e-02,  1.79721775e-02, -1.63265385e-02,  6.49547071e-02,\n",
       "       -8.90977702e-02,  4.04842481e-02, -7.69235257e-02, -9.34762485e-02,\n",
       "       -6.82269865e-02, -3.37397420e-02, -8.89532926e-02,  1.48614693e-01,\n",
       "       -2.85112555e-02,  1.52621132e-02, -1.12976899e-01,  9.81181764e-02,\n",
       "       -3.87631597e-03,  7.59998939e-02,  3.97246998e-02,  1.32143295e-01,\n",
       "        3.63268961e-02, -6.14060554e-02, -3.22707687e-01, -1.18539291e-01,\n",
       "        2.14850302e-02,  1.46211040e-01,  8.15213008e-03,  5.31204905e-02,\n",
       "       -3.51922234e-02,  9.72380888e-02, -4.69534945e-02, -3.14833045e-02,\n",
       "        3.44855428e-02, -2.27304635e-02, -4.74808003e-02, -2.44562413e-02,\n",
       "       -8.31319402e-03, -4.31377883e-02, -2.27128455e-02, -1.43803133e-01,\n",
       "        9.23876842e-02,  8.49382264e-03, -2.36826291e-01,  6.20824021e-02,\n",
       "       -3.56565395e-02,  5.80631479e-02,  1.28326442e-02, -2.32477425e-02,\n",
       "       -1.35583373e-02,  9.93978035e-02,  1.83807956e-01,  6.21604195e-02,\n",
       "        3.71186606e-02,  3.34483048e-02,  8.68058952e-02, -2.55422932e-02,\n",
       "        2.00229126e-01, -5.04781216e-02, -3.09303571e-02,  1.14604318e-01,\n",
       "       -2.36374829e-02, -5.09240082e-02, -1.22210753e-01,  7.65552186e-02,\n",
       "       -1.26592516e-01,  6.76893902e-02, -7.96023272e-02, -6.90029516e-02,\n",
       "       -5.03485938e-02,  1.11980386e-02,  5.99205961e-02,  1.07045035e-01,\n",
       "        8.44604270e-04,  6.39801106e-02,  5.74232136e-02, -2.25501638e-01,\n",
       "       -8.25194846e-02,  8.42167014e-02,  1.42184930e-01, -1.40391842e-01])"
      ]
     },
     "execution_count": 137,
     "metadata": {},
     "output_type": "execute_result"
    }
   ],
   "source": [
    "# Let's take samples from a normal distribution\n",
    "\n",
    "import numpy as np\n",
    " \n",
    "M, SD, = 0, 0.1 # Creating our Mean and Standard Deviation variables\n",
    "examples = np.random.normal(M, SD, size=500) # (Mean, stanard deviation, size)\n",
    "examples"
   ]
  },
  {
   "cell_type": "markdown",
   "metadata": {},
   "source": [
    "Now let's plot or samples:"
   ]
  },
  {
   "cell_type": "code",
   "execution_count": 211,
   "metadata": {},
   "outputs": [
    {
     "data": {
      "image/png": "[encoded data removed]",
      "text/plain": [
       "<Figure size 432x288 with 1 Axes>"
      ]
     },
     "metadata": {},
     "output_type": "display_data"
    }
   ],
   "source": [
    "# Creating a histogram of our normal distribution samples:\n",
    "\n",
    "import numpy as np\n",
    "import matplotlib.pyplot as plt\n",
    "%matplotlib inline\n",
    "\n",
    "# Configuring the details of the histogram output [3]:\n",
    "\n",
    "plt.hist(examples, bins=40, density=True, edgecolor='k') # Adding sample count, amount of bins and density function line (True = normal),\n",
    "                                                         # and adding edgecolour to the bins\n",
    "\n",
    "plt.plot(bins, 1/(SD * np.sqrt(2 * np.pi)) * np.exp( - (bins - M)**2 / (2 * SD**2) ), linewidth=2, color='r', label=\"Probability density function\")        \n",
    "plt.legend() # Adding a legend box into the plot\n",
    "plt.ylabel('Random examples') # labelling my y axis\n",
    "plt.xlabel('Mean and standard deviations') # labelling my x axis \n",
    "plt.title(' Normal distribution') # Adding title\n",
    "\n",
    "plt.show()"
   ]
  },
  {
   "cell_type": "markdown",
   "metadata": {},
   "source": [
    "The normal distribution plot above clearly shows some interesting features. Indeed, when we say that it is *distributed*, it means that the normal distribution has symmetry around its centre and that roughly 50% of the values are less that the mean (M), and 50% are greater.\n",
    "\n",
    "As previously mentioned, the standard deviation (SD) is a measure of how the sample numbers are spread out. For example, typically in a normal distribution 68% of the values lie within 1 SD's of the mean i.e. -0.1 or 0.1 which you should be able to visualize above. Ninety-five percent of the values lie within 2 SD's and 98% within 3 SD's [7]. Any outliers (or extreme scores) that are within this area of the distribution will tend to skew the distribution to the left or right and thus affect certain statistical tests such as the reliability of regression models. \n",
    "\n",
    "There are several other reasons why the normal distribution is important in statistics and data science. One example is in central limit theorem, which states that as the sample size increases, the sampling distribution of the mean follows a normal distribution even when the underlying distribution of the original variable is non-normal [6].\n",
    "\n",
    "Another crucial reason is for plotting *Z-scores* so that we can compare data of different measurement types: \n",
    "\n",
    "Despite their slightly different shapes, all forms of the normal distribution share similar properties. The standard normal distribution is a special case in that the mean is 0 and the SD is 1. This is what is known as the Z-distribution and this is extremely useful when \"converting\" scores of different data measurements. For example, the mean will always have a Z-score of 0.\n",
    "\n",
    "Z-scores allow us to compare observations drawn from normally distributed populations which have *different* mean and SDs and compare them on a standard scale, a process called *standardization*. To do this we convert the raw data measurements into Z-scores so that we can compare different types of data along the **same** scale. \n",
    "\n",
    "The Z-score formula is calculated by subtracting the total score from the mean and then dividing it by standard deviation.\n",
    "For example:  \n",
    "\n",
    "The grades on a data analytics exam have a mean of 85 and a SD of 2.\n",
    "\n",
    "Gareth scored 86 on the exam.\n",
    "\n",
    "Thus, to find the Z-score for Gareth's exam grade we do the following [8]:\n",
    "\n",
    "\n",
    "\n",
    "\n",
    "\n",
    "\n"
   ]
  },
  {
   "cell_type": "code",
   "execution_count": 3,
   "metadata": {},
   "outputs": [],
   "source": [
    "#     Gareth's grade - mean grade\n",
    "# Z = ---------------------------\n",
    "#        Standard deviation\n",
    "            \n",
    "#     86-85\n",
    "# Z = -----\n",
    "#       2\n",
    "\n",
    "#     1   \n",
    "# Z= --- = 0.5\n",
    "#     2\n",
    "    \n",
    "# Thus Gareth's Z score is 0.5, meaning his grade was half an SD above the class mean"
   ]
  },
  {
   "cell_type": "markdown",
   "metadata": {},
   "source": [
    "------------------------"
   ]
  },
  {
   "cell_type": "markdown",
   "metadata": {},
   "source": [
    "#### Binomial distribution\n",
    "\n",
    "A binomial distribution tells us the probability of how often there will be a success in *n* independent experiments. Such experiments are yes/no, true/false or success/failure questions, i.e. only two possible outcomes. One example may be tossing a coin, where the probabilty of sucess and failure is the same. A single success/failure esperiment is also knowm as a Bernoulli trial because the binomial distribution was derived by James Bernoulli.\n",
    "\n",
    "Samples are drawn from a binomial distribution with specified parameters, *n* trials and *p* probability of success where *n* an integer >= 0 and *p* is in the interval [0,1]. Adding a *size* parameter is optional [3]. \n",
    "Each trial is independent since the outcome doesn't affect the outcome of the current coin toss.\n",
    "So:\n",
    "\n",
    "n = number of trials\n",
    "p = probability event of interest occurs on any one trial (success)\n",
    "size = number of times you want to run this experiment\n",
    "\n",
    "Let's look at an example:"
   ]
  },
  {
   "cell_type": "code",
   "execution_count": 72,
   "metadata": {},
   "outputs": [
    {
     "data": {
      "text/plain": [
       "3"
      ]
     },
     "execution_count": 72,
     "metadata": {},
     "output_type": "execute_result"
    }
   ],
   "source": [
    "# The number n of heads (successes) in 4 coin ﬂips (Bernoulli trials) with probability 0.5 of heads is Binomially distributed \n",
    "\n",
    "flips = 4\n",
    "prob = 0.5\n",
    "np.random.binomial(flips, prob) "
   ]
  },
  {
   "cell_type": "code",
   "execution_count": 87,
   "metadata": {},
   "outputs": [
    {
     "data": {
      "text/plain": [
       "array([1, 2, 2, 2, 3, 3, 3, 2, 2, 2, 3, 1, 2, 3, 0, 2, 3, 2, 2, 2, 0, 1,\n",
       "       0, 2, 0, 2, 4, 3, 3, 1, 4, 2, 3, 2, 4, 1, 1, 3, 2, 2, 1, 3, 0, 3,\n",
       "       3, 2, 3, 2, 3, 1, 3, 3, 1, 3, 2, 3, 2, 3, 2, 2, 0, 1, 3, 3, 2, 2,\n",
       "       1, 1, 1, 2, 2, 2, 1, 3, 2, 4, 0, 1, 1, 2, 3, 2, 2, 1, 3, 3, 2, 1,\n",
       "       3, 3, 1, 1, 1, 3, 2, 1, 2, 0, 4, 4, 3, 3, 4, 3, 2, 2, 1, 2, 2, 3,\n",
       "       2, 1, 1, 2, 2, 2, 2, 1, 1, 2, 2, 3, 2, 2, 3, 4, 2, 2, 3, 3, 2, 1,\n",
       "       2, 2, 4, 2, 3, 4, 3, 1, 1, 2, 2, 4, 2, 4, 2, 1, 2, 2, 2, 0, 3, 3,\n",
       "       1, 3, 3, 3, 3, 1, 4, 1, 2, 2, 2, 2, 2, 0, 2, 1, 2, 4, 0, 3, 1, 3,\n",
       "       1, 1, 3, 3, 0, 0, 1, 2, 4, 1, 1, 4, 2, 2, 1, 1, 2, 2, 3, 4, 3, 2,\n",
       "       2, 2])"
      ]
     },
     "execution_count": 87,
     "metadata": {},
     "output_type": "execute_result"
    }
   ],
   "source": [
    "# Now we can look at the array of number of successful flips from running the experiment 200 times\n",
    "\n",
    "bernoulli = np.random.binomial(flips, prob, size = 200)\n",
    "bernoulli"
   ]
  },
  {
   "cell_type": "markdown",
   "metadata": {},
   "source": [
    "Now we can plot the results of this binomial experiment:"
   ]
  },
  {
   "cell_type": "code",
   "execution_count": 149,
   "metadata": {},
   "outputs": [
    {
     "data": {
      "image/png": "[encoded data removed]",
      "text/plain": [
       "<Figure size 432x288 with 1 Axes>"
      ]
     },
     "metadata": {},
     "output_type": "display_data"
    }
   ],
   "source": [
    "import matplotlib.pyplot as plt\n",
    "%matplotlib inline\n",
    "\n",
    "plt.hist(bernoulli, density=True, edgecolor='k')    # Adding sample count, amount of bins and density function line (True = normal),\n",
    "                                                    # and adding edgecolour to the bins\n",
    "\n",
    "# Configuring the details of the histogram output [3].\n",
    "\n",
    "plt.plot(linewidth=2, color='r', edgecolor= 'k')\n",
    "plt.ylabel('Frequency') # labelling my y axis\n",
    "plt.xlabel('Count') # labelling my x axis \n",
    "plt.title('Binomial distribution') # Adding title\n",
    "\n",
    "plt.show()"
   ]
  },
  {
   "cell_type": "markdown",
   "metadata": {},
   "source": [
    "Above our outcome shows that most of the 4 coin flips resulted in mostly 2 ending up heads, while many ended up tails.  Remember, if we run an experiment where the outcome of success was equal to the outcome of failure, the outcome plot will tend to look like the normal distribution, as is the case above because our probabilty alpha is 0.5 (50% chance of success). Conversely, the case of repeated \"failures\" i.e. the coin landing in tails, will tend to skew the binomial distribution to the left. In the event of most flips turning up heads, the skew on the the binomial distribution would be to the right.\n",
    "\n",
    "We can imagine many other instances where the binomial distribution is at play such as a yes or no game show, a player taking a penalty (scoring or not scoring) or when a six-sided die is rolled ten times, and the number of 6's is recorded. All of these examples are binomial experiments and we need to remember that a binomial experiment is as previously explained, an experiment which satisfies 4 conditions:\n",
    "\n",
    "* A fixed number of \"trials\"\n",
    "* Each trial is independent of the others\n",
    "* There are only two outcomes\n",
    "* The **probabilty** of each outcome remains constant from trial to trial.\n",
    "\n",
    "So how exactly do we calculate the probabilty of such a trial?\n",
    "\n",
    "We could do this by taking the example of a person playing who wants to be a millionaire. Four multiple choice questions appear, yet they have no prior knowledge of the subject matter. What is the probabilty of the person getting exactly 3 questions correct? [9]. "
   ]
  },
  {
   "cell_type": "code",
   "execution_count": 82,
   "metadata": {},
   "outputs": [
    {
     "name": "stdout",
     "output_type": "stream",
     "text": [
      "0.046875000000000035\n"
     ]
    }
   ],
   "source": [
    "# Who wants to be a millionaire example\n",
    "\n",
    "n = 4 # Number of multiple choice questions\n",
    "p = 0.25 # Probabilty of getting a question right\n",
    "X = 3 # Binomial random variable which we want to quantify the probabilty of\n",
    "\n",
    "from scipy.stats import binom # Importing the binomial package from the scipy library [10].\n",
    "print(binom.pmf(X, n, p)) # Binomial probabilty mass function to calculate p value [9].\n",
    "                          # The probability mass function (pmf) is a function that gives the probability \n",
    "                          # that a discrete random variable (in this case X) is exactly equal to some value (p) [11]."
   ]
  },
  {
   "cell_type": "markdown",
   "metadata": {},
   "source": [
    "So, we see the binomial probabilty of getting exactly 3 out of 4 multiple choice questions right is 0.0469 (around 4.7%) thus highly unlikely.\n",
    "\n",
    "In summarising, it should be understood that the most simple, and arguably the most useful binomial application is in fact the probabilty mass function (as seen above), which allows us to determine an outcome of Bernoulli trials. Indeed, binomial probability concerns itself entirely with measuring the probability of outcomes of Bernoulli trials, trials that are independent of each other and that are binary i.e. with only two possible outcomes [12]. Binomial phenomena like this are so apparent and widespread in everyday life that we tend to remain oblivious to the underlying mathematics pulling the strings.\n",
    "\n",
    "----------------"
   ]
  },
  {
   "cell_type": "markdown",
   "metadata": {},
   "source": [
    "#### Poisson distribution\n",
    "\n",
    "The Poisson distribution tells us how probable it is that a certain number of events occur in a fixed interval of time (or space). It assumes that these events happen at a contstant rate and are also independent of the last event [13]. The time period must also be pre-determined. It is a discrete function in that it can only be measured as occuring or not occuring, thus the variable can only be measured in whole numbers.\n",
    "\n",
    "An example of the distribution in real life could be one of the number of meals in a certain restaurant each day. If the average number of meals for seven days is 400, then we could predict the probabilty of a certain day having more customers.\n",
    "Practical uses of the Poisson distribution include business forecasting about the number of customer sales on certain days or seasons of the year. If a company overstocks it would mean money wasted by goods not sold on certain days. Likewise, having too little stock could mean lost business oportunity because you didnt maximise sales due to shortage of stock. Similarly restaurants could prepare for an influx of customers or make contingency plans in case they cannot accommodate all guests. The Poisson distribution allows companies to adjust supply and demand in order to keep profit stable, and to prevent future waste of resources\n",
    "\n",
    "The Poisson distribution function has two paramteres, lam and size. lam will accept floats or an array of floats greater to or equal to zero [3]. The lam parameter equals the mean and variance, i.e.the total number of events divided by the number of units in the data. The size paramter will determine the amount of random samples called to the distribution [14].\n",
    "\n",
    "Let's take a look:"
   ]
  },
  {
   "cell_type": "code",
   "execution_count": 154,
   "metadata": {},
   "outputs": [
    {
     "data": {
      "image/png": "[encoded data removed]",
      "text/plain": [
       "<Figure size 432x288 with 1 Axes>"
      ]
     },
     "metadata": {},
     "output_type": "display_data"
    }
   ],
   "source": [
    "import numpy as np\n",
    "poiss = np.random.poisson(7, 20000) # Drawing samples from the distribution\n",
    "\n",
    "# Creating a histogram of random Poisson samples\n",
    "\n",
    "import matplotlib.pyplot as plt\n",
    "plt.hist(poiss, 16, density=True, color='r', edgecolor ='k') # Adding sample count, amount of bins and density function line (True = normal),\n",
    "                                                             # and adding edgecolour to the bins\n",
    "plt.ylabel('Frequency') # labelling my y axis\n",
    "plt.xlabel('Count') # labelling my x axis \n",
    "plt.title('Poisson distribution') # Adding title\n",
    "plt.show()"
   ]
  },
  {
   "cell_type": "markdown",
   "metadata": {},
   "source": [
    "Now let's see what the mean and variance (lam) actually are from this distribution:"
   ]
  },
  {
   "cell_type": "code",
   "execution_count": 8,
   "metadata": {},
   "outputs": [
    {
     "name": "stdout",
     "output_type": "stream",
     "text": [
      "The mean is 7.0527\n",
      "The variance is 7.122722709999999\n"
     ]
    }
   ],
   "source": [
    "print(\"The mean is\", np.mean(poiss)) # Calculating the mean of our poiss distribution variable\n",
    "print(\"The variance is\", np.var(poiss))"
   ]
  },
  {
   "cell_type": "markdown",
   "metadata": {},
   "source": [
    "Another use of poisson for example, is that we could call 25 values each for lam 50, 150, 250, and 1050:"
   ]
  },
  {
   "cell_type": "code",
   "execution_count": 4,
   "metadata": {
    "scrolled": true
   },
   "outputs": [
    {
     "data": {
      "text/plain": [
       "array([[  40,  147,  245, 1014],\n",
       "       [  46,  143,  243, 1062],\n",
       "       [  50,  163,  237, 1076],\n",
       "       [  51,  156,  232, 1100],\n",
       "       [  53,  170,  255, 1100],\n",
       "       [  48,  146,  251,  999],\n",
       "       [  55,  153,  261, 1048],\n",
       "       [  48,  145,  255, 1070],\n",
       "       [  58,  157,  268, 1011],\n",
       "       [  59,  165,  217, 1062],\n",
       "       [  47,  133,  254, 1054],\n",
       "       [  62,  138,  236, 1120],\n",
       "       [  47,  159,  244, 1013],\n",
       "       [  50,  157,  214, 1110],\n",
       "       [  66,  149,  259, 1098],\n",
       "       [  43,  151,  256, 1044],\n",
       "       [  57,  179,  215, 1070],\n",
       "       [  44,  142,  247, 1064],\n",
       "       [  65,  159,  238, 1017],\n",
       "       [  53,  132,  253,  977],\n",
       "       [  51,  135,  244, 1058],\n",
       "       [  55,  150,  231, 1043],\n",
       "       [  53,  146,  250, 1077],\n",
       "       [  37,  163,  242, 1038],\n",
       "       [  50,  147,  232, 1033]])"
      ]
     },
     "execution_count": 4,
     "metadata": {},
     "output_type": "execute_result"
    }
   ],
   "source": [
    "Q = np.random.poisson(lam=(50, 150, 250, 1050), size=(25, 4)) \n",
    "Q"
   ]
  },
  {
   "cell_type": "code",
   "execution_count": 11,
   "metadata": {},
   "outputs": [
    {
     "name": "stdout",
     "output_type": "stream",
     "text": [
      "The mean is 375.1\n",
      "The variance is 158784.59\n"
     ]
    }
   ],
   "source": [
    "# And then call the mean and variance on them\n",
    "import numpy as np\n",
    "print(\"The mean is\", np.mean(Q)) # Calculating the mean of Q\n",
    "print(\"The variance is\", np.var(Q))"
   ]
  },
  {
   "cell_type": "markdown",
   "metadata": {},
   "source": [
    "Isn't that interesting, the mean and variance outputs was given for the four columns *together*. \n",
    "\n",
    "But what if we want to calculate the mean of one particular row or column?:"
   ]
  },
  {
   "cell_type": "code",
   "execution_count": 23,
   "metadata": {},
   "outputs": [
    {
     "name": "stdout",
     "output_type": "stream",
     "text": [
      "The mean of row 24 is 365.5\n"
     ]
    }
   ],
   "source": [
    "print(\"The mean of row 24 is\", np.mean(Q [24])) # Calculating the mean of row 24 in Q"
   ]
  },
  {
   "cell_type": "code",
   "execution_count": 24,
   "metadata": {},
   "outputs": [
    {
     "data": {
      "text/plain": [
       "array([361.5 , 373.5 , 381.5 , 384.75, 394.5 , 361.  , 379.25, 379.5 ,\n",
       "       373.5 , 375.75, 372.  , 389.  , 365.75, 382.75, 393.  , 373.5 ,\n",
       "       380.25, 374.25, 369.75, 353.75, 372.  , 369.75, 381.5 , 370.  ,\n",
       "       365.5 ])"
      ]
     },
     "execution_count": 24,
     "metadata": {},
     "output_type": "execute_result"
    }
   ],
   "source": [
    "Q.mean(axis=1) # Calculating the mean of each row"
   ]
  },
  {
   "cell_type": "code",
   "execution_count": 26,
   "metadata": {},
   "outputs": [
    {
     "data": {
      "text/plain": [
       "array([  51.52,  151.4 ,  243.16, 1054.32])"
      ]
     },
     "execution_count": 26,
     "metadata": {},
     "output_type": "execute_result"
    }
   ],
   "source": [
    "Q.mean(axis=0) # Calculating the mean of each column"
   ]
  },
  {
   "cell_type": "markdown",
   "metadata": {},
   "source": [
    "So as we have seen, the Poisson distribution is used for count-based distributions where the events occur with a known average rate and independently of the last event. With this in mind, we could go further to calculate the probabilty of a future event. Let's look at an example.\n",
    "\n",
    "Suppose the average number of cars passing a certain street in one day is 25. With this in mind we could calculate the probabilty of 30 cars passing the street. \n",
    "\n",
    "The short script below uses the scipy stats poisson function which takes as its parameter the 25 cars passing, and then uses this within the probabilty mass function (pmf) method to calculate the probabilty percentage we are looking for i.e. the probabilty tha 30 cars will the street. \n",
    "\n",
    "A poisson probability mass function is a function that can predict or show the probability of a value occurring of a certain data point. Being that it is a probability mass function, it shows discrete data points as we will see below [15]:"
   ]
  },
  {
   "cell_type": "code",
   "execution_count": 33,
   "metadata": {},
   "outputs": [
    {
     "data": {
      "text/plain": [
       "0.04541278513011904"
      ]
     },
     "execution_count": 33,
     "metadata": {},
     "output_type": "execute_result"
    }
   ],
   "source": [
    "cars = poisson(25)\n",
    "cars.pmf(30)"
   ]
  },
  {
   "cell_type": "markdown",
   "metadata": {},
   "source": [
    "There we have it, the probabilty of 30 cars passing the street in one day is around 4.5%. Now we can plot the poisson probabilty mass function by first configuring the plot to incorporate the car variables:"
   ]
  },
  {
   "cell_type": "code",
   "execution_count": 26,
   "metadata": {},
   "outputs": [
    {
     "data": {
      "image/png": "[encoded data removed]",
      "text/plain": [
       "<Figure size 432x288 with 1 Axes>"
      ]
     },
     "metadata": {},
     "output_type": "display_data"
    }
   ],
   "source": [
    "from scipy.stats import poisson\n",
    "import matplotlib.pyplot as plt\n",
    "%matplotlib inline\n",
    "\n",
    "plt.ylabel('Probability of car passing') # Labelling y axis\n",
    "plt.xlabel('Number of cars') # Labelling x axis\n",
    "plt.title('Probability distribution curve') # Adding title\n",
    "arr = [] \n",
    "cars = poisson(25)\n",
    "for i in range(0,50): # for loop for determining the range of number of cars to be displayed on x axis\n",
    " arr.append(cars.pmf(i)) # Amending the plot to display the pmf of cars with range 0-50 [15].\n",
    " \n",
    "# Displaying the probability mass function of cars \n",
    "P = cars.pmf(30) # P variable created to display pmf of cars in plt.plot() configuration\n",
    "plt.grid(True)\n",
    "plt.plot(arr, linewidth=2.0) # Determine the line properties, e.g. colors and styles etc \n",
    "                             # plt.plot() function takes additional arguments in order to specify line properties\n",
    "plt.plot([30], [P], marker='o', markersize=6, color=\"red\")\n",
    "plt.show()"
   ]
  },
  {
   "cell_type": "markdown",
   "metadata": {},
   "source": [
    "So, what exactly is the distribution telling us? \n",
    "\n",
    "Let's look at it this way. With the cars example, based on previous counts i.e. 25 a day, our expectation has become 25 a day with a certain spread: sometimes a little more, sometimes less or once in a while almost none. Given only the average rate of passing cars, for a certain period of time, and assuming the processes that produce the event are essentially random, the Poisson distribution will basically tell us *how likely it is* i.e. the probabilty, that  we will get 20, 25 or 30 cars (or any other number) during one period of observation. That is, it predicts the degree of spread around a know mean rate of occurence [16].\n",
    "\n",
    "-----------------------"
   ]
  },
  {
   "cell_type": "markdown",
   "metadata": {},
   "source": [
    "### F distribution\n",
    "\n",
    "The F distribution is a continuous probabilty distribution (as opposed to discrete) that often arises as the *null* distribution of a test statistic, most notably arising in an ANOVA (analysis of variance), or what some call an F-test. It is named after Ronald Fisher (Fisher distribution) and George W. Snedecor [17]. It is a complex distribution and is widely used for example in significance testing on experimental hypotheses. One example is that it is widely employed in the social sciences for experiments with 2 or more groups. \n",
    "\n",
    "The F *statistic* (or F value) is a random variable that *has* an F distribution. Essentially, it is the value you get when you run an ANOVA test (a type of regression) to find out if the means between 2 or more populations (groups) are significantly different. It’s similar to the T statistic from a T-Test. A T-test will tell you if a single variable is statistically significant while an F-test will tell you if a group of variables are jointly significant, i.e.significantly different. \n",
    "If your test has a significant result, it means that you can be confident that the results did not happen by chance. If you don’t have statistically significant results, you can’t reject the null hypothesis, which means you can't for example, assert that the phenomena you studied (or manipulated) in your experiment was not the result of chance or randomness. In most cases the null hypothesis remains true. Essentially, you use the F statistic when deciding to support or reject the null hypothesis. In you results you will have both an F value and and F **critical** value. So, if your calculated F value is larger than your F critical value. you can reject the null hypothesis. The p value is also determined by the F critical value and needs to be used in combination  with it. Why? Because if you have significant result, it does not mean *all* your variables are significant, the statistic is merely comparing the combined effect of your variables together. The p value is a probabilty, while the F is a test statistic calculated as an analysis of the in-group variances to between-group variances, i.e. the spread of scores in the groups themselves, and those between the different groups. [18]. Ultimately, the F distribution is the probabilty distribution based on the calculation of the F statistic. It is in fact a distribution of *all* possible values. It is typically asymmetric in shape. It has a minimum value of zero but has no maximum value [3]. \n",
    "\n",
    "**An aside on critical values:**\n",
    "\n",
    "Density functions return the probability of an observation in the distribution. In order to calculate a critical value, we need a function that given a probability, will return the observation from the distribution. In this case, the functions of interest to us are [21]:\n",
    "\n",
    "* Probability Density Function (PDF): The probability for an observation having a specific value from the distribution.\n",
    "\n",
    "* Cumalative Density Function (CDF): The probability for an observation equal to or less than a specific value from the distribution.\n",
    "\n",
    "* Percent Point Function (PPF): The value for the provided probability that is less or equal to the provided probability from the distribution.\n",
    "\n",
    "So lets take a closer look at the distribution. In numpy, the random.f function can receive  3 parameters; The degrees of freedom in numerator, degrees of freedom in denominator, and size. Degrees of freedom pertain to the number of observations in the data that are free to vary, e.g. for a three-group ANOVA test, you can vary two means so degrees of freedom is 2 [3]. \n",
    "\n",
    "First we will generate random numbers from the F distribution:"
   ]
  },
  {
   "cell_type": "code",
   "execution_count": 18,
   "metadata": {
    "scrolled": true
   },
   "outputs": [
    {
     "data": {
      "text/plain": [
       "array([0.311041  , 0.67014009, 0.6065598 , 0.08606705, 1.02680579,\n",
       "       0.00629053, 0.00689368, 2.09888706, 0.95650137, 0.18952214,\n",
       "       0.92801704, 0.31028295, 0.9180775 , 1.35525196, 1.10234055,\n",
       "       0.08556367, 1.9332176 , 0.19547533, 0.15070177, 1.09832723,\n",
       "       0.10268683, 2.50702856, 0.91362341, 0.58607557, 0.53871803,\n",
       "       3.04682164, 0.20169993, 1.68099428, 2.31441326, 0.4439159 ,\n",
       "       0.96458079, 0.566164  , 1.91519546, 0.16243006, 1.28650632,\n",
       "       0.22442291, 0.60085342, 0.63610623, 0.27026604, 0.93151364,\n",
       "       1.01937872, 0.54500428, 0.39239977, 0.34431021, 1.23785834,\n",
       "       0.09484831, 0.16377918, 0.35944677, 0.80807301, 2.85099834,\n",
       "       0.95693558, 0.32272261, 1.26802968, 0.62609529, 0.11791279,\n",
       "       0.13252844, 0.4920495 , 0.29328576, 1.26094139, 0.69077964,\n",
       "       0.58679662, 4.04739163, 0.66151937, 0.02491825, 0.28245971,\n",
       "       0.82374948, 0.67990348, 0.03233441, 0.79177806, 0.12070445,\n",
       "       0.17452149, 0.11328478, 0.80401305, 0.21919477, 0.70210091,\n",
       "       0.33831926, 0.72236395, 1.2069495 , 0.0227172 , 0.45987328,\n",
       "       0.63657879, 2.38489463, 1.37509686, 0.32203134, 1.35709388,\n",
       "       0.42020761, 1.91879552, 0.869052  , 0.81947157, 2.00553725,\n",
       "       0.45242957, 0.33351908, 1.61058393, 0.03530331, 1.94273503,\n",
       "       0.8402846 , 0.65021857, 1.41499658, 0.51109845, 0.10795102])"
      ]
     },
     "execution_count": 18,
     "metadata": {},
     "output_type": "execute_result"
    }
   ],
   "source": [
    "# Let's draw random samples from 3 groups of 30 (90 people)\n",
    "\n",
    "import numpy as np\n",
    "dfnum = 2. # Between group degrees of freedom\n",
    "dfden = 87 # Within groups degrees of freedom\n",
    "z = np.random.f(dfnum, dfden, 100)\n",
    "z"
   ]
  },
  {
   "cell_type": "markdown",
   "metadata": {},
   "source": [
    "So there are our randomly generated samples of the F distribution. Interesting, but the floats don't tell a great story on their own. Let's elaborate on this array by plotting it. We can add some features to enhance the F distribution. For this we will import the f module in SciPy stats for better functionality."
   ]
  },
  {
   "cell_type": "code",
   "execution_count": 25,
   "metadata": {},
   "outputs": [
    {
     "data": {
      "text/plain": [
       "[<matplotlib.lines.Line2D at 0x272ad649710>]"
      ]
     },
     "execution_count": 25,
     "metadata": {},
     "output_type": "execute_result"
    },
    {
     "data": {
      "image/png": "[encoded data removed]",
      "text/plain": [
       "<Figure size 432x288 with 1 Axes>"
      ]
     },
     "metadata": {},
     "output_type": "display_data"
    }
   ],
   "source": [
    "# Putting the random samples into a plot to demonstarte the F distribution:\n",
    "import scipy.stats\n",
    "from scipy.stats import f\n",
    "import matplotlib.pyplot as plt\n",
    "%matplotlib inline \n",
    "\n",
    "fig, ax = plt.subplots(1, 1) \n",
    "plt.ylabel('Density') # Labelling y axis\n",
    "plt.xlabel('F value') # Labelling x axis\n",
    "plt.title('F distribution') # Adding title\n",
    "ax.hist(z, density=True, histtype='stepfilled', alpha=0.2, linewidth=2, color='b', label='Random F distribution samples')\n",
    "ax.legend(loc='best', frameon=False) # Location of plot legend and controlling whether the legend should be drawn on a frame\n",
    "\n",
    "# lets also display the probability density function (pdf) of the histogram distribution [19]:\n",
    "rv = f(dfn=2, dfd=87, loc=0, scale=1) # rv = (Continuous) random variables\n",
    "x = np.linspace(rv.ppf(0.0001), rv.ppf(0.9999), 100) # Configuring the PPF\n",
    "y = rv.pdf(x) \n",
    "\n",
    "plt.plot(x,y, 'r-')"
   ]
  },
  {
   "cell_type": "markdown",
   "metadata": {},
   "source": [
    "We should also look at the basic descriptives of the distribution:"
   ]
  },
  {
   "cell_type": "code",
   "execution_count": 51,
   "metadata": {},
   "outputs": [
    {
     "data": {
      "text/plain": [
       "(array(1.02352941), array(1.0980998), array(2.1464185), array(7.23752095))"
      ]
     },
     "execution_count": 51,
     "metadata": {},
     "output_type": "execute_result"
    }
   ],
   "source": [
    "# Calulate descriptives of the distribution [19]:\n",
    "\n",
    "dfn, dfd = 2, 87 # Assigning degrees of freedom values to new objects\n",
    "mean, var, skew, kurt = f.stats(dfn, dfd, moments='mvsk') \n",
    "mean, var, skew, kurt # Output the mean variance skewness and kurtosis values\n"
   ]
  },
  {
   "cell_type": "markdown",
   "metadata": {},
   "source": [
    "Now let's calculate our F value for the distribution using the PPF function and see where on the curve it lies:"
   ]
  },
  {
   "cell_type": "code",
   "execution_count": 34,
   "metadata": {},
   "outputs": [
    {
     "data": {
      "text/plain": [
       "3.101295756667187"
      ]
     },
     "execution_count": 34,
     "metadata": {},
     "output_type": "execute_result"
    }
   ],
   "source": [
    "vals = scipy.stats.f.ppf(q=1-0.05, dfn=2, dfd=87) # 5% probabilty confidence level (or 95% certain our outcome did not occur by chance)\n",
    "vals"
   ]
  },
  {
   "cell_type": "code",
   "execution_count": 35,
   "metadata": {},
   "outputs": [
    {
     "data": {
      "text/plain": [
       "0.95"
      ]
     },
     "execution_count": 35,
     "metadata": {},
     "output_type": "execute_result"
    }
   ],
   "source": [
    "scipy.stats.f.cdf(vals, dfn=2, dfd=87)"
   ]
  },
  {
   "cell_type": "markdown",
   "metadata": {},
   "source": [
    "Looking at the F distribution above we can see it presents its own unique signature, one that is notably different for example to the binomial distribution. The degrees of freedom in the numerator and the denominator define the distribution entirely. The F distribution curve is displaying the likelihood of F values for a population where 3 group means are equal at the population level. Look at where our F value of 3.1 lies on the distribution. When the null hypothesis is true, F values that lie in this area are very rare. Indeed, the output appears to suggest that in this case we can warrant rejecting the null hypothesis, in that the distribution samples are showing that that the is a significant difference somewhere between the group variances (variation between sample means / variation within the samples) [20]. Let's check to see if that is true: "
   ]
  },
  {
   "cell_type": "code",
   "execution_count": 68,
   "metadata": {},
   "outputs": [
    {
     "name": "stdout",
     "output_type": "stream",
     "text": [
      "We should reject the null hypothesis\n"
     ]
    }
   ],
   "source": [
    "# Checking for significance [22].\n",
    "\n",
    "alpha = 0.05 # Chosen significance level\n",
    "p_value = scipy.stats.f.sf(vals, dfn, dfd) # Calculating the p-value using the sf (Survival function) also defined as 1-cdf (Cumulative Density Function)\n",
    "if p_value > alpha:\n",
    "    print(\"We should reject the null hypothesis\") # Reject the null hypothesis that variance(X) == variance(Y)\n",
    "else:\n",
    "    print(\"The null hypothesis is true\")"
   ]
  },
  {
   "cell_type": "markdown",
   "metadata": {},
   "source": [
    "### Exponential distribution\n",
    "\n",
    "The exponential distribution describes the probability of an event occuring between two timeframes, typically in a Poisson point process (as we saw earlier in the Poisson distribution). There is a strong relationship between these distributions as we will see. The exponential distribution is one member of the *exponential family* including the Bernoulli, binomial and Chi-squared distributions. Essentially, the exponential distribution is a process where events occur continuously and independently at a constant average rate [23]. It is a continuous distribution which describes many common situations, such as the size of raindrops measured over many rainstorms or the time between page requests to Wikipedia [3]. The distribution is in fact mostly for testing product reliability, modelling waiting times and can help answer questions such as:\n",
    "\n",
    "* How much time will pass before a major hurricane hits the east coast of America?\n",
    "            \n",
    "* How long will the transmission last in my new car before it fails?\n",
    "\n",
    "If we assume that the answers to these types of questions are unknown (for now), then we can think of elapsed time as a random variable with an exponential distribution provided the events occur continuously and independently and at a constant rate [24]. \n",
    "\n",
    "The numpy.random.exponential function receives 2 parameters: Scale and size. Scale receives floats (or float arrays) while size integers (or integer arrays). Let's have a look:"
   ]
  },
  {
   "cell_type": "code",
   "execution_count": 187,
   "metadata": {},
   "outputs": [
    {
     "data": {
      "text/plain": [
       "array([[6.93039384e+00, 9.73117208e+00, 2.48091549e+00, 2.15062604e+00,\n",
       "        1.79323337e+00, 8.98715993e-01, 9.89239055e-01, 9.39922209e+00,\n",
       "        2.36367953e+01, 9.04527827e+00, 2.89975433e+00, 1.15120476e-02,\n",
       "        2.83125501e-01, 1.76716811e-01, 1.24809153e+01, 2.19822295e+00,\n",
       "        2.71318671e-01, 2.45143462e+00, 1.20762154e+00, 3.02881798e+00,\n",
       "        1.64059485e+00, 1.76911863e+01, 1.94069707e+00, 6.36540594e+00,\n",
       "        7.13980234e+00, 1.35769742e+00, 3.34135312e-01, 4.26687382e+00,\n",
       "        5.50735753e+00, 6.38243092e+00, 4.72863968e-01, 5.53625942e-01,\n",
       "        3.05401961e+00, 1.01983685e+00, 2.21058957e+00, 1.05808014e+01,\n",
       "        3.06290031e+00, 2.61170193e-01, 1.31653616e-01, 3.72465834e+00,\n",
       "        6.44322947e+00, 3.82604634e+00, 5.98595274e+00, 9.78665045e-01,\n",
       "        1.96601389e+00, 2.57427555e+01, 1.90029290e+00, 1.87508267e+00,\n",
       "        3.96147068e+00, 2.85525850e+00],\n",
       "       [5.09114702e-01, 2.66582263e+00, 3.25453778e+00, 2.14475206e+00,\n",
       "        2.11647305e+00, 5.53568717e+00, 2.71883093e+00, 2.84701595e+00,\n",
       "        4.13339655e+00, 2.56059593e+00, 4.07414260e+00, 8.17385575e+00,\n",
       "        2.35357894e+00, 4.97978006e+00, 2.89861269e+00, 2.88197865e-01,\n",
       "        1.07032073e+00, 5.72018839e+00, 7.85262734e+00, 4.84482832e-01,\n",
       "        1.98406323e+00, 5.09999046e+00, 5.54173885e-01, 6.00853001e-01,\n",
       "        1.18776128e-02, 8.49012146e-01, 5.83701466e-01, 3.57513607e+00,\n",
       "        8.16357053e+00, 6.48376270e+00, 3.07738477e+00, 3.10072964e+00,\n",
       "        3.87591798e+00, 2.13228507e+00, 7.47037097e+00, 1.02075666e+01,\n",
       "        4.90394157e-01, 1.41958416e+00, 4.99613440e+00, 3.79758023e+00,\n",
       "        6.51991304e+00, 9.22520798e+00, 6.86445725e+00, 1.26860661e+00,\n",
       "        1.10745398e-01, 1.74512185e-01, 4.67353901e+00, 3.34247502e+00,\n",
       "        8.92519973e+00, 1.61157936e+01],\n",
       "       [7.04000260e+00, 9.08782825e+00, 5.91619274e+00, 1.70162322e+00,\n",
       "        1.16773715e+00, 7.10800397e+00, 3.93679634e+00, 5.31337551e+00,\n",
       "        1.00365880e+01, 6.44821561e+00, 6.12609379e-01, 4.50804336e+00,\n",
       "        2.12164681e+00, 8.22059535e-01, 1.15052553e+01, 1.25073470e+01,\n",
       "        3.85526628e-01, 4.84366330e-01, 3.93019815e+00, 2.58378608e+00,\n",
       "        2.76204617e+00, 9.44072558e-01, 9.47403664e-03, 6.65669653e+00,\n",
       "        6.21585828e+00, 2.54557133e+00, 4.95096437e+00, 4.38867959e+00,\n",
       "        2.55639159e-01, 7.79572607e+00, 2.17356936e+00, 2.27899113e-02,\n",
       "        5.40424123e-01, 3.55591011e-01, 4.98155086e-01, 3.33711992e+00,\n",
       "        2.72565526e-01, 3.80030540e-01, 2.23289090e+00, 2.30355649e+00,\n",
       "        6.09392280e-01, 1.91179646e+00, 2.51415389e+01, 4.29915048e+00,\n",
       "        1.37709533e+01, 1.00578569e+01, 2.34771691e-01, 6.64789804e-01,\n",
       "        1.29936094e+01, 6.76055351e+00]])"
      ]
     },
     "execution_count": 187,
     "metadata": {},
     "output_type": "execute_result"
    }
   ],
   "source": [
    "# Lets produce an array of exponential samples containing 3 groups of 50, with a scale of 4:\n",
    "\n",
    "import numpy as np\n",
    "w = np.random.exponential(scale=4, size=(3, 50))\n",
    "w"
   ]
  },
  {
   "cell_type": "markdown",
   "metadata": {},
   "source": [
    "Now lets create a large sample set of exponential distributions for the purpose of plotting:"
   ]
  },
  {
   "cell_type": "code",
   "execution_count": 188,
   "metadata": {},
   "outputs": [
    {
     "data": {
      "text/plain": [
       "array([5.89477489e+00, 7.04678378e+00, 1.69658781e+00, 5.98376654e+00,\n",
       "       6.36597494e-01, 2.71706921e+01, 7.27585324e+00, 1.13942957e+01,\n",
       "       5.63135995e+00, 5.78636217e+00, 2.43236279e+00, 4.85526186e+00,\n",
       "       3.98588065e-01, 1.33773936e+00, 2.18289005e+01, 8.57669899e+00,\n",
       "       1.08992354e+01, 9.30638516e+00, 4.62172636e+00, 7.34217544e+00,\n",
       "       3.44322242e-01, 1.12757283e+01, 2.56540731e+00, 1.33113255e+00,\n",
       "       2.64147713e+00, 1.24578724e+01, 6.55786986e+00, 2.23152538e+00,\n",
       "       4.98466700e+00, 8.33941337e+00, 5.92823965e+00, 2.37794308e+00,\n",
       "       1.44808508e+00, 7.19856350e+00, 3.37218692e+00, 1.13679883e+01,\n",
       "       3.54336820e+00, 5.65461482e+00, 1.72937316e+01, 1.37078657e+01,\n",
       "       2.95569322e+00, 7.61555255e+00, 9.72034556e+00, 1.87891718e+00,\n",
       "       6.12198372e+00, 4.20931158e+00, 6.03946943e+00, 6.96473014e-01,\n",
       "       3.63906639e+00, 4.98424161e+00, 2.90496911e+00, 7.24046102e+00,\n",
       "       4.26178039e-01, 5.27722597e-01, 1.60366889e+00, 7.35209107e+00,\n",
       "       1.16167913e+00, 5.69572117e+00, 4.59106897e+00, 6.02423201e+00,\n",
       "       9.47898913e+00, 8.35709254e-01, 2.44546618e-01, 4.22511512e-01,\n",
       "       2.36666028e+00, 4.49394292e+00, 5.77981980e+00, 2.21856975e+00,\n",
       "       1.37295872e+01, 3.32430847e+01, 9.14066281e+00, 7.50965158e+00,\n",
       "       6.59632427e-01, 6.60487879e+00, 3.30014874e+00, 9.45446874e+00,\n",
       "       3.74504381e+00, 1.01436997e+01, 1.39226202e+01, 5.88238582e-01,\n",
       "       1.05212291e+00, 1.81495276e+00, 1.55374933e+01, 7.48668262e+00,\n",
       "       5.30169542e+00, 2.67142122e+00, 4.57729628e+00, 1.58775930e+00,\n",
       "       2.83926600e+00, 7.67732050e+00, 6.94591692e-02, 3.38456300e+00,\n",
       "       2.73256547e+00, 1.66897065e+01, 1.39973725e+00, 9.73960335e-02,\n",
       "       1.27333477e+00, 1.86292013e+00, 5.27015125e+00, 1.45729315e+00,\n",
       "       6.10257467e-01, 1.91963143e-01, 1.15247402e+01, 6.12842744e-01,\n",
       "       9.89872453e-01, 3.68657400e+00, 2.07590605e+00, 8.96933727e+00,\n",
       "       9.01997719e+00, 3.04072367e+00, 9.22393118e+00, 1.49885850e-01,\n",
       "       9.66308249e-01, 1.66351950e+00, 3.36016376e+00, 5.99885975e+00,\n",
       "       8.27520580e+00, 3.95899279e+00, 1.06410648e+01, 4.34174667e+00,\n",
       "       1.50343232e+00, 4.30428357e+00, 2.60595259e+01, 7.47898327e+00,\n",
       "       1.56011627e+00, 4.24752102e+00, 1.39100049e+00, 6.71528975e+00,\n",
       "       5.44583028e+00, 2.08541682e+00, 1.80280108e+00, 1.98387167e-01,\n",
       "       6.72668981e+00, 6.29701367e+00, 2.46004169e+00, 7.74583833e+00,\n",
       "       2.05472418e+00, 3.53622332e+00, 5.88670148e+00, 6.53429748e+00,\n",
       "       1.02510135e+00, 4.90754262e+00, 9.94180336e+00, 4.92533086e-01,\n",
       "       1.43475241e+00, 6.87498183e+00, 1.03907243e+01, 3.38218479e+00,\n",
       "       1.05289611e+01, 2.43210195e-01, 1.50343341e+00, 8.20021665e+00,\n",
       "       3.75018136e-01, 1.32038353e+01, 6.95384571e-01, 3.86653756e+00,\n",
       "       7.33405178e-01, 2.41272530e+00, 4.87003251e-01, 6.68479472e-02,\n",
       "       1.40027548e+01, 1.64511761e+01, 1.53621435e+00, 1.18168270e+01,\n",
       "       7.18062907e+00, 2.81710474e+00, 1.09386293e+01, 1.29172723e+00,\n",
       "       2.39767760e+00, 4.34328710e+00, 1.42422199e+01, 1.08966487e+01,\n",
       "       9.06526077e+00, 5.57648098e+00, 8.57788175e+00, 1.30246279e+01,\n",
       "       1.43123024e+00, 2.96925767e+00, 1.35439946e+01, 9.19606255e+00,\n",
       "       1.77350026e+00, 2.01177192e+00, 1.65039598e+00, 4.45646187e+00,\n",
       "       8.05643690e+00, 1.08613792e+01, 1.09716673e+01, 1.27168546e+01,\n",
       "       6.09459518e-02, 1.73784831e+00, 3.85642199e-01, 4.16892508e+00,\n",
       "       5.50538918e-01, 5.70664424e-01, 1.32412677e+00, 1.09097044e+00,\n",
       "       1.56285200e+00, 5.99907472e+00, 8.89973924e-02, 8.26049791e+00,\n",
       "       1.18253790e+00, 5.82216952e+00, 5.58615463e+00, 4.84131948e+00,\n",
       "       2.41370010e+00, 5.77132172e+00, 4.46110436e+00, 1.01800678e+00,\n",
       "       6.36086369e+00, 6.48735499e+00, 4.72622905e-01, 8.70040823e+00,\n",
       "       2.61141277e+00, 1.03781586e+00, 4.87918356e+00, 7.39670718e-01,\n",
       "       3.17146580e+00, 2.82683699e+00, 2.07048476e+00, 5.68934005e+00,\n",
       "       1.43210821e+01, 6.83624409e+00, 1.14844540e+00, 2.31037200e+00,\n",
       "       1.46473425e+01, 7.10093376e-01, 1.92461291e+00, 2.41662632e+00,\n",
       "       2.50148404e+00, 2.86872739e+00, 6.88691664e+00, 6.49200474e+00,\n",
       "       4.30038455e+00, 2.74083173e+00, 2.16438207e+00, 3.96449887e+00,\n",
       "       6.39402281e-01, 8.85857679e-01, 1.16464482e+00, 6.72315705e+00,\n",
       "       8.54531776e+00, 2.02445348e+00, 8.04035848e+00, 2.52991775e+00,\n",
       "       6.02031390e-01, 1.79891521e+00, 4.32465779e+00, 4.07151295e+00,\n",
       "       2.58780391e+00, 3.23342955e-03, 1.35806858e+01, 2.05992177e-01,\n",
       "       8.87766532e-01, 8.46912427e-01, 4.49880336e+00, 2.76193691e+00,\n",
       "       6.75858591e+00, 5.31097753e+00, 1.54877425e+01, 5.64611536e+00,\n",
       "       5.07458112e+00, 3.83875852e-01, 8.97234691e-01, 4.36514072e+00,\n",
       "       1.17958761e+01, 1.66959703e+00, 1.27195478e+00, 1.54388150e+00,\n",
       "       9.86574184e+00, 2.19640391e+01, 3.16641806e+00, 4.44087160e+01,\n",
       "       1.01997445e+01, 8.83775507e+00, 3.36333316e-01, 3.88291410e+00,\n",
       "       5.01605234e+00, 2.26295179e+00, 2.70972502e+00, 3.36795110e+00,\n",
       "       1.25536798e+00, 6.75160262e+00, 1.89697925e+00, 4.64534378e+00,\n",
       "       3.66907532e-01, 1.55470890e+01, 1.60414241e+00, 2.68421253e+00,\n",
       "       4.39725287e+00, 3.90178887e-01, 5.84452426e+00, 1.32083610e+00,\n",
       "       3.61948422e+00, 1.03348052e+00, 1.39914493e+00, 5.27588175e+00,\n",
       "       5.36155437e+00, 5.24204760e+00, 1.36182078e+01, 1.86121307e-01,\n",
       "       4.87952645e+00, 4.41255769e+00, 3.97057978e+00, 1.43236157e+01,\n",
       "       2.24989238e+00, 2.05085342e+00, 7.65079622e+00, 3.90433565e+00,\n",
       "       8.87538698e+00, 9.27395486e-01, 8.14642790e+00, 1.05674618e+00,\n",
       "       1.36790648e+01, 2.80804701e+00, 4.53955597e+00, 2.87022795e+00,\n",
       "       1.01748878e+00, 1.06495943e-01, 1.34404638e-01, 2.14581976e-01,\n",
       "       5.50687445e+00, 4.51166025e+00, 6.86142134e+00, 5.35175660e+00,\n",
       "       1.08084213e+00, 7.38345720e-01, 9.19656153e-01, 6.79008295e+00,\n",
       "       4.50389492e+00, 1.19675798e+00, 1.20014325e+00, 1.05994795e+01,\n",
       "       4.17216576e-01, 1.45222564e+00, 5.98501337e+00, 1.26521906e+01,\n",
       "       3.23542517e+00, 1.69972317e+01, 4.45370666e+00, 2.89163009e+00,\n",
       "       1.73521851e-01, 2.30188471e+00, 1.40894467e+00, 4.15564478e+00,\n",
       "       1.82256460e+00, 4.13124289e+00, 5.78486578e+00, 2.05111421e+00,\n",
       "       4.09242871e+00, 1.52821140e-01, 2.68895998e+00, 2.15330632e+00,\n",
       "       2.59449909e+00, 1.29291506e+01, 1.43909238e+01, 3.92917894e+00,\n",
       "       2.06747185e+01, 3.96955269e+00, 1.35483811e+00, 2.51414090e+00,\n",
       "       5.93796656e+00, 1.74913176e+00, 1.64614924e+00, 6.01534644e+00,\n",
       "       7.42356733e+00, 1.24630064e+00, 1.04273533e+01, 1.99138946e+00,\n",
       "       9.07796121e+00, 1.34139775e+01, 5.20754248e+00, 1.40111144e+00,\n",
       "       5.75539940e+00, 1.05323322e+01, 3.28597388e+00, 7.86296424e-01,\n",
       "       2.34479382e+00, 1.01332804e+01, 3.93995126e+00, 2.40115165e+00,\n",
       "       5.13358469e+00, 4.79281555e+00, 6.81491225e-01, 2.27995510e+00,\n",
       "       6.72662547e+00, 2.59135189e+00, 2.95118727e+00, 3.59412918e+00,\n",
       "       7.11604127e+00, 7.17872181e-01, 1.85419996e+00, 3.84455149e+00,\n",
       "       4.38185742e+00, 1.99827597e+01, 1.77423108e+00, 1.94203509e+00,\n",
       "       4.30368417e+00, 5.90004498e+00, 4.05742212e+00, 1.02910801e+00,\n",
       "       1.48796946e+01, 2.17852706e-01, 1.44254756e+00, 1.21288847e+00,\n",
       "       2.76102772e+01, 1.47922090e+01, 1.22822602e+01, 1.59806576e+01,\n",
       "       1.45349243e+00, 1.84505712e+00, 5.34284021e+00, 8.80092752e+00,\n",
       "       3.25139521e+00, 2.62001072e+00, 1.10768489e+00, 1.86407795e+01,\n",
       "       9.77313863e-01, 4.06334348e+01, 3.34335134e-01, 2.16789489e+00,\n",
       "       4.96602758e+00, 1.76194017e+00, 5.66784872e+00, 2.01527392e+00,\n",
       "       7.03454284e+00, 8.74109048e+00, 1.71711237e+01, 4.94932683e-01,\n",
       "       6.08479784e+00, 7.81365000e+00, 3.17789668e+00, 2.81604906e+00,\n",
       "       2.36971058e+00, 6.28921255e+00, 1.81841354e+00, 6.11235863e+00,\n",
       "       1.77069927e-01, 1.21943839e+01, 1.00981386e+01, 6.40724392e+00,\n",
       "       7.23351116e-01, 6.24228265e+00, 4.20580591e+00, 1.07672102e-02,\n",
       "       1.94515843e+00, 2.60003194e+00, 1.03860736e+01, 7.94530493e+00,\n",
       "       3.78931188e+00, 7.68610396e+00, 9.59056493e+00, 8.95050474e+00,\n",
       "       4.07700530e+00, 4.43904137e+00, 2.58802411e+00, 1.38363697e+00,\n",
       "       1.78315689e+00, 2.55479467e+00, 1.50982565e+00, 1.64597853e+01,\n",
       "       2.26316511e+00, 7.26677198e-01, 4.51357860e+00, 1.18996307e+01,\n",
       "       7.69736837e+00, 5.68433773e+00, 4.99868152e+00, 2.94159891e+00,\n",
       "       9.45551332e-01, 1.09618254e+01, 9.64747082e+00, 1.86536077e+00,\n",
       "       1.71081892e+00, 1.12840023e+00, 1.81128175e+01, 1.48583647e-01,\n",
       "       1.05935651e+01, 3.69562528e+00, 4.59951814e-01, 9.25606486e+00,\n",
       "       8.31670973e-01, 6.17626750e+00, 8.93732417e+00, 3.60440960e+00,\n",
       "       1.71775049e+01, 2.43611454e+00, 3.60599701e+00, 5.99853200e-01,\n",
       "       2.01017306e+00, 3.76597450e+00, 1.36610203e+01, 1.36196055e+01,\n",
       "       6.69524705e+00, 1.86024486e+00, 1.91221499e+00, 3.67724168e+00,\n",
       "       1.40485219e+00, 1.63116307e+00, 3.46652916e-01, 9.59627394e-01,\n",
       "       7.68274592e-01, 2.19026422e+01, 2.82003799e+00, 3.48384761e-01,\n",
       "       8.18225041e+00, 9.42031700e-01, 1.29431402e+00, 2.82517310e+00,\n",
       "       1.00751159e+01, 1.34250181e+01, 3.02093061e+00, 1.02831223e+01,\n",
       "       8.50001664e+00, 9.49791717e+00, 8.06967754e-01, 3.88232273e+00,\n",
       "       8.73727816e-02, 4.28768215e-01, 3.39457773e-01, 9.39534786e+00,\n",
       "       6.27950435e+00, 9.25103065e-02, 6.96295049e-01, 1.99514787e+01,\n",
       "       6.06254619e+00, 7.30373523e-01, 1.61324493e+00, 7.33023156e+00,\n",
       "       1.21188770e+01, 6.42515682e-01, 5.36680855e+00, 2.77316378e+00,\n",
       "       1.15950187e+00, 1.21741016e+00, 6.05639648e+00, 1.63587952e+01,\n",
       "       3.07460281e-01, 2.88464054e+00, 5.30407272e+00, 5.20822344e-01,\n",
       "       1.34874517e-01, 2.84868882e+00, 4.93472781e+00, 9.51465188e+00,\n",
       "       1.74758681e+00, 2.17360484e+00, 2.56597473e+00, 2.10593576e+00,\n",
       "       8.52926360e+00, 1.20588303e+01, 1.26424029e+00, 2.35156070e+00,\n",
       "       6.13942798e+00, 1.02699280e+00, 4.10641874e+00, 8.12991270e+00,\n",
       "       1.02294355e+00, 8.70756955e+00, 4.53799505e-01, 6.66562566e+00,\n",
       "       4.88313302e+00, 1.96271031e+00, 4.19425004e-02, 5.07910067e-01,\n",
       "       6.86985944e+00, 2.11890794e+01, 1.87733330e+00, 1.76359773e+00,\n",
       "       3.28626762e+00, 1.06574388e+01, 3.72443864e+00, 7.86680108e+00,\n",
       "       9.97223487e+00, 1.16267471e+01, 4.71567885e+00, 1.12262762e-01,\n",
       "       4.78216821e+00, 7.99040655e+00, 3.61054503e+00, 1.39405087e+00,\n",
       "       3.22316311e+00, 7.66890502e-01, 3.47064218e+00, 5.41395652e-02,\n",
       "       1.05458686e+01, 4.41468787e-01, 6.74008915e+00, 4.38724316e-02,\n",
       "       9.62482453e+00, 8.10607506e+00, 5.05201178e+00, 4.33936655e+00,\n",
       "       6.19431226e+00, 2.09961167e+00, 4.78774134e-01, 2.41537740e+00,\n",
       "       4.18409494e+00, 5.43802636e+00, 2.26786332e+00, 1.00570690e+01,\n",
       "       8.78296218e+00, 1.53386690e+00, 1.41169816e+01, 3.13357368e+00,\n",
       "       1.25753823e+01, 1.87656066e+00, 1.85878444e+00, 9.86782504e-01,\n",
       "       1.19279246e+01, 3.26668065e-01, 1.23238833e+00, 7.00926100e+00,\n",
       "       1.63943042e+01, 8.96286375e-01, 3.15003224e+00, 1.39875312e+00,\n",
       "       3.14959636e+00, 4.53600768e+00, 3.74568743e+00, 8.32201112e-01,\n",
       "       3.97762666e-02, 5.72347214e+00, 6.59664470e+00, 7.64460157e+00,\n",
       "       7.75615109e-02, 7.64896715e+00, 9.33367481e+00, 7.27074441e+00,\n",
       "       5.97098622e-01, 1.91726110e+00, 5.73431931e+00, 2.41288332e+00,\n",
       "       4.48891201e+00, 7.21408949e-01, 7.44828225e-01, 6.31268787e+00,\n",
       "       5.25167144e-01, 4.30893769e+00, 8.87501247e+00, 7.52216524e+00,\n",
       "       2.71569407e+00, 9.95050681e+00, 4.54842695e-01, 1.75266377e+00,\n",
       "       5.61417481e+00, 2.00857115e+00, 7.74812070e+00, 1.05531378e+01,\n",
       "       1.15791818e+00, 2.49954282e+01, 1.73969647e+00, 2.23207802e+00,\n",
       "       1.04263248e+01, 6.87157656e+00, 5.37337570e-01, 8.90789117e-01,\n",
       "       3.28206489e+00, 8.30286062e+00, 4.87917708e+00, 1.98803549e+01,\n",
       "       6.15573986e+00, 9.11450791e+00, 8.63712523e-01, 2.64307801e+00,\n",
       "       4.27319941e-01, 2.92450290e+00, 3.50801758e+00, 2.72103560e+00,\n",
       "       3.36496971e-01, 2.32095691e+00, 1.00073405e+01, 6.14164282e+00,\n",
       "       1.15007207e+00, 1.05854084e+01, 2.58189296e+00, 3.23799839e+00,\n",
       "       1.24244526e+00, 1.35495159e+00, 1.58134372e+01, 1.95878826e+00,\n",
       "       2.17132018e-01, 8.32584148e-02, 2.36567110e-01, 3.65748377e+00,\n",
       "       2.35991375e+00, 3.46923158e+00, 8.94043182e-01, 7.39921179e+00,\n",
       "       1.02962824e+01, 1.23578669e+00, 3.29469148e+00, 2.69000433e+00,\n",
       "       5.05499171e+00, 4.87839839e-01, 7.44296258e+00, 2.06039708e+01,\n",
       "       1.23975377e+01, 4.83397335e+00, 9.21099053e-01, 6.72825029e-01,\n",
       "       1.79651832e+00, 4.83874710e+00, 4.82263778e+00, 7.35258094e-01,\n",
       "       1.63626440e+01, 5.20100660e+00, 1.51522109e+01, 2.84127821e+00,\n",
       "       5.85532058e+00, 1.24582391e+00, 1.62904346e+00, 7.94603091e-01,\n",
       "       7.14031212e+00, 1.22206086e+00, 1.14954720e+00, 2.08015552e+00,\n",
       "       4.82539771e+00, 6.62389256e-01, 2.18756199e+00, 2.17303413e+00,\n",
       "       1.84036822e+01, 7.00302248e+00, 5.23514550e-02, 7.25693922e+00,\n",
       "       4.86365115e+00, 9.37622732e-01, 8.44991758e+00, 5.28286154e+00,\n",
       "       5.75711805e+00, 1.03726892e+00, 1.93712256e+00, 1.01201855e+01,\n",
       "       7.91104221e+00, 3.57813144e+00, 4.91046030e+00, 7.02847789e-01,\n",
       "       3.74531642e+00, 1.49749951e+00, 1.09040648e+00, 7.65644323e+00,\n",
       "       2.83238058e+00, 5.40526068e+00, 3.02835618e+00, 1.16734584e+00,\n",
       "       1.37868700e+00, 5.14055121e-01, 1.31136191e+01, 6.62716968e-01,\n",
       "       9.54776643e-01, 3.52283515e+00, 2.30622110e+01, 4.26373323e+00,\n",
       "       5.44523775e+00, 3.10551166e-01, 7.37046908e+00, 2.19276347e+01,\n",
       "       6.02420287e-01, 3.07047064e+00, 1.41997207e+01, 5.52379331e-01,\n",
       "       4.41875473e+00, 1.57859211e+01, 1.11032463e+01, 9.37471212e+00,\n",
       "       4.34043786e+00, 1.78929045e+01, 8.14895207e+00, 1.57104149e+00,\n",
       "       3.68814157e+00, 1.53292018e-01, 3.18200208e-01, 2.83260936e+00,\n",
       "       6.38057249e+00, 1.73633681e+00, 5.69164287e-01, 8.38406895e-02,\n",
       "       1.63715447e+01, 1.64674290e+00, 2.13144262e+00, 1.06082015e+00,\n",
       "       5.02483988e+00, 8.97683284e+00, 1.40419098e+01, 5.57386619e+00,\n",
       "       5.39268725e+00, 1.08651797e+01, 2.80225158e+00, 2.23725996e-02,\n",
       "       4.71023175e+00, 2.40227980e-01, 6.40328903e-01, 6.72474998e+00,\n",
       "       5.85124199e+00, 6.28696030e+00, 9.21911671e+00, 9.41798645e+00,\n",
       "       5.18785686e+00, 8.79804025e+00, 5.91377843e+00, 6.66410991e-01,\n",
       "       9.96084856e+00, 4.67954652e+00, 5.01253614e+00, 2.55143795e+00,\n",
       "       4.06658183e+00, 1.91803584e+00, 6.54587723e-02, 7.81714945e+00,\n",
       "       1.07091777e+00, 2.30128048e+01, 2.43178544e+00, 1.45053294e+01,\n",
       "       3.91793544e-01, 3.85825453e+00, 2.96346587e+00, 2.13622198e+01,\n",
       "       3.82106691e+00, 1.18258841e+01, 9.51884599e-01, 1.87526460e+00,\n",
       "       2.02796098e+00, 3.06710480e+00, 1.17230178e+01, 1.24451382e+00,\n",
       "       6.09558155e+00, 8.29716683e+00, 3.12165778e+00, 1.11994858e+01,\n",
       "       6.51529904e-01, 5.27773168e+00, 2.22145014e+01, 7.15566790e-01,\n",
       "       7.23511855e+00, 5.37956572e+00, 2.52121380e+00, 3.59384933e+00,\n",
       "       7.23694215e-02, 7.35123423e-01, 2.93873932e+00, 8.56173964e+00,\n",
       "       2.01049122e+00, 9.41999633e+00, 2.39279362e+00, 6.22677447e+00,\n",
       "       3.54188326e+00, 4.72522697e-02, 7.00522167e+00, 1.78578191e+00,\n",
       "       3.57568874e+00, 9.36950866e-01, 3.42072799e-01, 2.90375236e+00,\n",
       "       3.02381820e+00, 2.09975696e+00, 3.05461865e+00, 1.74990646e+00,\n",
       "       1.45382071e+00, 4.13681310e+00, 5.39899646e+00, 1.55781128e+01,\n",
       "       1.44212026e+01, 2.74093229e+00, 1.63505766e+01, 1.06053769e-01,\n",
       "       1.08015761e+01, 6.95944709e+00, 1.42181336e+01, 4.52432006e+00,\n",
       "       2.64846519e+00, 6.21505764e-02, 4.57019278e+00, 4.69816941e-01,\n",
       "       8.41805492e+00, 4.06729663e-01, 5.94830874e+00, 2.79576067e+00,\n",
       "       3.41478873e-01, 3.64691037e+00, 5.20712938e+00, 3.20962925e+00,\n",
       "       7.51130625e-01, 3.08454886e+00, 1.55777883e+00, 3.66996700e+00,\n",
       "       2.96056322e-01, 6.13412019e+00, 6.87960673e+00, 3.34596126e+00,\n",
       "       2.98264139e+00, 2.17691048e-01, 4.39957597e+00, 1.61284835e-01,\n",
       "       1.81404785e-01, 3.94148562e+00, 6.80990417e+00, 3.31149311e+00,\n",
       "       3.53159254e-02, 6.40416460e+00, 3.19536542e-02, 5.32112303e+00,\n",
       "       4.84950636e-01, 8.64596391e+00, 2.78547854e+00, 7.19976237e+00,\n",
       "       1.39271942e+00, 2.42993442e+00, 1.09045103e+01, 4.57186558e+00,\n",
       "       9.63253601e+00, 8.04681272e-01, 3.11734795e+00, 4.03959986e-01,\n",
       "       8.96106540e+00, 1.72203845e+00, 8.71128224e-02, 2.21734464e+00,\n",
       "       2.31024115e+00, 1.51763623e+00, 7.32063903e+00, 1.24139458e+01,\n",
       "       1.26025817e+00, 5.97465201e+00, 1.37439068e+01, 8.30746027e-01,\n",
       "       1.03421740e+01, 1.36198709e+01, 1.45451540e+01, 4.24533459e-01,\n",
       "       2.31327020e+00, 4.47962683e+00, 7.35363528e+00, 1.78139281e-01,\n",
       "       1.14400481e+00, 9.22250332e-01, 1.38941607e+01, 1.89979609e-01,\n",
       "       8.28091049e+00, 6.77717298e+00, 1.42161392e+00, 6.72965218e+00,\n",
       "       1.17858905e+00, 5.42602063e+00, 1.58758496e+00, 3.37471915e+00,\n",
       "       9.57685888e+00, 1.38034817e+00, 6.37195539e+00, 6.76554171e+00,\n",
       "       9.09013638e+00, 1.45434721e+00, 8.51126937e+00, 3.99321715e-01,\n",
       "       1.76076367e+00, 5.91405717e-01, 1.40398673e+00, 2.45563885e+00,\n",
       "       2.90357626e+00, 3.19245407e-02, 1.37357588e+00, 1.45896046e+00,\n",
       "       8.01261072e+00, 3.00418882e+00, 2.83635793e+00, 1.60021270e+00,\n",
       "       7.13284434e+00, 2.49576894e+00, 1.21591737e+01, 4.85689082e+00,\n",
       "       3.80078903e+00, 4.97610171e-01, 2.59528047e+00, 5.74581923e+00,\n",
       "       1.19913774e+00, 1.91772289e+00, 4.26873241e+00, 1.06169137e+01,\n",
       "       4.72979347e+00, 8.38167912e+00, 4.50927477e+00, 6.12114508e+00,\n",
       "       3.61438496e+00, 1.63392987e+01, 8.06495731e+00, 7.07447518e+00,\n",
       "       4.91517247e+00, 3.37304972e+00, 6.74550385e+00, 7.26471665e-01,\n",
       "       3.43097487e+00, 3.21240252e+00, 6.96010934e-01, 2.87798598e+00,\n",
       "       1.55671471e+01, 1.56031023e+00, 1.16706298e+01, 2.51882813e-01,\n",
       "       5.20189079e+00, 5.67409638e+00, 6.66012394e+00, 4.65243636e-01])"
      ]
     },
     "execution_count": 188,
     "metadata": {},
     "output_type": "execute_result"
    }
   ],
   "source": [
    "# Generating exponential sample set:\n",
    "\n",
    "exp = np.random.exponential(scale=5, size=(1000))\n",
    "exp"
   ]
  },
  {
   "cell_type": "markdown",
   "metadata": {},
   "source": [
    "Generating an exponential histogram with PDF:"
   ]
  },
  {
   "cell_type": "code",
   "execution_count": 189,
   "metadata": {},
   "outputs": [
    {
     "data": {
      "image/png": "[encoded data removed]",
      "text/plain": [
       "<Figure size 432x288 with 1 Axes>"
      ]
     },
     "metadata": {},
     "output_type": "display_data"
    }
   ],
   "source": [
    "# Importing required libraries:\n",
    "\n",
    "import scipy.stats\n",
    "from scipy.stats import expon\n",
    "import matplotlib.pyplot as plt\n",
    "%matplotlib inline\n",
    "\n",
    "# Configuring the details of the histogram output [3]:\n",
    "\n",
    "plt.hist(exp, 40, density=True, alpha=0.6, color='g', edgecolor='k') # Adding sample count, amount of bins and density function line (True = normal),\n",
    "                                                                     # and adding edgecolour to the bins\n",
    "                                                    \n",
    "plt.title(\"Exponential distribution\") # Adding a title\n",
    "plt.ylabel('Density') # labelling my y axis\n",
    "plt.xlabel('Exponential sample values') # labelling my x axis \n",
    "\n",
    "\n",
    "# Fit our exponential distribution (exp) to the data [25]:\n",
    "mu, std = expon.fit(exp)\n",
    "\n",
    "# Plot the PDF [25]:\n",
    "\n",
    "xmin, xmax = plt.xlim()\n",
    "x = np.linspace(xmin, xmax, 100)\n",
    "p = expon.pdf(x, mu, std)\n",
    "plt.plot(x, p, 'r', linewidth=2)\n",
    "\n",
    "plt.show()"
   ]
  },
  {
   "cell_type": "markdown",
   "metadata": {},
   "source": [
    "### How the distributions are related\n",
    "\n",
    "#### Continuous vs discrete distributions and families"
   ]
  },
  {
   "cell_type": "markdown",
   "metadata": {},
   "source": [
    "### Use of seeds in generating pseudorandom numbers"
   ]
  },
  {
   "cell_type": "markdown",
   "metadata": {},
   "source": [
    "### References\n",
    "\n",
    "[1]. McKinney, W.(2018). *Python for Data Analysis*. Boston: O' Reilly.\n",
    "\n",
    "[2]. Lutz, M.(2013). *Learning Python*. Boston: O' Reilly\n",
    "\n",
    "[3]. SciPy.org, multiple authors (2018). *Random sampling (numpy.random)*. Retrieved from:    https://docs.scipy.org/doc/numpy-1.15.1/reference/routines.random.html\n",
    "\n",
    "[4]. Matplotlib.org, multiple authors (2018). *Shapes and collections\"*. Retrieved from:  https://matplotlib.org/gallery/shapes_and_collections/scatter.html\n",
    "\n",
    "[5]. Stattrek.com, multiple authors (2018). *What is a Probability Distribution?*. Retrieved from: https://stattrek.com/probability-distributions/probability-distribution.aspx\n",
    "\n",
    "[6]. Frost, J. (2018). *Statistics by Jim*. Retrieved from: http://statisticsbyjim.com/basics/normal-distribution/\n",
    "\n",
    "[7]. Mathisfun.com, multiple authors (2017). *Standard normal distribution*. Retrieved from: https://www.mathsisfun.com/data/standard-normal-distribution.html\n",
    "\n",
    "[8]. Khanacademy.org, multiple authors (2018). *Z scores review*. Retrieved from: https://www.khanacademy.org/math/statistics-probability/modeling-distributions-of-data/z-scores/a/z-scores-review\n",
    "\n",
    "[9]. Sullivan, M. (2018). *The Binomial Probability Distribution*. Retrieved from:https://faculty.elgin.edu/dkernler/statistics/ch06/6-2.html\n",
    "\n",
    "[10]. SciPy.org, multiple authors (2018). *scipy.stats.binom*. Retrieved from:https://docs.scipy.org/doc/scipy-0.14.0/reference/generated/scipy.stats.binom.html\n",
    "\n",
    "[11]. Wikipedia, multiple authors (2018. *Probabilty mass function*. Retrieved from: https://en.wikipedia.org/wiki/Probability_mass_function\n",
    "\n",
    "[12]. Lutus, P. (2013). *Binomial Probabilty*. Retrieved from: https://arachnoid.com/binomial_probability/#Probability_Mass_Function\n",
    "\n",
    "[13]. Dataflair (2018). *How to Implement Probability Distributions with Python*. Retrieved from:https://data-flair.training/blogs/probability-distributions-with-python/\n",
    "\n",
    "[14]. Datasciencecentral.com, multiple authors (2018). *Statistics how to*. Retrieved from: https://www.statisticshowto.datasciencecentral.com/poisson-distribution/\n",
    "\n",
    "[15]. Krishnan, M. (2017). *Poisson distribution with Python*. Retrieved from:http://muthu.co/poisson-distribution-with-python/\n",
    "\n",
    "[16]. Brooks, E. B. (2007). *The Poisson Distribution*. Retrieved from:https://www.umass.edu/wsp/resources/poisson/\n",
    "\n",
    "[17]. Wikipedia, multiple authors (2018) *The F distribution*. Retrieved from: https://en.wikipedia.org/wiki/F-distribution\n",
    "\n",
    "[18]. Datasciencecentral.com, multiple authors (2018). Statistics how to. Retrieved from:https://www.statisticshowto.datasciencecentral.com/probability-and-statistics/f-statistic-value-test/\n",
    "\n",
    "[19]. Pytolearn, multiple authors (2018). *F Distribution*. Retrieved from: http://pytolearn.csd.auth.gr/d1-hyptest/11/f-distro.html\n",
    "\n",
    "[20]. Frost, J. (2018). *Statistics by Jim*. Retrieved from: http://statisticsbyjim.com/anova/f-tests-anova/\n",
    "\n",
    "[21]. Brownlee, J. (2018). *Critical Values for Statistical Hypothesis Testing and How to Calculate Them in Python*. Retrieved from: https://machinelearningmastery.com/critical-values-for-statistical-hypothesis-testing/\n",
    "\n",
    "[22]. Cornett, J. (2014). *How do I do an F-test in Python*. Retrieved from: https://stackoverflow.com/questions/21494141/how-do-i-do-a-f-test-in-python\n",
    "\n",
    "[23]. Wikipedia, multiple authors (2018) *Exponential distribution*.Retrieved from: https://en.wikipedia.org/wiki/Exponential_distribution\n",
    "\n",
    "[24]. Statisticshowto.com, Author unknown (2014). *Exponetial distribution*. Retrieved from: https://www.statisticshowto.datasciencecentral.com/exponential-distribution/\n",
    "\n",
    "[25]. Weckesser, W. (2015). *Fitting a Normal distribution to 1D data*. Retrieved from: https://stackoverflow.com/questions/20011122/fitting-a-normal-distribution-to-1d-data"
   ]
  },
  {
   "cell_type": "code",
   "execution_count": null,
   "metadata": {},
   "outputs": [],
   "source": []
  }
 ],
 "metadata": {
  "kernelspec": {
   "display_name": "Python 3",
   "language": "python",
   "name": "python3"
  },
  "language_info": {
   "codemirror_mode": {
    "name": "ipython",
    "version": 3
   },
   "file_extension": ".py",
   "mimetype": "text/x-python",
   "name": "python",
   "nbconvert_exporter": "python",
   "pygments_lexer": "ipython3",
   "version": "3.6.5"
  }
 },
 "nbformat": 4,
 "nbformat_minor": 2
}
