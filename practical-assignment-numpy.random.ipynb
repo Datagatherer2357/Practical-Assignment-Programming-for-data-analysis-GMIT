{
 "cells": [
  {
   "cell_type": "markdown",
   "metadata": {},
   "source": [
    "<img src=\"https://image.ibb.co/gw4Gen/Index-GMIT.png\" alt=\"Index-GMIT\" border=\"0\">\n",
    "## Practical Assignment: ***numpy.random package***\n",
    "* Assignment for Programming for Data Analytics\n",
    "\n",
    "* Start date: 12-10-2018 End date 11-11-2018\n",
    "\n",
    "* Gareth Duffy \n",
    "-----------------------------------------------------------------------\n"
   ]
  },
  {
   "cell_type": "markdown",
   "metadata": {},
   "source": [
    "### Assignment outline and objectives\n",
    "1. Explain the overall purpose of the package.\n",
    "2. Explain the use of the “Simple random data” and “Permutations” functions.\n",
    "3. Explain the use and purpose of at least five “Distributions” functions.\n",
    "4. Explain the use of seeds in generating pseudorandom numbers.\n",
    "--------------------"
   ]
  },
  {
   "cell_type": "markdown",
   "metadata": {},
   "source": [
    "### Overall purpose of the package \n",
    "\n",
    "The random module in Python's numpy package is a widely used tool which affords a suite of functions for generating random numbers, data and distributions.\n",
    "It supplements the built-in Python *random* with functions for efficiently generating whole arrays of sample values from many kinds of probabilty distributions [1].\n",
    "The module is comprised of \"simple random data\" (functions), \"permutations\", \"distributions\" and \"random generators.\n",
    "It provides an array of tools, for tasks such as picking a random floating-point number between 0 and 1, and selecting a random integer between two numbers [2].\n",
    "The module is also capable of generating a vast amount of probability distribtions, e.g. a normal or binomial types.\n",
    "The module uses a popular and robust number generator called the *Mersenne Twister*. It also provides the function *seed* for setting the initial seed. These functions will be explored below.\n",
    "\n",
    "-----------------------------\n",
    "\n",
    "For an initial example; The random module can *choose* an item at random from a sequence or shuffle a list of items randomly:"
   ]
  },
  {
   "cell_type": "code",
   "execution_count": 1,
   "metadata": {
    "scrolled": true
   },
   "outputs": [
    {
     "data": {
      "text/plain": [
       "'Android'"
      ]
     },
     "execution_count": 1,
     "metadata": {},
     "output_type": "execute_result"
    }
   ],
   "source": [
    "# Choosing an item at random \n",
    "\n",
    "import random\n",
    "random.choice(['Windows', 'Linux', 'Mac', 'Android']) # List of operating systems"
   ]
  },
  {
   "cell_type": "code",
   "execution_count": 2,
   "metadata": {
    "scrolled": true
   },
   "outputs": [
    {
     "data": {
      "text/plain": [
       "'Windows'"
      ]
     },
     "execution_count": 2,
     "metadata": {},
     "output_type": "execute_result"
    }
   ],
   "source": [
    "# Repeating the random choice\n",
    "\n",
    "random.choice(['Windows', 'Linux', 'Mac', 'Android'])"
   ]
  },
  {
   "cell_type": "code",
   "execution_count": 3,
   "metadata": {
    "scrolled": true
   },
   "outputs": [
    {
     "data": {
      "text/plain": [
       "['Acer', 'Dell', 'HP', 'Apple', 'Microsoft']"
      ]
     },
     "execution_count": 3,
     "metadata": {},
     "output_type": "execute_result"
    }
   ],
   "source": [
    "# Shuffling a list of items randomly\n",
    "\n",
    "import random\n",
    "machines = ['HP', 'Dell', 'Microsoft', 'Apple', 'Acer'] # List of computer brands\n",
    "random.shuffle(machines)\n",
    "machines"
   ]
  },
  {
   "cell_type": "code",
   "execution_count": 4,
   "metadata": {
    "scrolled": true
   },
   "outputs": [
    {
     "data": {
      "text/plain": [
       "['HP', 'Acer', 'Apple', 'Microsoft', 'Dell']"
      ]
     },
     "execution_count": 4,
     "metadata": {},
     "output_type": "execute_result"
    }
   ],
   "source": [
    "# Repeating the random shuffle\n",
    "\n",
    "random.shuffle(machines)\n",
    "machines"
   ]
  },
  {
   "cell_type": "markdown",
   "metadata": {},
   "source": [
    "---------------------------\n",
    "\n",
    "Another example is that we can generate a 5 × 4 array of \"samples\" from the standard normal distribution using *normal* [2]:"
   ]
  },
  {
   "cell_type": "code",
   "execution_count": 5,
   "metadata": {
    "scrolled": true
   },
   "outputs": [
    {
     "data": {
      "text/plain": [
       "array([[-0.29949411,  0.45863439,  0.23609932,  0.39213722],\n",
       "       [ 0.79538379,  0.32829102,  0.38840433, -0.26405728],\n",
       "       [ 0.4685686 ,  1.15229844,  0.79814492, -0.93258662],\n",
       "       [ 1.56341622,  1.71581183, -0.74905407,  1.12355738],\n",
       "       [-1.12376213, -1.94375662,  1.94822359,  0.91155388]])"
      ]
     },
     "execution_count": 5,
     "metadata": {},
     "output_type": "execute_result"
    }
   ],
   "source": [
    "# Creating a randomly sampled array\n",
    "\n",
    "import numpy as np\n",
    "import random\n",
    "samples = np.random.normal(size=(5, 4))\n",
    "samples"
   ]
  },
  {
   "cell_type": "markdown",
   "metadata": {},
   "source": [
    "----------------------------\n",
    "\n",
    "### Use of “Simple random data” and “Permutations” functions\n",
    "\n",
    "The random module's *simple random data* section is a collection of ten functions, which perform different tasks. The afforementioned *random.choice()* function above is an example of one of these functions. \n",
    "\n",
    "Another function example is the *random.randint()* function, which returns random integers from *low* (inclusive) to *high* (exclusive). We can also include a third *size* argument as seen below:"
   ]
  },
  {
   "cell_type": "code",
   "execution_count": 6,
   "metadata": {
    "scrolled": true
   },
   "outputs": [
    {
     "data": {
      "text/plain": [
       "array([46, 29, 24, 14, 20, 61, 40])"
      ]
     },
     "execution_count": 6,
     "metadata": {},
     "output_type": "execute_result"
    }
   ],
   "source": [
    "# Generate seven random integers between 1 and 75\n",
    "\n",
    "import numpy as np\n",
    "np.random.randint(low=1, high=75, size=7) # specifying lower and upper values and array size"
   ]
  },
  {
   "cell_type": "markdown",
   "metadata": {},
   "source": [
    "We could also produce a numpy array of integers between 1 and 100:"
   ]
  },
  {
   "cell_type": "code",
   "execution_count": 72,
   "metadata": {
    "scrolled": true
   },
   "outputs": [
    {
     "data": {
      "text/plain": [
       "array([12,  3, 17,  1,  1,  7, 15, 11,  9, 14,  3,  4,  3, 12, 14, 17,  9,\n",
       "        9,  9,  3,  4, 13, 15,  1,  5,  4, 14, 12, 14, 14, 12, 17, 15, 17,\n",
       "        2,  9,  1,  5,  7, 14,  8, 16, 10, 19,  9, 16, 12,  7, 16,  2, 13,\n",
       "        4, 19, 16,  4, 11, 13,  7,  4,  6, 12,  1, 12,  9, 11, 12,  6, 16,\n",
       "        9,  3, 15,  4,  4,  8, 10, 10, 10,  4, 15, 19, 13,  4, 10, 11, 14,\n",
       "        8,  8,  2, 13,  3,  3,  2,  6,  9,  5,  1, 12,  3,  6, 17])"
      ]
     },
     "execution_count": 72,
     "metadata": {},
     "output_type": "execute_result"
    }
   ],
   "source": [
    "y = np.random.randint(1, 20, size=(100)) \n",
    "y"
   ]
  },
  {
   "cell_type": "markdown",
   "metadata": {},
   "source": [
    "Now we can plot this random array onto a histogram:"
   ]
  },
  {
   "cell_type": "code",
   "execution_count": 80,
   "metadata": {
    "scrolled": true
   },
   "outputs": [
    {
     "data": {
      "image/png": "[encoded data removed]",
      "text/plain": [
       "<Figure size 432x288 with 1 Axes>"
      ]
     },
     "metadata": {},
     "output_type": "display_data"
    }
   ],
   "source": [
    "# plotting a random array\n",
    "\n",
    "import matplotlib.pyplot as plt\n",
    "%matplotlib inline\n",
    "\n",
    "plt.title(\"GMIT randint histogram\") # Labelling the title\n",
    "plt.xlabel(\"Random integer\")        # Labelling x axis\n",
    "plt.ylabel(\"Frequency\")             # Labelling y axis\n",
    "\n",
    "plt.hist(y, edgecolor='k') # Configuring the edgecolour of the bars, before plotting\n",
    "\n",
    "plt.show() "
   ]
  },
  {
   "cell_type": "markdown",
   "metadata": {},
   "source": [
    "The histogram is nicely defined showing a bar measure for each number in the array and how many times each occurs.\n",
    "\n",
    "\n",
    "Another useful function belonging to the simple random data suite is the *random.rand* function. \n",
    "\n",
    "*rand* will take ANY number of arguments in its parameters and returns a set of random values in a given shape. So for example, we could create an array of this given shape and fill it with random samples from a uniform distribution over;[0, 1).\n",
    "\n",
    "But what does this mean ? It, means that the outputted distribution can include any random (floating point) number between 0 and 1 but won't include 1 *itself*. If no argument is specified, a single float will be returned [3]. For example, using rand we could randomly construct a 2D or 3D numpy array:"
   ]
  },
  {
   "cell_type": "code",
   "execution_count": 26,
   "metadata": {
    "scrolled": true
   },
   "outputs": [
    {
     "data": {
      "text/plain": [
       "array([[0.7356731 , 0.70830839, 0.10344341, 0.04139901],\n",
       "       [0.47125975, 0.03194845, 0.84777557, 0.34471699],\n",
       "       [0.41613219, 0.7402566 , 0.73720195, 0.42974194]])"
      ]
     },
     "execution_count": 26,
     "metadata": {},
     "output_type": "execute_result"
    }
   ],
   "source": [
    "# 2D array using rand function\n",
    "\n",
    "twoD = np.random.rand(3, 4) \n",
    "twoD"
   ]
  },
  {
   "cell_type": "code",
   "execution_count": 27,
   "metadata": {
    "scrolled": true
   },
   "outputs": [
    {
     "data": {
      "text/plain": [
       "array([[[0.83212292, 0.25585343, 0.21820813],\n",
       "        [0.76797526, 0.02457421, 0.24483006],\n",
       "        [0.83923557, 0.06606951, 0.67475305],\n",
       "        [0.80593456, 0.82906448, 0.26040309],\n",
       "        [0.56566314, 0.75397005, 0.57429166]],\n",
       "\n",
       "       [[0.59211133, 0.10175676, 0.20625569],\n",
       "        [0.75576133, 0.76831791, 0.99845509],\n",
       "        [0.44475385, 0.77799727, 0.6674606 ],\n",
       "        [0.68856896, 0.81150182, 0.74306045],\n",
       "        [0.23872086, 0.83209952, 0.0308947 ]]])"
      ]
     },
     "execution_count": 27,
     "metadata": {},
     "output_type": "execute_result"
    }
   ],
   "source": [
    "# 3D array using rand function\n",
    "\n",
    "threeD = np.random.rand(2, 5, 3) \n",
    "threeD"
   ]
  },
  {
   "cell_type": "markdown",
   "metadata": {},
   "source": [
    "Indeed, interesting and useful, but for the purpose of gaining a better visualization of our random data, we will go a bit further and input our own number into the rand parameters and produce a nice scatterplot:"
   ]
  },
  {
   "cell_type": "code",
   "execution_count": 70,
   "metadata": {
    "scrolled": true
   },
   "outputs": [
    {
     "data": {
      "image/png": "[encoded data removed]",
      "text/plain": [
       "<Figure size 432x288 with 1 Axes>"
      ]
     },
     "metadata": {},
     "output_type": "display_data"
    }
   ],
   "source": [
    "import numpy as np\n",
    "import matplotlib.pyplot\n",
    "\n",
    "# Creating our random scatteplot data [4].\n",
    "\n",
    "num = 135 # Number of random data points\n",
    "x = np.random.rand(num) # plots the random data positions (x and y axes)\n",
    "y = np.random.rand(num)\n",
    "colors = np.random.rand(num) # Using the random.rand function to create random colours on our points\n",
    "area = (20 * np.random.rand(num))**2  # This will determine the size properties of our scatter radii points\n",
    "\n",
    "# Setting the parameters of our plot\n",
    "\n",
    "plt.scatter(x, y, s=area, c=colors, alpha=0.5, edgecolor = 'black') # \"s\" plots an array like shape; \"c\" plots the colour sequence;  \n",
    "                                                                    # \"alpha\" is the blending value between 0 (transparent) and 1 (opaque).\n",
    "                                                                    # edgecolour adds edge colours to the radii points\n",
    "plt.title('Scatterplot of GMIT random assignment data') # For labelling our visible title    \n",
    "plt.xlabel('random x data') # labelling my x axis\n",
    "plt.ylabel('random y data') # labelling my y axis \n",
    "plt.show()"
   ]
  },
  {
   "cell_type": "markdown",
   "metadata": {},
   "source": [
    "There we are, a simple and appealing plot of purely randomly generated data\n",
    "\n",
    "----------------------------"
   ]
  },
  {
   "cell_type": "markdown",
   "metadata": {},
   "source": [
    "The module's **permutations** section is comprised of two more specialised funtions: *shuffle* and *permutation*. \n",
    "\n",
    "*shuffle* takes only one argument (x), and will modify a sequence in-place by shuffling its contents (as demonstrated in the example above). \n",
    "\n",
    "The shuffle function will also only shuffle an array along the first axis of a multi-dimensional array. The order of sub-arrays is changed but their contents remains the same [3]. So, below is another example of the shuffle function...but here we can shuffle a multidimensional array by row:"
   ]
  },
  {
   "cell_type": "code",
   "execution_count": 29,
   "metadata": {
    "scrolled": true
   },
   "outputs": [
    {
     "data": {
      "text/plain": [
       "array([[0.10834139, 0.1412637 , 0.0486077 ],\n",
       "       [0.46433101, 0.54414437, 0.63437346],\n",
       "       [0.72391129, 0.8438917 , 0.85893299],\n",
       "       [0.40809962, 0.13411108, 0.13324288],\n",
       "       [0.11620161, 0.13656185, 0.25003297]])"
      ]
     },
     "execution_count": 29,
     "metadata": {},
     "output_type": "execute_result"
    }
   ],
   "source": [
    "# First we create our random array object \"so_random\"\n",
    "\n",
    "so_random = np.random.random((5, 3)) # the random function returns random floats in the half-open interval [0.0, 1.0).\n",
    "so_random"
   ]
  },
  {
   "cell_type": "code",
   "execution_count": 30,
   "metadata": {
    "scrolled": true
   },
   "outputs": [
    {
     "data": {
      "text/plain": [
       "array([[0.72391129, 0.8438917 , 0.85893299],\n",
       "       [0.46433101, 0.54414437, 0.63437346],\n",
       "       [0.10834139, 0.1412637 , 0.0486077 ],\n",
       "       [0.40809962, 0.13411108, 0.13324288],\n",
       "       [0.11620161, 0.13656185, 0.25003297]])"
      ]
     },
     "execution_count": 30,
     "metadata": {},
     "output_type": "execute_result"
    }
   ],
   "source": [
    "# Next we shuffle the so_random array\n",
    "\n",
    "np.random.shuffle(so_random) # Our previous randomly shuffled array of floats entered into the shuffle parameter\n",
    "so_random"
   ]
  },
  {
   "cell_type": "markdown",
   "metadata": {},
   "source": [
    "So we can see all of the floats are still in the array but are now shuffled.\n",
    "\n",
    "Next, *permutation* will also take one argument (x) and randomly permute (randomly reorder) a sequence, or return a permuted range [3].\n",
    "\n",
    "While permutation appears to be very similar to the shuffle function, there are some differences. For example, if passed an array, permutation will return a shuffled copy of the array; np.random.shuffle shuffles the array *inplace*."
   ]
  },
  {
   "cell_type": "code",
   "execution_count": 20,
   "metadata": {
    "scrolled": true
   },
   "outputs": [
    {
     "data": {
      "text/plain": [
       "array([ 2, 11,  1,  5, 13,  3, 23, 17, 19,  7])"
      ]
     },
     "execution_count": 20,
     "metadata": {},
     "output_type": "execute_result"
    }
   ],
   "source": [
    "# Here I'll input a list of prime numbers, and apply the permutation function:\n",
    "\n",
    "import numpy as np\n",
    "np.random.permutation([1, 2, 3, 5, 7, 11, 13, 17, 19, 23])"
   ]
  },
  {
   "cell_type": "code",
   "execution_count": 39,
   "metadata": {
    "scrolled": true
   },
   "outputs": [
    {
     "data": {
      "text/plain": [
       "array([[ 0,  1,  2,  3,  4],\n",
       "       [ 5,  6,  7,  8,  9],\n",
       "       [10, 11, 12, 13, 14],\n",
       "       [15, 16, 17, 18, 19],\n",
       "       [20, 21, 22, 23, 24]])"
      ]
     },
     "execution_count": 39,
     "metadata": {},
     "output_type": "execute_result"
    }
   ],
   "source": [
    "# Let's apply permutation to an array\n",
    "\n",
    "# First we will create a random array:\n",
    "\n",
    "array_mix = np.arange(25).reshape((5, 5))\n",
    "array_mix"
   ]
  },
  {
   "cell_type": "code",
   "execution_count": 38,
   "metadata": {
    "scrolled": true
   },
   "outputs": [
    {
     "data": {
      "text/plain": [
       "array([[ 0,  1,  2,  3,  4],\n",
       "       [15, 16, 17, 18, 19],\n",
       "       [ 5,  6,  7,  8,  9],\n",
       "       [10, 11, 12, 13, 14],\n",
       "       [20, 21, 22, 23, 24]])"
      ]
     },
     "execution_count": 38,
     "metadata": {},
     "output_type": "execute_result"
    }
   ],
   "source": [
    "# Now we will apply the permutation function to the array:\n",
    "\n",
    "np.random.permutation(array_mix)"
   ]
  },
  {
   "cell_type": "markdown",
   "metadata": {},
   "source": [
    "Permuting a series or the rows in a dataframe is also quite easy to achieve. "
   ]
  },
  {
   "cell_type": "code",
   "execution_count": 87,
   "metadata": {
    "scrolled": true
   },
   "outputs": [
    {
     "data": {
      "text/html": [
       "<div>\n",
       "<style scoped>\n",
       "    .dataframe tbody tr th:only-of-type {\n",
       "        vertical-align: middle;\n",
       "    }\n",
       "\n",
       "    .dataframe tbody tr th {\n",
       "        vertical-align: top;\n",
       "    }\n",
       "\n",
       "    .dataframe thead th {\n",
       "        text-align: right;\n",
       "    }\n",
       "</style>\n",
       "<table border=\"1\" class=\"dataframe\">\n",
       "  <thead>\n",
       "    <tr style=\"text-align: right;\">\n",
       "      <th></th>\n",
       "      <th>0</th>\n",
       "      <th>1</th>\n",
       "      <th>2</th>\n",
       "      <th>3</th>\n",
       "      <th>4</th>\n",
       "      <th>5</th>\n",
       "      <th>6</th>\n",
       "    </tr>\n",
       "  </thead>\n",
       "  <tbody>\n",
       "    <tr>\n",
       "      <th>0</th>\n",
       "      <td>0</td>\n",
       "      <td>1</td>\n",
       "      <td>2</td>\n",
       "      <td>3</td>\n",
       "      <td>4</td>\n",
       "      <td>5</td>\n",
       "      <td>6</td>\n",
       "    </tr>\n",
       "    <tr>\n",
       "      <th>1</th>\n",
       "      <td>7</td>\n",
       "      <td>8</td>\n",
       "      <td>9</td>\n",
       "      <td>10</td>\n",
       "      <td>11</td>\n",
       "      <td>12</td>\n",
       "      <td>13</td>\n",
       "    </tr>\n",
       "    <tr>\n",
       "      <th>2</th>\n",
       "      <td>14</td>\n",
       "      <td>15</td>\n",
       "      <td>16</td>\n",
       "      <td>17</td>\n",
       "      <td>18</td>\n",
       "      <td>19</td>\n",
       "      <td>20</td>\n",
       "    </tr>\n",
       "    <tr>\n",
       "      <th>3</th>\n",
       "      <td>21</td>\n",
       "      <td>22</td>\n",
       "      <td>23</td>\n",
       "      <td>24</td>\n",
       "      <td>25</td>\n",
       "      <td>26</td>\n",
       "      <td>27</td>\n",
       "    </tr>\n",
       "    <tr>\n",
       "      <th>4</th>\n",
       "      <td>28</td>\n",
       "      <td>29</td>\n",
       "      <td>30</td>\n",
       "      <td>31</td>\n",
       "      <td>32</td>\n",
       "      <td>33</td>\n",
       "      <td>34</td>\n",
       "    </tr>\n",
       "  </tbody>\n",
       "</table>\n",
       "</div>"
      ],
      "text/plain": [
       "    0   1   2   3   4   5   6\n",
       "0   0   1   2   3   4   5   6\n",
       "1   7   8   9  10  11  12  13\n",
       "2  14  15  16  17  18  19  20\n",
       "3  21  22  23  24  25  26  27\n",
       "4  28  29  30  31  32  33  34"
      ]
     },
     "execution_count": 87,
     "metadata": {},
     "output_type": "execute_result"
    }
   ],
   "source": [
    "# Creating a dataframe\n",
    "\n",
    "import pandas as pd\n",
    "GMIT_df = pd.DataFrame(np.arange(7 * 5).reshape((5, 7))) # Arranges and shapes the amount of rows and columns in the dataframe (GMIT_df)\n",
    "GMIT_df"
   ]
  },
  {
   "cell_type": "code",
   "execution_count": 88,
   "metadata": {
    "scrolled": true
   },
   "outputs": [
    {
     "data": {
      "text/plain": [
       "array([[21, 22, 23, 24, 25, 26, 27],\n",
       "       [ 0,  1,  2,  3,  4,  5,  6],\n",
       "       [ 7,  8,  9, 10, 11, 12, 13],\n",
       "       [28, 29, 30, 31, 32, 33, 34],\n",
       "       [14, 15, 16, 17, 18, 19, 20]])"
      ]
     },
     "execution_count": 88,
     "metadata": {},
     "output_type": "execute_result"
    }
   ],
   "source": [
    "# Permuting the dataframe\n",
    "\n",
    "np.random.permutation(GMIT_df)"
   ]
  },
  {
   "cell_type": "markdown",
   "metadata": {},
   "source": [
    "Calling permutation with the length of the axis you want to permute produces an array of integers indicating the new\n",
    "ordering [1]:"
   ]
  },
  {
   "cell_type": "code",
   "execution_count": 99,
   "metadata": {
    "scrolled": true
   },
   "outputs": [
    {
     "data": {
      "text/plain": [
       "array([4, 2, 1, 0, 3])"
      ]
     },
     "execution_count": 99,
     "metadata": {},
     "output_type": "execute_result"
    }
   ],
   "source": [
    "# Producing random array\n",
    "\n",
    "sample_arr = np.random.permutation(5) # Permuting array \n",
    "sample_arr"
   ]
  },
  {
   "cell_type": "markdown",
   "metadata": {},
   "source": [
    "This array can now be used in iloc-based indexing (by incorporating the *take* function) with our above dataframe (GMIT_DF) [1]:"
   ]
  },
  {
   "cell_type": "code",
   "execution_count": 101,
   "metadata": {
    "scrolled": true
   },
   "outputs": [
    {
     "data": {
      "text/html": [
       "<div>\n",
       "<style scoped>\n",
       "    .dataframe tbody tr th:only-of-type {\n",
       "        vertical-align: middle;\n",
       "    }\n",
       "\n",
       "    .dataframe tbody tr th {\n",
       "        vertical-align: top;\n",
       "    }\n",
       "\n",
       "    .dataframe thead th {\n",
       "        text-align: right;\n",
       "    }\n",
       "</style>\n",
       "<table border=\"1\" class=\"dataframe\">\n",
       "  <thead>\n",
       "    <tr style=\"text-align: right;\">\n",
       "      <th></th>\n",
       "      <th>0</th>\n",
       "      <th>1</th>\n",
       "      <th>2</th>\n",
       "      <th>3</th>\n",
       "      <th>4</th>\n",
       "      <th>5</th>\n",
       "      <th>6</th>\n",
       "    </tr>\n",
       "  </thead>\n",
       "  <tbody>\n",
       "    <tr>\n",
       "      <th>4</th>\n",
       "      <td>28</td>\n",
       "      <td>29</td>\n",
       "      <td>30</td>\n",
       "      <td>31</td>\n",
       "      <td>32</td>\n",
       "      <td>33</td>\n",
       "      <td>34</td>\n",
       "    </tr>\n",
       "    <tr>\n",
       "      <th>2</th>\n",
       "      <td>14</td>\n",
       "      <td>15</td>\n",
       "      <td>16</td>\n",
       "      <td>17</td>\n",
       "      <td>18</td>\n",
       "      <td>19</td>\n",
       "      <td>20</td>\n",
       "    </tr>\n",
       "    <tr>\n",
       "      <th>1</th>\n",
       "      <td>7</td>\n",
       "      <td>8</td>\n",
       "      <td>9</td>\n",
       "      <td>10</td>\n",
       "      <td>11</td>\n",
       "      <td>12</td>\n",
       "      <td>13</td>\n",
       "    </tr>\n",
       "    <tr>\n",
       "      <th>0</th>\n",
       "      <td>0</td>\n",
       "      <td>1</td>\n",
       "      <td>2</td>\n",
       "      <td>3</td>\n",
       "      <td>4</td>\n",
       "      <td>5</td>\n",
       "      <td>6</td>\n",
       "    </tr>\n",
       "    <tr>\n",
       "      <th>3</th>\n",
       "      <td>21</td>\n",
       "      <td>22</td>\n",
       "      <td>23</td>\n",
       "      <td>24</td>\n",
       "      <td>25</td>\n",
       "      <td>26</td>\n",
       "      <td>27</td>\n",
       "    </tr>\n",
       "  </tbody>\n",
       "</table>\n",
       "</div>"
      ],
      "text/plain": [
       "    0   1   2   3   4   5   6\n",
       "4  28  29  30  31  32  33  34\n",
       "2  14  15  16  17  18  19  20\n",
       "1   7   8   9  10  11  12  13\n",
       "0   0   1   2   3   4   5   6\n",
       "3  21  22  23  24  25  26  27"
      ]
     },
     "execution_count": 101,
     "metadata": {},
     "output_type": "execute_result"
    }
   ],
   "source": [
    "# Applying the permuted array to re-index dataframe\n",
    "\n",
    "GMIT_df.take(sample_arr) # \"take\" takes elements from an array along an axis\n"
   ]
  },
  {
   "cell_type": "markdown",
   "metadata": {},
   "source": [
    "### Use and purpose of  “Distributions” functions"
   ]
  },
  {
   "cell_type": "markdown",
   "metadata": {},
   "source": [
    "Numpy's random distribution functions is a suite of probabilty distributions of many different varieties as we will see. \n",
    "\n",
    "What is a probability distribution? \n",
    "\n",
    "A probability distribution is a table or an equation that links each outcome of a statistical experiment with its probability of occurrence. That is, it provides the probabilities of occurrence of different possible *outcomes* of any given experiment [5]. Probability distributions can show simple events, like tossing a coin or picking a card. They can also show much more complex events, like the probability of a certain drug successfully treating cancer. \n",
    "\n",
    "To get a better understanding of probability distributions we need to understand random variables.\n",
    "\n",
    "A variables is a symbol (A, B, x, y, z etc) that can adopt any specified set of values. When the value of a variable is the result of a statistical experiment, then it is known as a random variable.\n",
    "\n",
    "To explain the relationship between random variables and probability distributions imagine flipping a coin twice.\n",
    "\n",
    "This very basic statistical experiment can have four possible outcomes:\n",
    "\n",
    "* **Heads/Heads**\n",
    "* **Heads/Tails**\n",
    "* **Tails/Heads**\n",
    "* **Tails/Tails**\n",
    "\n",
    "\"X\" represents the number of heads that result from our experiment with its probability of occurence. The table below, which associates each outcome with its chance of occuring (probability), is an example of a basic probabilty distribution.\n",
    "\n",
    "| No. of heads (X) | Probabilty |\n",
    "| :--------------: | :--------: |\n",
    "| 0                | 0.25       |\n",
    "| 1                | 0.50       |\n",
    "| 2                | 0.25       |\n",
    "\n",
    "There we have it, we have just produced a small probability distribution by conducting a very basic experiment which genrated random variables.\n",
    "\n",
    "----------------------"
   ]
  },
  {
   "cell_type": "markdown",
   "metadata": {},
   "source": [
    "#### Normal distribution\n",
    "\n",
    "The normal distribution (also known as the Gaussian distribution or bell curve) is the most important probability distribution in statistics because it fits many natural phenomena. For example, heights, blood pressure, measurement error, and IQ scores follow the normal distribution. The normal distribution is symmetric and most of the observations cluster around the central peak and the probabilities for values further away from the mean taper off equally in both directions. Extreme values in both tails (extreme left or right) of the distribution are also unlikely, they are know as outliers [6].\n",
    "\n",
    "The parameters for the normal distribution define its shape and probabilities. The normal distribution has two parameters, the mean and standard deviation: \n",
    "\n",
    "* The mean (M) is the central tendency of the distribution. It defines the location of the peak for normal distributions. Most values cluster around the mean. \n",
    "\n",
    "* The standard deviation (SD) is a measure of variability. It defines the width of the normal distribution. The standard deviation determines how far away from the mean the values tend to fall. It represents the typical *distance* between the observations and the mean [6].\n",
    "\n",
    "numpy.random.normal draws random samples from a normal distribution. It has three parameters: location (M), scale (SD) and size (optional).\n",
    "\n",
    "Let's have a look at some examples:"
   ]
  },
  {
   "cell_type": "code",
   "execution_count": 137,
   "metadata": {
    "scrolled": true
   },
   "outputs": [
    {
     "data": {
      "text/plain": [
       "array([ 1.18171251e-01, -7.74848230e-02, -1.10990966e-02,  3.17810675e-02,\n",
       "       -7.76462608e-02, -2.55453843e-02, -1.95912727e-01, -1.60564289e-01,\n",
       "        7.46724246e-02,  8.44085959e-02, -1.17557321e-01,  2.92270546e-02,\n",
       "       -1.49315235e-01,  2.14812934e-02, -2.70004280e-02,  7.92754684e-03,\n",
       "        1.08442466e-01,  1.02283809e-01,  2.69384349e-02, -4.70555718e-02,\n",
       "        1.24289556e-02, -9.07064047e-02,  1.84512411e-01,  8.52833432e-02,\n",
       "        1.36176194e-01, -4.31756897e-02,  1.51995793e-01,  2.06836917e-01,\n",
       "        6.46547815e-02, -6.57608246e-02, -5.15950150e-02,  1.13232611e-01,\n",
       "        1.63639897e-01, -4.34894013e-02,  1.12510795e-01,  2.49903358e-02,\n",
       "        7.87308534e-02,  1.23095968e-01,  1.30043698e-02, -9.84321818e-02,\n",
       "       -3.79280978e-02,  1.00828655e-01, -6.24154818e-02, -1.04041050e-02,\n",
       "       -1.44458416e-01,  4.78793498e-02, -3.41826390e-02,  6.48973774e-02,\n",
       "       -1.90656943e-02, -2.46104722e-02, -1.15842569e-01, -3.59036585e-02,\n",
       "       -4.09347517e-02, -1.21543195e-01, -1.27086566e-01, -6.48280005e-02,\n",
       "        9.12158648e-02, -9.32460645e-02,  1.15471398e-01,  4.22689347e-02,\n",
       "       -1.01974107e-01,  1.20098577e-01, -3.51461387e-03,  1.27167276e-01,\n",
       "        5.46931327e-02,  6.68509489e-02, -1.18142736e-01,  1.20287934e-01,\n",
       "       -2.11872747e-02, -5.43991965e-02,  1.33102847e-01,  9.79602406e-02,\n",
       "        2.00844192e-01,  5.45707925e-02, -2.02491880e-01,  1.02872609e-01,\n",
       "       -8.76665846e-02,  1.15581615e-01,  3.83968816e-03,  3.89111789e-02,\n",
       "       -1.83515879e-02, -1.33743522e-02,  6.75449564e-02, -1.24138988e-01,\n",
       "        1.75070315e-01,  9.95687556e-04,  1.92350123e-01,  8.75447398e-03,\n",
       "        1.17345527e-01,  1.35481473e-01,  2.64148526e-02,  4.31512898e-02,\n",
       "       -1.89952596e-02,  7.56980398e-02,  1.88318183e-01, -3.56579196e-02,\n",
       "       -1.86845087e-01, -3.08246699e-02, -2.04787896e-01, -7.96010621e-02,\n",
       "       -1.13376522e-02, -1.40803308e-01, -1.48572519e-02,  1.28028220e-02,\n",
       "        6.44641313e-03,  4.40067958e-02,  3.72175137e-02, -1.12686395e-01,\n",
       "       -4.37034613e-02, -6.94435380e-02, -1.37079157e-01, -2.00386789e-02,\n",
       "       -6.71045721e-02,  1.72650272e-02, -5.50762697e-02, -3.60698375e-03,\n",
       "        7.49407453e-02,  2.30259584e-04,  8.86712731e-03,  9.68320924e-02,\n",
       "        1.96292885e-01,  1.71128173e-01,  4.74124215e-02, -1.06966926e-01,\n",
       "       -5.36873459e-02, -4.24212755e-02, -1.01865710e-01, -3.02559241e-01,\n",
       "        1.34086205e-01, -1.25371410e-02, -4.20853342e-02, -2.31573008e-01,\n",
       "        1.08608123e-01,  5.58541034e-02, -5.54390464e-02,  1.72670636e-01,\n",
       "       -1.22168761e-02, -4.29001897e-02,  5.94242195e-02, -2.08111884e-02,\n",
       "       -9.19403631e-02, -1.71108519e-02,  4.92596370e-02,  1.65584988e-02,\n",
       "        1.20040540e-01,  5.07165586e-03,  1.48363555e-02, -1.08677130e-02,\n",
       "        1.57101115e-02, -3.17146395e-02,  6.12102816e-02,  2.75437619e-02,\n",
       "       -7.09357974e-02,  9.00132076e-02, -1.35925525e-02, -6.36736478e-02,\n",
       "        5.49871024e-02,  5.39136439e-02, -4.71594882e-02, -3.22631248e-01,\n",
       "       -3.86283077e-02, -2.42059600e-02, -1.39795785e-01,  1.40085282e-01,\n",
       "        1.47192874e-01, -7.96962441e-02,  6.19284415e-02,  1.02345721e-01,\n",
       "       -2.91213273e-01, -7.46340445e-02,  2.30872382e-02, -1.17302390e-01,\n",
       "        1.06048219e-01,  1.61987103e-02, -6.43302736e-02, -1.60528601e-02,\n",
       "        9.38481895e-02,  2.24549396e-02, -7.06385094e-02,  7.10616935e-02,\n",
       "        1.09400167e-02,  7.05993466e-02, -2.03524636e-01, -1.75554009e-01,\n",
       "        4.48920288e-03, -2.28426268e-02, -1.06300365e-01,  5.67654482e-03,\n",
       "       -1.59519572e-01,  1.62587919e-01, -1.89332914e-01,  1.73447268e-01,\n",
       "       -6.12745934e-02,  1.18988855e-01,  2.57243494e-02,  5.53388998e-02,\n",
       "       -4.09189234e-02, -5.94509386e-02, -1.17071580e-01,  8.56910874e-02,\n",
       "        9.44912719e-02,  1.01068478e-01, -1.43798916e-01, -4.45317757e-04,\n",
       "        1.11591924e-02,  1.29762347e-01,  5.48026309e-02,  2.45268634e-02,\n",
       "        1.28351156e-01, -4.05701477e-02,  2.67395338e-02,  1.15277657e-01,\n",
       "        3.26477263e-02, -1.28051253e-02, -5.24609003e-02,  1.49323335e-01,\n",
       "        1.48861807e-01,  3.28330689e-02,  2.42493020e-02, -1.30576311e-02,\n",
       "       -9.12716308e-02, -7.83970715e-02, -5.78853726e-02,  9.86015014e-02,\n",
       "       -1.30433396e-01, -1.76174198e-02, -2.14666931e-02, -1.71713785e-02,\n",
       "        1.60551745e-02,  8.74301986e-03, -1.09630294e-02, -1.04278302e-01,\n",
       "        1.37629112e-02, -1.35014678e-01,  1.22892852e-01,  2.16273685e-02,\n",
       "       -3.80352205e-02,  8.22140152e-02,  5.22421812e-04, -8.62713217e-02,\n",
       "        1.77464632e-03,  1.94684091e-02,  4.61752939e-02, -5.13114615e-02,\n",
       "        3.78362646e-02, -2.22641570e-03,  6.35396908e-02,  1.35638477e-01,\n",
       "       -9.91094230e-02, -1.12838000e-01,  1.64312943e-01,  4.15273394e-02,\n",
       "       -3.26470539e-03,  2.29755053e-01,  1.19924981e-01,  1.63337081e-03,\n",
       "        3.24957343e-02, -7.08408368e-03, -1.13549719e-01, -1.73921955e-02,\n",
       "        1.16393254e-02, -2.97172405e-02,  1.20931929e-01,  1.35176090e-02,\n",
       "        1.55149770e-02,  2.46803628e-02, -1.25441962e-01,  4.91365943e-02,\n",
       "       -1.50099034e-01, -1.58493031e-02, -4.55167622e-02,  5.56431279e-02,\n",
       "        1.98086507e-02, -1.26706150e-01,  6.39176110e-02, -1.91600357e-01,\n",
       "       -6.92694169e-02, -1.26202787e-01,  9.60100122e-02, -1.63311433e-01,\n",
       "       -5.07280433e-02,  1.26689289e-01,  1.16382739e-01, -2.65772446e-02,\n",
       "        1.38263739e-01,  1.25177060e-02,  1.58544135e-01,  2.43790157e-02,\n",
       "        4.67110517e-02,  2.25572033e-02, -1.02239938e-01,  1.19990968e-01,\n",
       "       -6.41498903e-02, -3.30051339e-02, -4.68106135e-02, -2.79044398e-02,\n",
       "        1.57341330e-01,  2.67678669e-01,  1.45358268e-02, -1.29669966e-01,\n",
       "        1.23648365e-01, -1.57101745e-03, -7.53884418e-02,  5.28553234e-02,\n",
       "        1.11875756e-01, -4.42112279e-02,  1.20359601e-01, -9.25895296e-02,\n",
       "        5.76313062e-02,  1.59510195e-02,  1.89430058e-02,  8.83887187e-02,\n",
       "       -7.52864240e-02, -1.62239834e-02, -1.17119935e-01,  6.08428972e-02,\n",
       "       -1.40568108e-01,  1.79098601e-01,  2.55187831e-02,  2.57014743e-02,\n",
       "       -2.91470277e-02, -1.09083171e-03, -7.12734096e-02, -2.43507956e-01,\n",
       "        6.43842796e-02,  3.40546302e-02,  1.08051980e-01, -1.52735242e-01,\n",
       "        1.94578793e-01, -2.17076923e-02, -5.11463309e-02,  6.52965429e-02,\n",
       "        1.12886693e-02, -1.50565772e-01,  1.80799525e-01, -4.10910786e-02,\n",
       "        2.00159108e-01, -7.91385224e-02,  1.49174793e-02, -9.58182473e-02,\n",
       "        9.30068561e-02, -6.53140085e-03, -3.59254204e-02, -1.07676863e-01,\n",
       "       -3.10849170e-02, -2.96362674e-03,  4.79936895e-02,  1.46287276e-01,\n",
       "       -9.33578863e-02, -1.89092676e-01, -9.19219721e-02,  2.24898494e-01,\n",
       "       -1.21505956e-02,  8.29678364e-02,  7.74639406e-02,  5.50248802e-02,\n",
       "        2.40192509e-02, -6.46216721e-02,  2.68440965e-03,  7.42887545e-03,\n",
       "        1.08037186e-01, -1.08069705e-01,  1.06611430e-01, -4.75447573e-02,\n",
       "       -1.03109603e-01, -1.21188678e-02, -1.19921677e-01, -1.17439163e-01,\n",
       "        1.13844633e-01, -6.54217900e-02, -3.96096110e-02,  7.58763864e-02,\n",
       "       -1.34783528e-01,  1.39075588e-01,  7.82697859e-02, -5.72825239e-02,\n",
       "       -2.45010253e-03, -2.73665042e-02,  4.94793027e-02, -1.84049672e-02,\n",
       "        9.77983416e-02, -3.10983692e-02,  2.04106433e-02, -1.10854138e-01,\n",
       "       -4.67529168e-02, -1.60841610e-01, -1.10098279e-02, -9.14855054e-02,\n",
       "       -2.61014678e-02, -1.95585847e-01,  7.36659159e-02, -1.14316787e-01,\n",
       "       -1.28301945e-01, -1.25893727e-01,  9.99009070e-02,  1.37140180e-02,\n",
       "       -2.13175882e-02, -1.54216566e-01,  2.80813636e-02, -9.10492715e-02,\n",
       "       -1.64121433e-01,  7.37820131e-02,  6.02881533e-02, -6.40833284e-02,\n",
       "       -9.17471828e-02,  6.07475986e-02, -1.72891434e-01, -4.54018071e-02,\n",
       "        1.30574284e-01,  1.26700874e-01, -2.74273509e-02, -6.00507004e-02,\n",
       "       -4.86372361e-02,  9.28976172e-02,  4.40773736e-02,  1.30516811e-02,\n",
       "       -1.57866154e-01, -8.59299880e-02, -1.01259312e-02, -1.18229567e-01,\n",
       "       -7.84045645e-02,  1.79721775e-02, -1.63265385e-02,  6.49547071e-02,\n",
       "       -8.90977702e-02,  4.04842481e-02, -7.69235257e-02, -9.34762485e-02,\n",
       "       -6.82269865e-02, -3.37397420e-02, -8.89532926e-02,  1.48614693e-01,\n",
       "       -2.85112555e-02,  1.52621132e-02, -1.12976899e-01,  9.81181764e-02,\n",
       "       -3.87631597e-03,  7.59998939e-02,  3.97246998e-02,  1.32143295e-01,\n",
       "        3.63268961e-02, -6.14060554e-02, -3.22707687e-01, -1.18539291e-01,\n",
       "        2.14850302e-02,  1.46211040e-01,  8.15213008e-03,  5.31204905e-02,\n",
       "       -3.51922234e-02,  9.72380888e-02, -4.69534945e-02, -3.14833045e-02,\n",
       "        3.44855428e-02, -2.27304635e-02, -4.74808003e-02, -2.44562413e-02,\n",
       "       -8.31319402e-03, -4.31377883e-02, -2.27128455e-02, -1.43803133e-01,\n",
       "        9.23876842e-02,  8.49382264e-03, -2.36826291e-01,  6.20824021e-02,\n",
       "       -3.56565395e-02,  5.80631479e-02,  1.28326442e-02, -2.32477425e-02,\n",
       "       -1.35583373e-02,  9.93978035e-02,  1.83807956e-01,  6.21604195e-02,\n",
       "        3.71186606e-02,  3.34483048e-02,  8.68058952e-02, -2.55422932e-02,\n",
       "        2.00229126e-01, -5.04781216e-02, -3.09303571e-02,  1.14604318e-01,\n",
       "       -2.36374829e-02, -5.09240082e-02, -1.22210753e-01,  7.65552186e-02,\n",
       "       -1.26592516e-01,  6.76893902e-02, -7.96023272e-02, -6.90029516e-02,\n",
       "       -5.03485938e-02,  1.11980386e-02,  5.99205961e-02,  1.07045035e-01,\n",
       "        8.44604270e-04,  6.39801106e-02,  5.74232136e-02, -2.25501638e-01,\n",
       "       -8.25194846e-02,  8.42167014e-02,  1.42184930e-01, -1.40391842e-01])"
      ]
     },
     "execution_count": 137,
     "metadata": {},
     "output_type": "execute_result"
    }
   ],
   "source": [
    "# Let's take samples from a normal distribution\n",
    "\n",
    "import numpy as np\n",
    " \n",
    "M, SD, = 0, 0.1 # Creating our mean and standard deviation variables\n",
    "examples = np.random.normal(M, SD, size=500) # (Mean, stanard deviation, size)\n",
    "examples"
   ]
  },
  {
   "cell_type": "markdown",
   "metadata": {},
   "source": [
    "Now let's plot these samples:"
   ]
  },
  {
   "cell_type": "code",
   "execution_count": 211,
   "metadata": {
    "scrolled": true
   },
   "outputs": [
    {
     "data": {
      "image/png": "[encoded data removed]",
      "text/plain": [
       "<Figure size 432x288 with 1 Axes>"
      ]
     },
     "metadata": {},
     "output_type": "display_data"
    }
   ],
   "source": [
    "# Creating a histogram of our normal distribution samples:\n",
    "\n",
    "import numpy as np\n",
    "import matplotlib.pyplot as plt\n",
    "%matplotlib inline\n",
    "\n",
    "# Configuring the details of the histogram output [3]:\n",
    "\n",
    "plt.hist(examples, bins=40, density=True, edgecolor='k') # Adding sample count, amount of bins and density function line (True = normal),\n",
    "                                                         # and adding edgecolour to the bins\n",
    "\n",
    "plt.plot(bins, 1/(SD * np.sqrt(2 * np.pi)) * np.exp( - (bins - M)**2 / (2 * SD**2) ), linewidth=2, color='r', label=\"Probability density function\") # Adding the probability density function:        \n",
    "plt.legend() # Adding a legend box into the plot\n",
    "plt.ylabel('Random examples') # labelling my y axis\n",
    "plt.xlabel('Mean and standard deviations') # labelling my x axis \n",
    "plt.title(' Normal distribution') # Adding title\n",
    "\n",
    "plt.show()"
   ]
  },
  {
   "cell_type": "markdown",
   "metadata": {},
   "source": [
    "The normal distribution plot above clearly shows some interesting features. Indeed, when we say that it is *distributed*, it means that the normal distribution has symmetry around its centre and that roughly 50% of the values are less that the mean and 50% are greater.\n",
    "\n",
    "As previously mentioned, the standard deviation is a measure of how the sample numbers are spread out. For example, typically in a normal distribution 68% of the values lie within 1 SD's of the mean i.e. -0.1 or 0.1 which you should be able to visualize above. Ninety-five percent of the values lie within 2 SD's and 98% within 3 SD's [7]. Any outliers (or extreme scores) that are within this area of the distribution will tend to skew the distribution to the left or right and thus affect certain statistical tests such as the reliability of regression models. \n",
    "\n",
    "There are several other reasons why the normal distribution is important in statistics and data science. One example is in central limit theorem, which states that as the sample size increases, the sampling distribution of the mean follows a normal distribution even when the underlying distribution of the original variable is non-normal [6]. Another crucial reason is for plotting *Z-scores* so that we can compare data of different measurement types: \n",
    "\n",
    "Despite their slightly different shapes, all forms of the normal distribution share similar properties. The standard normal distribution is a special case in that the mean is 0 and the SD is 1. This is what is known as the Z-distribution and this is extremely useful when \"converting\" scores of different data measurements. For example, the mean will always have a Z-score of 0 [8].\n",
    "\n",
    "Z-scores allow us to compare observations drawn from normally distributed populations which have *different* means and SDs and compare them on a standard scale, a process called *standardization*. To do this we convert the raw data measurements into Z-scores so that we can compare different types of data along the **same** scale. The Z-score formula is calculated by subtracting the total score from the mean and then dividing it by standard deviation[8]. For example:  \n",
    "\n",
    "The grades on a data analytics exam have a mean of 85 and a SD of 2.\n",
    "\n",
    "Gareth scored 86 on the exam.\n",
    "\n",
    "Thus, to find the Z-score for Gareth's exam grade we do the following:"
   ]
  },
  {
   "cell_type": "code",
   "execution_count": 3,
   "metadata": {
    "scrolled": true
   },
   "outputs": [],
   "source": [
    "#     Gareth's grade - mean grade\n",
    "# Z = ---------------------------\n",
    "#        Standard deviation\n",
    "            \n",
    "#     86-85\n",
    "# Z = -----\n",
    "#       2\n",
    "\n",
    "#     1   \n",
    "# Z= --- = 0.5\n",
    "#     2\n",
    "    \n",
    "# Thus Gareth's Z score is 0.5, meaning his grade was half a SD above the class mean"
   ]
  },
  {
   "cell_type": "markdown",
   "metadata": {},
   "source": [
    "------------------------"
   ]
  },
  {
   "cell_type": "markdown",
   "metadata": {},
   "source": [
    "#### Binomial distribution\n",
    "\n",
    "A binomial distribution tells us the probability of how often there will be a success in *n* independent experiments. Such experiments are yes/no, true/false or success/failure questions, i.e. only two possible outcomes. One example is tossing a coin like we have just seen, where the probabilty of sucess and failure is the same. A single success/failure esperiment is also knowm as a Bernoulli trial because the binomial distribution was derived by James Bernoulli.\n",
    "\n",
    "Samples are drawn from a binomial distribution with specified parameters, *n* trials and *p* probability of success where *n* an integer >= 0 and *p* is in the interval [0,1]. Adding a *size* parameter is optional [3]. \n",
    "Each trial is independent since the outcome doesn't affect the outcome of the current coin toss. So:\n",
    "\n",
    "n = number of trials\n",
    "p = probability event of interest occurs on any one trial (success)\n",
    "size = number of times you want to run this experiment\n",
    "\n",
    "Let's look at an example:"
   ]
  },
  {
   "cell_type": "code",
   "execution_count": 77,
   "metadata": {
    "scrolled": true
   },
   "outputs": [
    {
     "data": {
      "text/plain": [
       "2"
      ]
     },
     "execution_count": 77,
     "metadata": {},
     "output_type": "execute_result"
    }
   ],
   "source": [
    "# The number n of heads (successes) in 4 coin ﬂips (Bernoulli trials) with probability 0.5 of heads is Binomially distributed \n",
    "\n",
    "flips = 4\n",
    "prob = 0.5\n",
    "np.random.binomial(flips, prob) "
   ]
  },
  {
   "cell_type": "code",
   "execution_count": 78,
   "metadata": {
    "scrolled": true
   },
   "outputs": [
    {
     "data": {
      "text/plain": [
       "array([2, 3, 2, 0, 3, 4, 1, 2, 3, 3, 4, 2, 1, 1, 1, 2, 2, 4, 2, 1, 0, 2,\n",
       "       3, 4, 2, 2, 3, 3, 2, 2, 2, 3, 2, 2, 3, 1, 1, 3, 3, 2, 2, 2, 0, 1,\n",
       "       2, 3, 2, 2, 2, 3, 1, 3, 2, 4, 2, 3, 1, 3, 2, 1, 1, 3, 3, 2, 1, 1,\n",
       "       3, 2, 3, 1, 1, 1, 3, 0, 3, 1, 1, 3, 3, 0, 1, 1, 2, 1, 2, 0, 3, 4,\n",
       "       3, 1, 2, 2, 3, 2, 1, 2, 3, 2, 3, 2, 3, 2, 3, 1, 3, 4, 3, 3, 4, 3,\n",
       "       0, 1, 2, 2, 1, 2, 1, 4, 2, 2, 2, 3, 2, 2, 2, 1, 3, 3, 2, 4, 0, 2,\n",
       "       1, 3, 1, 2, 3, 2, 3, 3, 2, 1, 1, 2, 2, 2, 2, 2, 2, 3, 2, 3, 2, 1,\n",
       "       2, 1, 3, 2, 1, 1, 0, 3, 1, 3, 3, 3, 2, 2, 3, 2, 2, 1, 2, 3, 2, 1,\n",
       "       1, 2, 2, 2, 1, 1, 1, 2, 1, 3, 1, 3, 3, 1, 2, 2, 2, 3, 0, 3, 3, 0,\n",
       "       1, 1])"
      ]
     },
     "execution_count": 78,
     "metadata": {},
     "output_type": "execute_result"
    }
   ],
   "source": [
    "# Now we can look at the array of number of successful flips (out of 4) by running the experiment 200 times\n",
    "\n",
    "bernoulli = np.random.binomial(flips, prob, size = 200)\n",
    "bernoulli"
   ]
  },
  {
   "cell_type": "markdown",
   "metadata": {},
   "source": [
    "Now we can plot the results of this binomial experiment:"
   ]
  },
  {
   "cell_type": "code",
   "execution_count": 79,
   "metadata": {
    "scrolled": true
   },
   "outputs": [
    {
     "data": {
      "image/png": "[encoded data removed]",
      "text/plain": [
       "<Figure size 432x288 with 1 Axes>"
      ]
     },
     "metadata": {},
     "output_type": "display_data"
    }
   ],
   "source": [
    "import matplotlib.pyplot as plt\n",
    "%matplotlib inline\n",
    "\n",
    "plt.hist(bernoulli, density=True, edgecolor='k')    # Adding sample count, amount of bins and density function line (True = normal),\n",
    "                                                    # and adding edgecolour to the bins\n",
    "\n",
    "# Configuring the details of the histogram output [3].\n",
    "\n",
    "plt.plot(linewidth=2, color='r', edgecolor= 'k')\n",
    "plt.ylabel('Frequency') # labelling my y axis\n",
    "plt.xlabel('Flips') # labelling my x axis \n",
    "plt.title('Binomial distribution') # Adding title\n",
    "\n",
    "plt.show()"
   ]
  },
  {
   "cell_type": "markdown",
   "metadata": {},
   "source": [
    "Above our outcome shows that most of the 4 coin flips resulted in mostly 2 ending up heads.  Remember, if we run an experiment where the outcome of success was equal to the outcome of failure, the outcome plot will tend to look like the normal distribution, as is the case above because our probabilty alpha is 0.5 (50% chance of success). Conversely, the case of repeated \"failures\" i.e. the coin landing in tails, will tend to skew the binomial distribution to the left. In the event of most flips turning up heads, the skew on the the binomial distribution would be to the right.\n",
    "\n",
    "We can imagine many other instances where the binomial distribution is at play such as a yes or no game show, a player taking a penalty (scoring or not scoring) or when a six-sided die is rolled ten times, and the number of 6's is recorded. All of these examples are binomial experiments and we need to remember that a binomial experiment is as previously explained, an experiment which satisfies 4 conditions:\n",
    "\n",
    "* A fixed number of \"trials\"\n",
    "* Each trial is independent of the others\n",
    "* There are only two outcomes\n",
    "* The probabilty of each outcome remains constant from trial to trial.\n",
    "\n",
    "So how exactly do we calculate the **probabilty** of a trial?\n",
    "\n",
    "We could do this by taking the example of a person playing who wants to be a millionaire. Four multiple choice questions appear, yet they have no prior knowledge of the subject matter. What is the probabilty of the person getting exactly 3 questions correct? [9]. "
   ]
  },
  {
   "cell_type": "code",
   "execution_count": 82,
   "metadata": {
    "scrolled": true
   },
   "outputs": [
    {
     "name": "stdout",
     "output_type": "stream",
     "text": [
      "0.046875000000000035\n"
     ]
    }
   ],
   "source": [
    "# Who wants to be a millionaire example\n",
    "\n",
    "n = 4 # Number of multiple choice questions\n",
    "p = 0.25 # Probabilty of getting a question right\n",
    "X = 3 # Binomial random variable which we want to quantify the probabilty of\n",
    "\n",
    "from scipy.stats import binom # Importing the binomial package from the scipy library [10].\n",
    "print(binom.pmf(X, n, p)) # Binomial probabilty mass function to calculate p value [9].\n",
    "                          # The probability mass function (pmf) is a function that gives the probability \n",
    "                          # that a discrete random variable (in this case X) is exactly equal to some value (p) [11]."
   ]
  },
  {
   "cell_type": "markdown",
   "metadata": {},
   "source": [
    "So, we see the binomial probabilty of getting exactly 3 out of 4 multiple choice questions right is 0.0469 (around 4.7%), therefore highly unlikely.\n",
    "\n",
    "In summarising, it should be understood that the most simple, and arguably the most useful binomial application is in fact the probabilty mass function (as seen above), which allows us to determine an outcome of Bernoulli trials. Indeed, binomial probability concerns itself entirely with measuring the probability of outcomes of Bernoulli trials, trials that are independent of each other and that are binary i.e. with only two possible outcomes [12]. Binomial phenomena like this are so apparent and widespread in everyday life that we tend to remain oblivious to the underlying mathematics pulling the strings.\n",
    "\n",
    "----------------"
   ]
  },
  {
   "cell_type": "markdown",
   "metadata": {},
   "source": [
    "#### Poisson distribution\n",
    "\n",
    "The Poisson distribution will tell us how probable it is that a certain number of events occur in a fixed interval of time (or space). It assumes that these events happen at a contstant rate and are also independent of the last event [13]. The time period must also be pre-determined. It is a discrete function in that it can only be measured as occuring or not occuring, thus the variable can only be measured in whole numbers.\n",
    "\n",
    "An example of the distribution in real life could be one of the number of meals in a certain restaurant each day. If the average number of meals for seven days is 400, then we could predict the probabilty of a certain day having more customers.\n",
    "Practical uses of the Poisson distribution include business forecasting about the number of customer sales on certain days or seasons of the year. If a company overstocks it would mean money wasted by goods not sold on certain days. Likewise, having too little stock could mean lost business oportunity because you didnt maximise sales due to shortage of stock. Similarly restaurants could prepare for an influx of customers or make contingency plans in case they cannot accommodate all guests. The Poisson distribution allows companies to adjust supply and demand in order to keep profit stable, and to prevent future waste of resources\n",
    "\n",
    "The Poisson distribution function has two paramteres, lam and size. lam will accept floats or an array of floats greater to or equal to zero [3]. The lam parameter equals the mean and variance, i.e.the total number of events divided by the number of units in the data. The size paramter will determine the amount of random samples called to the distribution [14].\n",
    "\n",
    "Let's take a look:"
   ]
  },
  {
   "cell_type": "code",
   "execution_count": 82,
   "metadata": {
    "scrolled": true
   },
   "outputs": [
    {
     "data": {
      "image/png": "[encoded data removed]",
      "text/plain": [
       "<Figure size 432x288 with 1 Axes>"
      ]
     },
     "metadata": {},
     "output_type": "display_data"
    }
   ],
   "source": [
    "import numpy as np\n",
    "poiss = np.random.poisson(7, 20000) # Drawing samples from the distribution\n",
    "\n",
    "# Creating a histogram of random Poisson samples\n",
    "\n",
    "import matplotlib.pyplot as plt\n",
    "plt.hist(poiss, 16, density=True, color='r', edgecolor ='k') # Adding sample count, amount of bins and density function line (True = normal),\n",
    "                                                             # and adding edgecolour to the bins\n",
    "plt.ylabel('Frequency') # labelling my y axis\n",
    "plt.xlabel('Examples') # labelling my x axis \n",
    "plt.title('Poisson distribution') # Adding title\n",
    "plt.show()"
   ]
  },
  {
   "cell_type": "markdown",
   "metadata": {},
   "source": [
    "Now let's calculate what the mean and variance (lam) actually are in this distribution:"
   ]
  },
  {
   "cell_type": "code",
   "execution_count": 83,
   "metadata": {
    "scrolled": true
   },
   "outputs": [
    {
     "name": "stdout",
     "output_type": "stream",
     "text": [
      "The mean is 6.9915\n",
      "The variance is 6.94842775\n"
     ]
    }
   ],
   "source": [
    "print(\"The mean is\", np.mean(poiss)) # Calculating the mean of our poiss distribution variable\n",
    "print(\"The variance is\", np.var(poiss))"
   ]
  },
  {
   "cell_type": "markdown",
   "metadata": {},
   "source": [
    "Another use of poisson for example, is that we could call 25 values each for lam 50, 150, 250, and 1050:"
   ]
  },
  {
   "cell_type": "code",
   "execution_count": 4,
   "metadata": {
    "scrolled": false
   },
   "outputs": [
    {
     "data": {
      "text/plain": [
       "array([[  40,  147,  245, 1014],\n",
       "       [  46,  143,  243, 1062],\n",
       "       [  50,  163,  237, 1076],\n",
       "       [  51,  156,  232, 1100],\n",
       "       [  53,  170,  255, 1100],\n",
       "       [  48,  146,  251,  999],\n",
       "       [  55,  153,  261, 1048],\n",
       "       [  48,  145,  255, 1070],\n",
       "       [  58,  157,  268, 1011],\n",
       "       [  59,  165,  217, 1062],\n",
       "       [  47,  133,  254, 1054],\n",
       "       [  62,  138,  236, 1120],\n",
       "       [  47,  159,  244, 1013],\n",
       "       [  50,  157,  214, 1110],\n",
       "       [  66,  149,  259, 1098],\n",
       "       [  43,  151,  256, 1044],\n",
       "       [  57,  179,  215, 1070],\n",
       "       [  44,  142,  247, 1064],\n",
       "       [  65,  159,  238, 1017],\n",
       "       [  53,  132,  253,  977],\n",
       "       [  51,  135,  244, 1058],\n",
       "       [  55,  150,  231, 1043],\n",
       "       [  53,  146,  250, 1077],\n",
       "       [  37,  163,  242, 1038],\n",
       "       [  50,  147,  232, 1033]])"
      ]
     },
     "execution_count": 4,
     "metadata": {},
     "output_type": "execute_result"
    }
   ],
   "source": [
    "Q = np.random.poisson(lam=(50, 150, 250, 1050), size=(25, 4)) \n",
    "Q"
   ]
  },
  {
   "cell_type": "code",
   "execution_count": 11,
   "metadata": {
    "scrolled": true
   },
   "outputs": [
    {
     "name": "stdout",
     "output_type": "stream",
     "text": [
      "The mean is 375.1\n",
      "The variance is 158784.59\n"
     ]
    }
   ],
   "source": [
    "# And then call the mean and variance on them\n",
    "import numpy as np\n",
    "print(\"The mean is\", np.mean(Q)) # Calculating the mean of Q\n",
    "print(\"The variance is\", np.var(Q))"
   ]
  },
  {
   "cell_type": "markdown",
   "metadata": {},
   "source": [
    "Isn't that interesting, the mean and variance outputs was given for the four columns *together*. \n",
    "\n",
    "But what if we want to calculate the mean of one particular row or column?:"
   ]
  },
  {
   "cell_type": "code",
   "execution_count": 23,
   "metadata": {
    "scrolled": true
   },
   "outputs": [
    {
     "name": "stdout",
     "output_type": "stream",
     "text": [
      "The mean of row 24 is 365.5\n"
     ]
    }
   ],
   "source": [
    "print(\"The mean of row 24 is\", np.mean(Q [24])) # Calculating the mean of row 24 in Q"
   ]
  },
  {
   "cell_type": "code",
   "execution_count": 24,
   "metadata": {
    "scrolled": true
   },
   "outputs": [
    {
     "data": {
      "text/plain": [
       "array([361.5 , 373.5 , 381.5 , 384.75, 394.5 , 361.  , 379.25, 379.5 ,\n",
       "       373.5 , 375.75, 372.  , 389.  , 365.75, 382.75, 393.  , 373.5 ,\n",
       "       380.25, 374.25, 369.75, 353.75, 372.  , 369.75, 381.5 , 370.  ,\n",
       "       365.5 ])"
      ]
     },
     "execution_count": 24,
     "metadata": {},
     "output_type": "execute_result"
    }
   ],
   "source": [
    "Q.mean(axis=1) # Calculating the mean of each row"
   ]
  },
  {
   "cell_type": "code",
   "execution_count": 26,
   "metadata": {
    "scrolled": true
   },
   "outputs": [
    {
     "data": {
      "text/plain": [
       "array([  51.52,  151.4 ,  243.16, 1054.32])"
      ]
     },
     "execution_count": 26,
     "metadata": {},
     "output_type": "execute_result"
    }
   ],
   "source": [
    "Q.mean(axis=0) # Calculating the mean of each column"
   ]
  },
  {
   "cell_type": "markdown",
   "metadata": {},
   "source": [
    "So, we have seen that the Poisson distribution is used for count-based distributions where the events occur with a known average rate and independently of the last event. With this in mind, we could go further to calculate the probabilty of a future event. Let's look at an example.\n",
    "\n",
    "Suppose the average number of cars passing a certain street in one day is 25. With this in mind we could calculate the probabilty of 30 cars passing the street. \n",
    "\n",
    "The short script below uses the scipy stats poisson function which takes as its parameter the 25 cars passing, and then uses this within the probabilty mass function (pmf) method to calculate the probabilty percentage we are looking for i.e. the probabilty tha 30 cars will the street in one day. \n",
    "\n",
    "A poisson probability mass function is a function that can predict or show the probability of a value occurring of a certain data point. Because it is a probability mass function, it will show discrete data points [15]:"
   ]
  },
  {
   "cell_type": "code",
   "execution_count": 33,
   "metadata": {
    "scrolled": true
   },
   "outputs": [
    {
     "data": {
      "text/plain": [
       "0.04541278513011904"
      ]
     },
     "execution_count": 33,
     "metadata": {},
     "output_type": "execute_result"
    }
   ],
   "source": [
    "cars = poisson(25)\n",
    "cars.pmf(30)"
   ]
  },
  {
   "cell_type": "markdown",
   "metadata": {},
   "source": [
    "There we have it, the probabilty of 30 cars passing the street in one day is roughly 4.5%. Now we can plot the poisson probabilty mass function by configuring the plot to incorporate the cars variable:"
   ]
  },
  {
   "cell_type": "code",
   "execution_count": 26,
   "metadata": {
    "scrolled": true
   },
   "outputs": [
    {
     "data": {
      "image/png": "[encoded data removed]",
      "text/plain": [
       "<Figure size 432x288 with 1 Axes>"
      ]
     },
     "metadata": {},
     "output_type": "display_data"
    }
   ],
   "source": [
    "from scipy.stats import poisson\n",
    "import matplotlib.pyplot as plt\n",
    "%matplotlib inline\n",
    "\n",
    "plt.ylabel('Probability of car passing') # Labelling y axis\n",
    "plt.xlabel('Number of cars') # Labelling x axis\n",
    "plt.title('Probability distribution curve') # Adding title\n",
    "arr = [] \n",
    "cars = poisson(25)\n",
    "for i in range(0,50): # for loop for determining the range of number of cars to be displayed on x axis\n",
    " arr.append(cars.pmf(i)) # Amending the plot to display the pmf of cars with range 0-50 [15].\n",
    " \n",
    "# Displaying the probability mass function of cars \n",
    "P = cars.pmf(30) # P variable created to display pmf of cars in plt.plot() configuration\n",
    "plt.grid(True)\n",
    "plt.plot(arr, linewidth=2.0) # Determine the line properties, e.g. colors and styles etc \n",
    "                             # plt.plot() function takes additional arguments in order to specify line properties\n",
    "plt.plot([30], [P], marker='o', markersize=6, color=\"red\")\n",
    "plt.show()"
   ]
  },
  {
   "cell_type": "markdown",
   "metadata": {},
   "source": [
    "So, what exactly is the distribution telling us? \n",
    "\n",
    "Let's look at it this way. With the cars example, based on previous counts i.e. 25 a day, our expectation has become 25 a day with a certain spread: sometimes a little more, sometimes less or once in a while almost none. Given only the average rate of passing cars, for a certain period of time, and assuming the processes that produce the event are essentially random, the Poisson distribution will basically tell us *how likely it is* i.e. the probabilty, that  we will get 20, 25 or 30 cars (or any other number) during one period of observation. That is, it predicts the degree of spread around a know mean rate of occurence [16].\n",
    "\n",
    "-----------------------"
   ]
  },
  {
   "cell_type": "markdown",
   "metadata": {},
   "source": [
    "### F distribution\n",
    "\n",
    "The F distribution is a continuous probabilty distribution (as opposed to discrete) that often arises as the *null* distribution of a test statistic, most notably arising in a regression test called an ANOVA (analysis of variance), or what some call an F-test. It is named after Ronald Fisher (Fisher distribution) and George W. Snedecor [17]. It is a complex distribution and is widely used for example in significance testing on experimental hypotheses. One example is that it is widely employed in the social sciences for experiments with 2 or more groups. \n",
    "\n",
    "The F *statistic* (or F value) is a random variable that *has* an F distribution. Essentially, it is the value you get when you run an ANOVA to find out if the means between 2 or more populations (groups) are significantly different. It’s similar to the T statistic from a T-Test. A T-test will tell you if a single variable is statistically significant while an F-test will tell you if a group of variables are jointly significant, i.e.significantly different. \n",
    "If your test has a significant result, it means that you can be confident that the results did not happen by chance. If you don’t have statistically significant results, you can’t reject the null hypothesis, which means you can't for example, assert that the phenomena you studied (or manipulated) in your experiment was not the result of chance or randomness. In most cases the null hypothesis remains true. Essentially, you use the F statistic when deciding to support or reject the null hypothesis. In you results you will have both an F value and and F **critical** value. So, if your calculated F value is larger than your F critical value. you can reject the null hypothesis. The p value is also determined by the F critical value and needs to be used in combination  with it. Why? Because if you have significant result, it does not mean *all* your variables are significant, the statistic is merely comparing the combined effect of your variables together. The p value is a probabilty, while the F is a test statistic calculated as an analysis of the in-group variances to between-group variances, i.e. the spread of scores in the groups themselves, and those between the different groups. [18]. \n",
    "\n",
    "Ultimately, the F distribution is the probabilty distribution based on the calculation of the F statistic. It is in fact a distribution of *all* possible values. It is typically asymmetric in shape. It has a minimum value of zero but has no maximum value [3]. \n",
    "\n",
    "**An aside on critical values:**\n",
    "\n",
    "Density functions return the probability of an observation in the distribution. In order to calculate a critical value, we need a function that given a probability, will return the observation from the distribution. In this case, the functions of interest to us are [21]:\n",
    "\n",
    "* Probability Density Function (PDF): The probability for an observation having a specific value from the distribution.\n",
    "\n",
    "* Cumalative Density Function (CDF): The probability for an observation equal to or less than a specific value from the distribution.\n",
    "\n",
    "* Percent Point Function (PPF): The value for the provided probability that is less or equal to the provided probability from the distribution.\n",
    "\n",
    "So lets take a closer look at the distribution. In numpy, the random.f function can receive  3 parameters; The degrees of freedom in numerator, degrees of freedom in denominator, and size. Degrees of freedom pertain to the number of observations in the data that are free to vary, e.g. for a three-group ANOVA test, you can vary two means so degrees of freedom is 2 [3]. \n",
    "\n",
    "First we will generate random numbers from the F distribution:"
   ]
  },
  {
   "cell_type": "code",
   "execution_count": 9,
   "metadata": {
    "scrolled": false
   },
   "outputs": [
    {
     "data": {
      "text/plain": [
       "array([0.58303788, 2.24943356, 0.34650978, 0.39849788, 1.42503528,\n",
       "       0.30189109, 0.52967102, 3.24764497, 0.70777474, 2.23044515,\n",
       "       2.90344604, 4.63456846, 1.28630852, 0.0464771 , 0.29615792,\n",
       "       0.41017849, 0.14921043, 0.16469084, 0.5535062 , 0.01800335,\n",
       "       0.56890083, 1.55976079, 0.0568245 , 1.42731734, 1.09934779,\n",
       "       0.62508136, 0.12711962, 1.69127829, 0.37054649, 0.97931851,\n",
       "       0.14384064, 1.91841537, 0.12808798, 1.96356476, 0.27029451,\n",
       "       3.48215166, 0.08917354, 0.38004362, 0.62860629, 1.78041575,\n",
       "       0.23424329, 2.39202517, 0.13749027, 0.33815739, 0.72967609,\n",
       "       0.52319042, 0.05872867, 0.24922144, 1.70626429, 0.20602085,\n",
       "       0.08379907, 1.16907066, 0.27408778, 0.02600645, 0.78178225,\n",
       "       5.39399177, 3.48921123, 0.16718469, 0.14496692, 1.92660367,\n",
       "       0.71558222, 2.17998576, 3.38967036, 1.04591746, 1.48059643,\n",
       "       0.14425487, 1.15129697, 1.17089487, 0.30410879, 0.30409968,\n",
       "       0.93555355, 0.93304702, 0.1303469 , 0.04290851, 0.1539396 ,\n",
       "       0.66594623, 0.18628606, 1.51073823, 1.16332214, 0.23419538,\n",
       "       0.51107696, 0.85863767, 0.46823252, 1.00282038, 1.71838493,\n",
       "       0.63986009, 1.69321801, 0.56469899, 1.29193172, 0.39868102,\n",
       "       2.46433069, 1.26320952, 0.43548265, 0.7478234 , 4.67799495,\n",
       "       2.05554152, 0.85212635, 2.06861057, 0.31182501, 0.17346888])"
      ]
     },
     "execution_count": 9,
     "metadata": {},
     "output_type": "execute_result"
    }
   ],
   "source": [
    "# Let's draw random samples from 3 groups of 30 (90 people)\n",
    "\n",
    "import numpy as np\n",
    "dfnum = 2. # Between group degrees of freedom\n",
    "dfden = 87 # Within groups degrees of freedom\n",
    "z = np.random.f(dfnum, dfden, 100)\n",
    "z"
   ]
  },
  {
   "cell_type": "markdown",
   "metadata": {},
   "source": [
    "So there are our randomly generated samples of the F distribution. Interesting, but the floats don't tell a great story on their own. Let's elaborate on this array by plotting it. We can add some features to enhance the F distribution. For this we will import the f module in SciPy stats for better functionality."
   ]
  },
  {
   "cell_type": "code",
   "execution_count": 10,
   "metadata": {
    "scrolled": true
   },
   "outputs": [
    {
     "data": {
      "text/plain": [
       "[<matplotlib.lines.Line2D at 0x1d58574cac8>]"
      ]
     },
     "execution_count": 10,
     "metadata": {},
     "output_type": "execute_result"
    },
    {
     "data": {
      "image/png": "[encoded data removed]",
      "text/plain": [
       "<Figure size 432x288 with 1 Axes>"
      ]
     },
     "metadata": {},
     "output_type": "display_data"
    }
   ],
   "source": [
    "# Putting the random samples into a plot to demonstarte the F distribution:\n",
    "import scipy.stats\n",
    "from scipy.stats import f\n",
    "import matplotlib.pyplot as plt\n",
    "%matplotlib inline \n",
    "\n",
    "fig, ax = plt.subplots(1, 1) \n",
    "plt.ylabel('Density') # Labelling y axis\n",
    "plt.xlabel('F value') # Labelling x axis\n",
    "plt.title('F distribution') # Adding title\n",
    "ax.hist(z, density=True, histtype='stepfilled', alpha=0.2, linewidth=2, color='b', label='Random F distribution samples')\n",
    "ax.legend(loc='best', frameon=False) # Location of plot legend and controlling whether the legend should be drawn on a frame\n",
    "\n",
    "# lets also display the probability density function (pdf) of the histogram distribution [19]:\n",
    "rv = f(dfn=2, dfd=87, loc=0, scale=1) # rv = (Continuous) random variables\n",
    "x = np.linspace(rv.ppf(0.0001), rv.ppf(0.9999), 100) # Configuring the PPF\n",
    "y = rv.pdf(x) \n",
    "\n",
    "plt.plot(x,y, 'r-')"
   ]
  },
  {
   "cell_type": "markdown",
   "metadata": {},
   "source": [
    "Let's also look at the basic descriptives of the distribution:"
   ]
  },
  {
   "cell_type": "code",
   "execution_count": 11,
   "metadata": {
    "scrolled": true
   },
   "outputs": [
    {
     "data": {
      "text/plain": [
       "(array(1.02352941), array(1.0980998), array(2.1464185), array(7.23752095))"
      ]
     },
     "execution_count": 11,
     "metadata": {},
     "output_type": "execute_result"
    }
   ],
   "source": [
    "# Calulate descriptives of the distribution [19]:\n",
    "\n",
    "dfn, dfd = 2, 87 # Assigning degrees of freedom values to degrees of freedom objects dfn and dfd\n",
    "mean, var, skew, kurt = f.stats(dfn, dfd, moments='mvsk') \n",
    "mean, var, skew, kurt # Output the mean variance skewness and kurtosis values"
   ]
  },
  {
   "cell_type": "markdown",
   "metadata": {},
   "source": [
    "Now let's calculate our F value for the distribution using the PPF function and see where on the curve it lies:"
   ]
  },
  {
   "cell_type": "code",
   "execution_count": 12,
   "metadata": {
    "scrolled": true
   },
   "outputs": [
    {
     "data": {
      "text/plain": [
       "3.101295756667187"
      ]
     },
     "execution_count": 12,
     "metadata": {},
     "output_type": "execute_result"
    }
   ],
   "source": [
    "vals = scipy.stats.f.ppf(q=1-0.05, dfn=2, dfd=87) # 5% probabilty confidence level (or 95% certain our outcome did not occur by chance)\n",
    "vals"
   ]
  },
  {
   "cell_type": "code",
   "execution_count": 35,
   "metadata": {
    "scrolled": true
   },
   "outputs": [
    {
     "data": {
      "text/plain": [
       "0.95"
      ]
     },
     "execution_count": 35,
     "metadata": {},
     "output_type": "execute_result"
    }
   ],
   "source": [
    "scipy.stats.f.cdf(vals, dfn=2, dfd=87)"
   ]
  },
  {
   "cell_type": "markdown",
   "metadata": {},
   "source": [
    "Looking at the F distribution above we can see it presents its own unique signature, one that is notably different for example to the binomial distribution. The degrees of freedom in the numerator and the denominator define the distribution entirely. The F distribution curve is displaying the likelihood of F values for a population where 3 group means are equal at the population level. Look at where our F value of 3.1 lies on the distribution. When the null hypothesis is true, F values that lie in this area are very rare. Indeed, the output appears to suggest that in this case we can warrant rejecting the null hypothesis, in that the distribution samples are showing that that the is a significant difference somewhere between the group variances (variation between sample means / variation within the samples) [20]. Let's check to see if that is true: "
   ]
  },
  {
   "cell_type": "code",
   "execution_count": 68,
   "metadata": {
    "scrolled": true
   },
   "outputs": [
    {
     "name": "stdout",
     "output_type": "stream",
     "text": [
      "We should reject the null hypothesis\n"
     ]
    }
   ],
   "source": [
    "# Checking for significance [22].\n",
    "\n",
    "alpha = 0.05 # Chosen significance level\n",
    "p_value = scipy.stats.f.sf(vals, dfn, dfd) # Calculating the p-value using the sf (Survival function) also defined as 1-cdf (Cumulative Density Function)\n",
    "if p_value > alpha:\n",
    "    print(\"We should reject the null hypothesis\") # Reject the null hypothesis that variance(X) == variance(Y)\n",
    "else:\n",
    "    print(\"The null hypothesis is true\")"
   ]
  },
  {
   "cell_type": "markdown",
   "metadata": {},
   "source": [
    "-----------------------------------\n",
    "\n",
    "### Exponential distribution\n",
    "\n",
    "The exponential distribution describes the probability of an event occuring between two timeframes, typically in a Poisson point process (as we saw earlier in the Poisson distribution). There is a strong relationship between these distributions as we will see. The exponential distribution is one member of the *exponential family* including the Bernoulli, binomial and Chi-squared distributions. Essentially, the exponential distribution is a process where events occur continuously and independently at a constant average rate [23]. The distribution can describe many common situations, such as the size of raindrops measured over many rainstorms or the time between page requests to Wikipedia [3]. It is mostly used for testing product reliability, modelling waiting times and can help answer questions such as:\n",
    "\n",
    "* How much time will pass until a radioactive particle decays? \n",
    "\n",
    "* How much time will pass before a major hurricane hits the east coast of America?\n",
    "            \n",
    "* How long will the transmission last in my new car before it fails?\n",
    "\n",
    "If we assume that the answers to these types of questions are unknown (for now), then we can think of elapsed time as a random variable with an exponential distribution provided the events occur continuously and independently and at a constant rate [24]. \n",
    "\n",
    "The numpy.random.exponential function receives 2 parameters: Scale and size. Scale receives floats (or float arrays) while size integers (or integer arrays). Let's have a look:"
   ]
  },
  {
   "cell_type": "code",
   "execution_count": 14,
   "metadata": {
    "scrolled": true
   },
   "outputs": [
    {
     "data": {
      "text/plain": [
       "array([[ 3.3075707 ,  4.1936268 ,  4.10168292,  0.35937091, 12.34167392,\n",
       "         0.29355452,  0.99744069,  2.24653678,  1.9366792 ,  0.97465338,\n",
       "         2.25359618, 12.66002572,  2.89255008,  0.25158436,  2.29039195,\n",
       "         8.30347364,  1.63112557,  1.0637755 ,  4.1115065 , 15.42321341,\n",
       "         0.79714585,  0.63902594,  4.1682331 ,  1.35517151,  9.25694455,\n",
       "         1.88383422,  4.97454103,  4.89972394,  3.99163734,  1.29371704,\n",
       "         8.66059717,  3.38274192,  1.11320013,  0.95967687,  4.74451618,\n",
       "         5.4505943 ,  3.63823403,  0.28706326,  1.06259837,  7.71390533,\n",
       "         2.61949653, 13.00080243, 13.63773984,  0.56006192,  8.40783248,\n",
       "         7.81897603,  2.41550708,  1.36872488,  2.35724733,  3.96911405],\n",
       "       [ 2.47465375,  0.32595856, 10.45953695,  1.73475924,  1.11564555,\n",
       "         1.63846647,  1.95371402,  5.68078202,  3.38026961,  0.98547681,\n",
       "         3.52136439,  6.84687267, 14.28355641,  3.73356706,  3.33629401,\n",
       "         3.07814321,  0.12252311,  1.64098874, 22.54177284,  5.10570429,\n",
       "         0.58082797,  5.19438176,  2.02978193,  2.43591197,  0.96031486,\n",
       "         2.26692481,  0.79137651,  5.21787619, 10.67238373,  1.2728381 ,\n",
       "         1.44366123,  0.85256571,  0.44042656,  5.68309325,  2.71931025,\n",
       "         4.5266759 ,  0.80031182,  0.43870984,  3.54568841,  0.95129204,\n",
       "        11.83022242,  0.90070569,  0.62864667,  3.55855092,  6.20832585,\n",
       "        22.11019123,  2.05160796, 12.00161843,  4.41708045,  2.06001706],\n",
       "       [ 1.63649259, 11.00553142,  0.26747921,  1.61007498,  2.24630689,\n",
       "         0.4482362 ,  3.77010432,  7.58044181,  9.69088871,  1.75227497,\n",
       "         1.2460022 ,  1.13953398,  2.25765646,  0.67817763,  2.44829364,\n",
       "         0.08610871,  1.36296683,  2.02209569,  1.75097139,  3.69658029,\n",
       "         7.053252  , 12.63471761,  4.44540981,  4.94911368,  5.64108156,\n",
       "         0.17491969,  4.25123836,  0.5140541 ,  4.52958686,  2.78333211,\n",
       "         8.81569804,  2.09429201,  0.45962507,  0.79232531,  1.74154192,\n",
       "         6.55732416,  0.80396512,  0.53512032,  0.84202106,  4.76350586,\n",
       "         0.96645361,  0.25863774,  9.02177304,  5.66922965,  4.53930345,\n",
       "         2.09797557,  1.58715236,  3.48809686,  0.03344032,  0.0497806 ]])"
      ]
     },
     "execution_count": 14,
     "metadata": {},
     "output_type": "execute_result"
    }
   ],
   "source": [
    "# Lets produce an array of exponential samples containing 3 groups of 50, with a scale of 4:\n",
    "\n",
    "import numpy as np\n",
    "w = np.random.exponential(scale=4, size=(3, 50))\n",
    "w"
   ]
  },
  {
   "cell_type": "markdown",
   "metadata": {},
   "source": [
    "Now lets create a large sample set of exponential distributions for the purpose of plotting:"
   ]
  },
  {
   "cell_type": "code",
   "execution_count": 19,
   "metadata": {
    "scrolled": true
   },
   "outputs": [
    {
     "data": {
      "text/plain": [
       "array([1.64404558e+00, 7.64553059e+00, 1.50874728e+00, 1.44017458e+00,\n",
       "       5.70736829e+00, 5.85612067e-01, 6.85945389e+00, 7.36140430e+00,\n",
       "       1.52356510e+00, 1.69890837e+00, 5.39930057e-01, 2.49937083e+00,\n",
       "       1.79387727e+00, 1.74128099e+00, 2.40002424e+00, 2.13354053e+00,\n",
       "       1.37573918e+00, 2.25269551e+01, 8.22511058e+00, 6.52206738e+00,\n",
       "       5.38759073e-01, 7.22893917e+00, 2.21851747e+00, 1.42447898e+01,\n",
       "       3.31162014e+00, 2.84808107e+00, 1.25271057e+01, 1.57358772e-01,\n",
       "       7.87209218e+00, 5.64721500e-01, 7.13972523e-01, 4.29317848e+00,\n",
       "       2.41386348e-01, 3.50399177e-02, 1.43334368e+00, 1.21253619e+01,\n",
       "       1.83344588e+01, 2.93726234e-01, 7.09392753e+00, 2.92381921e+00,\n",
       "       3.23089588e+00, 1.73392984e+00, 4.48176665e-01, 4.13018588e+00,\n",
       "       9.35249500e-01, 4.89753228e-01, 1.78566350e+01, 8.88506306e+00,\n",
       "       1.91692046e+00, 2.59126721e+00, 3.41390556e+00, 9.03044168e+00,\n",
       "       2.14392497e+01, 1.23258940e+00, 1.10138637e+00, 1.23853550e+01,\n",
       "       7.64565968e-01, 1.09257287e+01, 5.98778833e-01, 3.17628857e+00,\n",
       "       4.96907044e-01, 3.96066693e+00, 1.43374909e+01, 5.74376352e+00,\n",
       "       2.04160113e+01, 7.09283645e-01, 3.68839129e+00, 2.07517964e+01,\n",
       "       3.00573794e-01, 1.41866912e+00, 1.11590788e+01, 6.58075436e-01,\n",
       "       3.60424936e+00, 2.73279374e+00, 3.86426503e+00, 8.87660345e+00,\n",
       "       2.85396155e+00, 1.10529167e+01, 2.99372064e+00, 5.01376930e+00,\n",
       "       5.94038572e+00, 9.50406497e-01, 6.50823738e+00, 8.45332525e-01,\n",
       "       1.13904417e-01, 6.63801736e-01, 9.73502603e+00, 2.77782677e+00,\n",
       "       6.38259581e-01, 6.39704844e+00, 2.83448276e+00, 2.52636311e+00,\n",
       "       1.06038967e+00, 3.30380707e+00, 6.58652761e+00, 2.81372959e+00,\n",
       "       2.93720568e-01, 1.56453394e+01, 5.00671780e+00, 2.02913673e+00,\n",
       "       7.39187343e+00, 6.08216719e+00, 1.05786160e+01, 6.15495487e-01,\n",
       "       9.10060468e-01, 9.76831773e+00, 7.85905340e+00, 9.10139606e+00,\n",
       "       8.87697641e-01, 3.60589166e+00, 3.76138372e+00, 8.85352814e+00,\n",
       "       1.17840471e+01, 7.01538640e+00, 4.22789242e-01, 4.67060549e+00,\n",
       "       7.52092533e+00, 1.88437629e+00, 2.02755594e+01, 9.37576672e-01,\n",
       "       1.61957701e+00, 2.14551727e+00, 1.48096314e+01, 1.26307496e+01,\n",
       "       2.03073551e+01, 2.14939591e-01, 8.06930304e+00, 5.76586889e+00,\n",
       "       2.21326533e+01, 1.64938804e+00, 9.96397744e+00, 1.27744095e+01,\n",
       "       2.48226262e-01, 3.33617751e+00, 2.07179334e+00, 2.74576529e+00,\n",
       "       7.99677220e+00, 4.63177225e-01, 2.38482154e+00, 1.92677476e+01,\n",
       "       5.05569200e+00, 2.18583714e+00, 1.74805787e+00, 3.85354033e-01,\n",
       "       3.44007077e+00, 8.27788021e+00, 3.88254241e+00, 2.00751915e+00,\n",
       "       5.48891475e+00, 3.08557713e+00, 1.43219124e+01, 1.21506199e+00,\n",
       "       3.64733353e+00, 4.58189812e+00, 3.21703372e+01, 1.52908926e+00,\n",
       "       2.34949986e+00, 1.06292440e+01, 6.56345450e-02, 2.45346648e+00,\n",
       "       1.58007424e+01, 8.61188587e-01, 3.10903321e+00, 5.81909109e+00,\n",
       "       1.55037350e-01, 8.51087310e-01, 1.92972943e+00, 4.79532430e+00,\n",
       "       1.10755410e+01, 1.08944114e+01, 6.10914383e+00, 7.23490996e+00,\n",
       "       2.51289205e+00, 3.44103047e+00, 3.46609666e-01, 6.03304084e+00,\n",
       "       1.63608973e+01, 3.12159246e+00, 6.13588769e-01, 4.06492535e+00,\n",
       "       2.08362181e+00, 8.03417126e+00, 1.54065152e+01, 5.07137480e+00,\n",
       "       3.53699198e+00, 9.50317549e+00, 6.63420994e+00, 1.28311016e+00,\n",
       "       1.63920641e+00, 1.51637948e+01, 7.12058697e-01, 8.15345618e+00,\n",
       "       7.58955008e+00, 8.69148315e+00, 3.20371305e+00, 7.41438196e+00,\n",
       "       1.02841391e+01, 1.28350518e+00, 1.10834014e+01, 9.79004058e-01,\n",
       "       1.03749659e+01, 9.78976114e-01, 5.98447215e+00, 8.07374474e+00,\n",
       "       6.58210979e+00, 1.57866708e+01, 1.73755768e+01, 1.91200022e-01,\n",
       "       1.57776803e+00, 2.42976439e+01, 2.53675715e+00, 2.55796214e+00,\n",
       "       1.01488340e+00, 3.14984222e+00, 8.88032062e+00, 6.43313504e+00,\n",
       "       2.51595664e+00, 3.75177607e-01, 4.31131614e+00, 1.63926194e+00,\n",
       "       4.89356225e-01, 2.41291307e+00, 4.46694872e+00, 4.11760709e+00,\n",
       "       1.60199372e+00, 5.29717708e-01, 8.37628293e-01, 1.28268727e+00,\n",
       "       7.90404464e+00, 2.50061639e+00, 3.54034846e+00, 9.78898230e+00,\n",
       "       3.94089890e+00, 2.14134157e+00, 5.14078742e+00, 1.44491055e+01,\n",
       "       6.60826840e+00, 5.55321628e+00, 6.33904586e-02, 1.18693299e+01,\n",
       "       3.00623291e+01, 1.09213889e+01, 3.11238119e+00, 4.20270950e+01,\n",
       "       2.21332272e-01, 2.81224177e+00, 4.51220958e+00, 1.91922783e+01,\n",
       "       2.71023858e+00, 4.33135716e-01, 4.43107338e+00, 2.78008206e+00,\n",
       "       6.48203171e+00, 9.49927137e+00, 3.06645521e-01, 4.77089249e+00,\n",
       "       1.18044992e+00, 5.82405950e-01, 2.30516571e+00, 3.21386909e+00,\n",
       "       3.51025740e+01, 2.09399232e+01, 9.40955998e-01, 7.89946175e+00,\n",
       "       1.29484288e+00, 1.36043161e-01, 1.46173589e+01, 4.04441613e+00,\n",
       "       7.80630708e+00, 4.30711212e+00, 9.45416905e-01, 1.07951819e+01,\n",
       "       1.65972945e+00, 7.86292931e+00, 5.54233023e+00, 1.02260531e+00,\n",
       "       3.45654272e-01, 4.26616760e-01, 4.60760323e+00, 3.24844604e+00,\n",
       "       2.11967484e+00, 5.91467672e+00, 7.73892479e+00, 2.11905356e+00,\n",
       "       4.71623300e+00, 1.01148972e+00, 1.09290974e+01, 1.50377219e+00,\n",
       "       3.58927810e-01, 1.72563251e+00, 8.18305070e+00, 1.86341960e+01,\n",
       "       3.92196575e-01, 8.69820853e+00, 6.05771670e-01, 1.18489239e+00,\n",
       "       1.75084576e+00, 2.13569389e-01, 9.06054702e-01, 5.18423073e+00,\n",
       "       1.37148928e+01, 2.62789532e+00, 2.17961133e-01, 1.94427557e+00,\n",
       "       4.54274881e+00, 8.85356713e-01, 6.87095387e+00, 5.38400813e+00,\n",
       "       1.41949542e+01, 1.01425084e+00, 9.14070773e-01, 8.22766898e+00,\n",
       "       2.85891671e+00, 5.96390370e+00, 5.23505307e+00, 3.20785745e+01,\n",
       "       1.47314607e+00, 4.59619875e+00, 5.55498493e+00, 1.07676679e+00,\n",
       "       3.81454945e+00, 2.95567546e+00, 3.67116503e+00, 5.36270590e+00,\n",
       "       1.01903977e+01, 6.00629883e+00, 7.50477143e-01, 9.55364790e-01,\n",
       "       2.29759416e+00, 6.32334275e+00, 2.40164488e+00, 1.32077844e+01,\n",
       "       4.00361209e-01, 4.23294507e+00, 8.44299173e-01, 4.81157251e+00,\n",
       "       8.67834585e-01, 9.00158376e+00, 1.56849476e+01, 1.72144663e+00,\n",
       "       5.94150921e-01, 4.76917564e+00, 9.00596545e-01, 9.51843651e-01,\n",
       "       1.43084117e+00, 1.74823731e+00, 1.66612539e+01, 3.89950562e+00,\n",
       "       1.50614624e+01, 5.58218333e-01, 8.48749107e+00, 7.28708917e-01,\n",
       "       4.71530708e+00, 4.29198687e+00, 1.66940622e+01, 2.89078596e+00,\n",
       "       1.02870316e+01, 2.52426039e+00, 9.26710720e+00, 5.19265404e+00,\n",
       "       3.67015550e-01, 6.66513108e+00, 1.64714069e+00, 6.17342739e+00,\n",
       "       4.99227139e+00, 3.50725912e+00, 7.82799374e+00, 5.31846157e+00,\n",
       "       4.41971440e+00, 1.23961400e+00, 4.53292816e-01, 1.75052596e+01,\n",
       "       1.46069555e-01, 2.74396535e-02, 9.81229145e-02, 2.77643642e+00,\n",
       "       4.18464345e+00, 2.22062579e+00, 3.82150589e-01, 2.56767849e+00,\n",
       "       1.40713835e+00, 5.21496023e+00, 7.91712753e+00, 1.87963249e+01,\n",
       "       7.13131111e+00, 2.35956923e+00, 6.16521270e-01, 1.82071031e+00,\n",
       "       1.00320834e+01, 3.21371332e+00, 2.58915075e+00, 2.13659527e+01,\n",
       "       1.65270227e+00, 1.57250280e+01, 1.90769429e+01, 3.26478233e+00,\n",
       "       8.67947659e+00, 1.87415107e-01, 3.00252653e+00, 1.43600414e+01,\n",
       "       5.51700266e+00, 4.34090443e-01, 2.07223635e+00, 1.69100624e+01,\n",
       "       1.58170076e+01, 2.11199696e+00, 6.16236851e+00, 8.68918425e+00,\n",
       "       1.86894433e+00, 3.36773480e+00, 4.66298830e+00, 8.25765420e+00,\n",
       "       3.97448579e+00, 6.89834183e-01, 2.75788380e+00, 1.72195185e+00,\n",
       "       1.15879250e+00, 7.01821948e+00, 1.46129922e+00, 9.66578742e-01,\n",
       "       2.91779913e+00, 7.93454705e+00, 2.05734871e+00, 1.17628307e+00,\n",
       "       1.28673956e+00, 5.16075099e+00, 7.45989988e+00, 1.69690369e+00,\n",
       "       7.03607981e+00, 3.58635675e+00, 1.09422956e+00, 2.56911299e+00,\n",
       "       1.05992184e+00, 1.63404026e+01, 4.76719953e+00, 4.63487889e+00,\n",
       "       6.69482231e+00, 3.09415088e+00, 1.15458551e+01, 1.31810961e+00,\n",
       "       4.18937730e+00, 8.53188266e-02, 3.19025871e+00, 4.65685463e+00,\n",
       "       3.79337466e+01, 3.33250467e+00, 3.57906390e+00, 9.49544405e+00,\n",
       "       1.67725420e+00, 1.37004730e+00, 6.49824406e+00, 4.51121407e+00,\n",
       "       8.89870241e+00, 8.91496056e+00, 4.79645658e+00, 5.11871355e+00,\n",
       "       8.36148827e+00, 8.59004716e+00, 5.75506256e+00, 1.11699777e+00,\n",
       "       4.40432816e+00, 2.13757299e+00, 3.76711131e+00, 1.36856176e+01,\n",
       "       1.43088014e+00, 5.20097809e+00, 1.39198264e+00, 4.13427559e-01,\n",
       "       1.00029080e+01, 5.33099303e+00, 9.56561731e+00, 1.95574291e-01,\n",
       "       1.57356492e+01, 6.35668048e+00, 1.79274042e-01, 8.05254475e+00,\n",
       "       1.05348947e+01, 4.12936763e+00, 2.16851013e+00, 3.73844639e-01,\n",
       "       1.60393714e+01, 2.92392505e+00, 4.42730811e+00, 4.25837321e+00,\n",
       "       3.64899891e+00, 1.42604391e+00, 4.23333959e+00, 4.60416380e-02,\n",
       "       6.61183733e-02, 5.73815085e-01, 2.05409745e+00, 4.95154152e+00,\n",
       "       4.04032299e-01, 1.35394561e+01, 1.23042143e+00, 1.08582482e+01,\n",
       "       2.37431465e+00, 6.63376574e+00, 3.75541744e-01, 6.65715819e+00,\n",
       "       5.77798462e-02, 7.90205667e-01, 6.43458742e+00, 1.40320141e+00,\n",
       "       7.98197327e+00, 5.48557340e-01, 4.52749021e-01, 2.11952927e+00,\n",
       "       9.62018760e+00, 1.28462082e+01, 2.07349422e+00, 1.86620342e+00,\n",
       "       4.28816774e+00, 1.50492001e+00, 1.70973272e+00, 3.74256636e+00,\n",
       "       2.25482719e-01, 5.27010035e+00, 2.29671205e-02, 1.16578287e+00,\n",
       "       4.33953827e+00, 4.52938189e+00, 1.75785662e+00, 6.94049358e-01,\n",
       "       2.38447640e+00, 4.28859508e+00, 4.75775791e+00, 4.98677093e+00,\n",
       "       1.57676061e+01, 4.98723017e+00, 3.72625320e-01, 5.79880672e-01,\n",
       "       2.26312288e+00, 3.54855745e+00, 8.29471640e+00, 3.82453721e+00,\n",
       "       1.81558614e+01, 9.16057434e+00, 5.38025392e-01, 1.67026031e+00,\n",
       "       3.10094388e+01, 1.19876307e+01, 2.25267552e+00, 2.45176833e+00,\n",
       "       3.12434029e-01, 1.31723888e+01, 1.81955494e+01, 1.36665323e+01,\n",
       "       9.50257162e-02, 7.69689991e+00, 1.62279341e+00, 5.56050982e-01,\n",
       "       2.99750060e+00, 4.34376190e+00, 1.30718338e+01, 7.48854629e+00,\n",
       "       1.28391417e+01, 1.05822448e-02, 8.00849336e+00, 5.64460424e+00,\n",
       "       7.52745800e+00, 7.97158794e+00, 6.03251601e+00, 7.94028281e+00,\n",
       "       4.63136984e+00, 4.96750750e+00, 2.90490592e+00, 4.91410965e+00,\n",
       "       2.70850745e+00, 4.21090439e+00, 8.33918976e-02, 1.21327928e+00,\n",
       "       9.54012929e+00, 4.37487282e+00, 6.48110065e-02, 1.18469005e+01,\n",
       "       7.90884757e+00, 6.26584303e+00, 8.66265706e-01, 9.69285084e+00,\n",
       "       6.56220168e-01, 3.01660625e-02, 2.77043435e+00, 4.94850823e+00,\n",
       "       7.61556046e+00, 6.56857241e+00, 2.99922734e+00, 4.93018616e+00,\n",
       "       1.45053222e+01, 7.18491150e+00, 2.61694691e+00, 1.61247447e+01,\n",
       "       2.04708343e-01, 2.59396216e+01, 1.16972926e+00, 2.07785093e+00,\n",
       "       4.81598146e+00, 1.81151361e+00, 4.18202249e+00, 3.91520361e+00,\n",
       "       4.44325206e+00, 3.66554665e+00, 5.84034182e+00, 2.74440642e+00,\n",
       "       2.90776086e+00, 4.39786257e+00, 2.26830115e+00, 2.77243366e+00,\n",
       "       1.68771512e+00, 2.04635577e+00, 1.78877678e+00, 1.06879904e+01,\n",
       "       1.98514904e+00, 6.92720016e+00, 1.21065693e+01, 1.89007323e-01,\n",
       "       2.07079542e+00, 1.34449360e+01, 3.60508168e+00, 8.26829869e+00,\n",
       "       3.67284375e-01, 3.32881737e+00, 7.85197014e-02, 5.70465409e-01,\n",
       "       1.28258667e+01, 4.87819154e+00, 6.05769264e+00, 5.36894127e+00,\n",
       "       5.41547318e+00, 1.40917483e+00, 3.37632088e+00, 1.26532521e+01,\n",
       "       4.76218984e+00, 4.61531471e-01, 3.95098249e+00, 4.80095660e+00,\n",
       "       3.03849218e-01, 5.27610298e+00, 8.97342009e+00, 6.57292666e+00,\n",
       "       1.06593040e+01, 2.01255278e+00, 5.56660386e+00, 2.45523119e+00,\n",
       "       4.41853433e+00, 1.40262191e+00, 5.61997819e+00, 3.08833409e+00,\n",
       "       1.08073110e+00, 8.48977813e+00, 1.25294566e+01, 2.34039456e+00,\n",
       "       1.25855409e+00, 6.83762926e+00, 7.51332151e-01, 8.20569354e-01,\n",
       "       9.64887402e+00, 1.76094009e+00, 1.99224698e+00, 7.93791413e+00,\n",
       "       4.11506396e+00, 3.14059461e+00, 6.06235838e+00, 4.17956494e-01,\n",
       "       3.19770512e+00, 2.87555805e-01, 4.88903502e+00, 8.06409695e-03,\n",
       "       2.15560196e+00, 5.33838908e+00, 7.35601311e+00, 4.19056810e+00,\n",
       "       3.64540630e-01, 4.01555450e+00, 1.79749292e+00, 3.91124955e+00,\n",
       "       8.10442388e+00, 1.68937343e-01, 6.45637558e+00, 7.82601748e+00,\n",
       "       3.09256185e-01, 2.33234918e+00, 1.38022329e+00, 1.24425060e+00,\n",
       "       3.94798949e+00, 7.24587526e-02, 3.07018985e+00, 1.58592019e+00,\n",
       "       6.57815496e+00, 6.90240746e+00, 6.57946173e+00, 1.10898089e+00,\n",
       "       4.21584594e+00, 6.75971632e+00, 6.62138132e-01, 1.50783022e+00,\n",
       "       8.51933804e-01, 5.62243102e+00, 6.31032744e+00, 4.68022598e+00,\n",
       "       5.99303524e-01, 6.61515072e-01, 2.77044062e+00, 4.27192927e+00,\n",
       "       1.65649710e+01, 3.54364447e+00, 4.32193144e+00, 2.76773877e+00,\n",
       "       9.73852910e-01, 1.27133311e+01, 1.13789505e+01, 3.11629832e+00,\n",
       "       1.46599937e+00, 2.16428852e+00, 5.57669806e+00, 3.73705376e+00,\n",
       "       3.39581764e+01, 6.28465810e-01, 4.79490588e+00, 9.65674525e+00,\n",
       "       1.88442226e+00, 7.90042802e-01, 7.92547880e+00, 1.47138635e+00,\n",
       "       2.22387701e-01, 2.53217084e+01, 1.79608412e+00, 5.41692317e+00,\n",
       "       5.75961838e+00, 2.08431961e+00, 1.12628995e+01, 6.19213111e+00,\n",
       "       1.26856833e-01, 4.00049642e+00, 1.48805355e-02, 1.28142673e+01,\n",
       "       1.54674527e+00, 1.52028817e+01, 8.30516777e+00, 2.76925629e+00,\n",
       "       4.97875891e+00, 7.66357654e-01, 1.32970382e+00, 2.03629840e+01,\n",
       "       7.06243456e+00, 9.77425826e+00, 1.22213863e+00, 2.28141698e+00,\n",
       "       4.76313375e+00, 1.80077725e+01, 6.58350745e-02, 1.13676919e+01,\n",
       "       2.31087429e+00, 1.27285562e+00, 2.02511697e+00, 5.92590832e+00,\n",
       "       7.88283782e+00, 1.38659229e+01, 3.22576243e-01, 2.70275919e-01,\n",
       "       2.77398535e+00, 1.61556962e+00, 1.67213236e-01, 1.62054986e+01,\n",
       "       1.46412875e+01, 9.56907533e-01, 3.59646148e+00, 4.31388148e+00,\n",
       "       3.98850972e+00, 6.70148225e+00, 5.44967380e+00, 9.82092935e+00,\n",
       "       1.15862685e+01, 8.24220760e-01, 1.45674614e+00, 1.99797701e+00,\n",
       "       1.78762970e+00, 1.12695927e+00, 7.61727555e+00, 5.24871792e+00,\n",
       "       2.99238046e+00, 8.20243106e-01, 1.37350409e+01, 1.87001143e-01,\n",
       "       2.37807197e-01, 6.55082970e+00, 9.50060309e-01, 1.01149055e+00,\n",
       "       6.45564781e+00, 4.87142956e+00, 5.75198097e+00, 4.72916181e-01,\n",
       "       7.21993320e-01, 3.01330101e+01, 4.19370039e+00, 1.42914526e+01,\n",
       "       4.73229929e+01, 6.01156940e+00, 6.24660609e+00, 1.34790543e+00,\n",
       "       6.72509487e+00, 1.00753123e+00, 1.72468162e+00, 3.57604922e+00,\n",
       "       9.46764339e+00, 9.02104318e+00, 5.75951238e-01, 9.19443451e+00,\n",
       "       3.29742317e+00, 1.12804845e+01, 1.13965901e-04, 3.57298531e+00,\n",
       "       5.87430221e+00, 6.76410655e+00, 1.63368623e+01, 4.13333947e+00,\n",
       "       1.90373872e+01, 8.45975581e+00, 2.17824261e+00, 1.21964197e+01,\n",
       "       2.26936545e+00, 4.06898213e+00, 5.47167366e+00, 3.87989366e+00,\n",
       "       2.49273790e+00, 2.82876819e+00, 2.04594719e+00, 9.62463146e-01,\n",
       "       8.24516981e+00, 4.80787490e+00, 5.05961393e+00, 2.91186275e+00,\n",
       "       2.66485593e+00, 1.82181810e+00, 9.66934123e-01, 6.96624695e+00,\n",
       "       1.07877876e+00, 9.03584907e-01, 9.65506613e+00, 4.43207043e-01,\n",
       "       1.45857225e+01, 2.19662631e+00, 1.08990504e+00, 5.27650175e+00,\n",
       "       5.22353232e+00, 1.07411328e+01, 2.25727924e+00, 2.57827822e+00,\n",
       "       1.15331643e+01, 8.32164302e-01, 6.10289858e+00, 1.40955375e+00,\n",
       "       3.80257850e+00, 8.83797451e-01, 1.88090508e+01, 2.14959679e+00,\n",
       "       1.07054599e-01, 1.39041270e+00, 2.17473765e+00, 5.56058849e+00,\n",
       "       2.06170590e+00, 8.97013804e+00, 1.66587097e+00, 4.87394181e+00,\n",
       "       8.11057797e-01, 3.00602120e+00, 2.21157269e+00, 2.42622128e+00,\n",
       "       1.73931243e+00, 8.05103167e-01, 7.43735554e-01, 1.84132162e+00,\n",
       "       9.47032128e+00, 1.78261686e+00, 1.81977497e+00, 7.99449156e-01,\n",
       "       3.68526006e-02, 1.60455198e+00, 6.65230150e+00, 6.94799564e+00,\n",
       "       2.86200682e+01, 2.77553290e+00, 5.44373591e+00, 6.09713600e-01,\n",
       "       1.71363986e+00, 6.28922358e+00, 1.40148491e-01, 4.75892155e+00,\n",
       "       4.60073515e+00, 7.11141006e+00, 4.72384884e+00, 6.92147910e+00,\n",
       "       5.00740366e+00, 7.30272085e+00, 1.05503167e+00, 1.50731778e+01,\n",
       "       6.57659645e+00, 3.35268792e+00, 7.79365864e+00, 2.16140836e+00,\n",
       "       8.18389499e-02, 5.39019466e+00, 1.60425661e+01, 5.56699842e+00,\n",
       "       5.13394895e+00, 7.16469201e-02, 4.41671594e+00, 8.63693426e-01,\n",
       "       5.42359757e-02, 4.01951161e-01, 8.81431834e-01, 5.98767172e+00,\n",
       "       4.18980376e+00, 1.03084363e+01, 1.51202007e+00, 3.23180864e-02,\n",
       "       7.55945732e-02, 2.96448511e+00, 8.27171713e+00, 9.96406740e-01,\n",
       "       8.61694617e-01, 2.51778767e+00, 7.11338304e-01, 2.71887057e+01,\n",
       "       9.73939519e-01, 1.32038567e+01, 2.28339454e+01, 9.86854203e+00,\n",
       "       1.03067270e+01, 2.98314083e+00, 2.27667693e+00, 1.14406904e+00,\n",
       "       1.83344255e+00, 1.53353900e+00, 1.29681994e-01, 1.16914557e+01,\n",
       "       1.44356774e+00, 1.28413278e+00, 5.66622485e+00, 6.84055541e+00,\n",
       "       3.43961141e+00, 3.06999761e+00, 1.15221601e+00, 9.06517525e-01,\n",
       "       2.31085845e-01, 1.01205339e+01, 1.34387939e-01, 8.09470506e-01,\n",
       "       1.30188818e+00, 1.13658836e+01, 3.67794204e+00, 3.37986358e+00,\n",
       "       9.21659555e-01, 5.46816180e+00, 1.92247231e+01, 2.85396819e+00,\n",
       "       4.98541874e+00, 1.14145862e+01, 2.14245394e+01, 2.15619280e+00,\n",
       "       4.35625741e+00, 2.46346957e+00, 2.75264831e+00, 7.17088982e+00,\n",
       "       8.64023101e+00, 1.58344679e+00, 3.87463652e-01, 2.40023104e+00,\n",
       "       2.51830961e+00, 1.45491718e+00, 1.18352135e+01, 2.00493285e+00,\n",
       "       1.87137651e+01, 4.46321438e+00, 2.03267714e+00, 2.04907483e+00,\n",
       "       4.43123697e-01, 3.06321479e+00, 9.36474596e+00, 5.50639615e-01,\n",
       "       1.78191167e+01, 2.86664775e+00, 7.70699646e+00, 3.55621304e+00,\n",
       "       2.29662126e+00, 1.03809144e+00, 3.29923544e+00, 6.03983357e+00,\n",
       "       4.41723595e-01, 2.70771305e+00, 4.16798647e+00, 5.21556923e+00,\n",
       "       4.51607806e+00, 1.31502572e+00, 1.20697889e+01, 2.86659971e+00,\n",
       "       2.19223840e+00, 1.31051888e+01, 1.05190096e+00, 6.97191996e+00])"
      ]
     },
     "execution_count": 19,
     "metadata": {},
     "output_type": "execute_result"
    }
   ],
   "source": [
    "# Generating exponential sample set:\n",
    "\n",
    "exp = np.random.exponential(scale=5, size=(1000))\n",
    "exp"
   ]
  },
  {
   "cell_type": "markdown",
   "metadata": {},
   "source": [
    "Using these samples we can generate an exponential histogram with the PDF:"
   ]
  },
  {
   "cell_type": "code",
   "execution_count": 20,
   "metadata": {
    "scrolled": true
   },
   "outputs": [
    {
     "data": {
      "image/png": "[encoded data removed]",
      "text/plain": [
       "<Figure size 432x288 with 1 Axes>"
      ]
     },
     "metadata": {},
     "output_type": "display_data"
    }
   ],
   "source": [
    "# Importing required libraries:\n",
    "\n",
    "import scipy.stats\n",
    "from scipy.stats import expon\n",
    "import matplotlib.pyplot as plt\n",
    "%matplotlib inline\n",
    "\n",
    "# Configuring the details of the histogram output [3]:\n",
    "\n",
    "plt.hist(exp, 40, density=True, alpha=0.6, color='g', edgecolor='k') # Adding sample count, amount of bins and density function line (True = normal),\n",
    "                                                                     # and adding edgecolour to the bins\n",
    "                                                    \n",
    "plt.title(\"Exponential distribution\") # Adding a title\n",
    "plt.ylabel('Density') # labelling my y axis\n",
    "plt.xlabel('Exponential sample values') # labelling my x axis \n",
    "\n",
    "\n",
    "# Fit our exponential distribution (exp) to the data [25]:\n",
    "mu, std = expon.fit(exp)\n",
    "\n",
    "# Plot the PDF [25]:\n",
    "\n",
    "xmin, xmax = plt.xlim()\n",
    "x = np.linspace(xmin, xmax, 100)\n",
    "p = expon.pdf(x, mu, std)\n",
    "plt.plot(x, p, 'r', linewidth=2)\n",
    "\n",
    "plt.show()"
   ]
  },
  {
   "cell_type": "markdown",
   "metadata": {},
   "source": [
    "Let's output some basic descriptives:"
   ]
  },
  {
   "cell_type": "code",
   "execution_count": 21,
   "metadata": {
    "scrolled": true
   },
   "outputs": [
    {
     "name": "stdout",
     "output_type": "stream",
     "text": [
      "The mean of the distribution is 5.299807010661818\n",
      "The median of the distribution is 3.546100960965295\n",
      "The variance of the distribution is 33.06063864543472\n"
     ]
    }
   ],
   "source": [
    "import numpy as np\n",
    "\n",
    "print(\"The mean of the distribution is\", np.mean(exp))\n",
    "print(\"The median of the distribution is\", np.median(exp))\n",
    "print(\"The variance of the distribution is\", np.var(exp))"
   ]
  },
  {
   "cell_type": "markdown",
   "metadata": {},
   "source": [
    "There we have it. At first glace it looks quite similar to the F distribution. We can see that the plot starts on the y-axis at a positive value (this is called lambda) and gradually decreases to the right. Lambda is the very thing that specifies the distribution, it is essentially the event rate, but it may have different names pertaining to other applications such as arrival rate, birth rate, transition rate or in a coin toss, failure rate. It is expressed as the number of events per unit of time. Indeed, the PDF (red line) shows the distribution of this time (or distance) between events. The time factor is represented on the x-axis above labelled *Exponential sample values*.\n",
    "\n",
    "We can see that the mean time between transitions (or whatever the above distribution might represent) is 5.2. The median between transitions is 3.5. This is because the exponential distribution is skewed to the right, the median is less than the mean.\n",
    "\n",
    "What could be an example of when the assumptions of an exponential distribution are violated?\n",
    "\n",
    "One could be that the time between magnitude 5 earthquakes per yer in California does not follow an exponential distribution. That is, if one large earthquake occurs, it increases the probability of aftershocks of similar scale. Another example could be the time arrival of students at an IT. They will most likely not follow an exponential distribution because the rate is not *constant* and the arrivals of individual students is not independent [23]."
   ]
  },
  {
   "cell_type": "markdown",
   "metadata": {},
   "source": [
    "---------------------------------\n",
    "\n",
    "### How are the distributions are related?\n",
    "\n",
    "The answer to this question provides an essential part of understanding the fundamentals of data science. Remember, we examined the following types of distribution:\n",
    "\n",
    "* Normal\n",
    "* Binomial\n",
    "* Poisson\n",
    "* F\n",
    "* Exponential\n",
    "\n",
    "We need be aware that all probability distributions can be classified as **discrete** or **continuous** (distributions), depending on whether they define probabilities associated with discrete variables or continuous variables. To specify:\n",
    "\n",
    "* A discrete variable can assume only a fixed number of distinct values and lacks an inherent order (such the outcome of rolling a dice).\n",
    "\n",
    "* A continuous variable is a *random* variable that assumes all possible values in a continuum. Basicallly, it can take **any** value within the given range (such as the amount of profit earned by a company). \n",
    "\n",
    "The binomial and Poisson distributions are discrete, while the normal, F and exponential distributions are continuous.\n",
    "Understand that factors like type of variable, variance, deviations from the mean and outliers are what cause distributions to become asymmetric (as opposed to a normal symmetric distribution) and determine their shape. Indeed, outliers can and will ultimately affect the spread of a distribution via skewness and kurtosis. It should also be noted that all random variables which can be expressed as sums, converge in a parameter to the normal distribution by *central limit theorem*. These converging distributions include the binomial, chi-square and gamma types. We already defined central limit theorem earlier. Remember that it is relatively easy to understand, it states that; The sampling distribution of the mean of any independent, random variable will be normal or nearly normal (i.e. bell curve shaped), if the sample size is **large** enough [27].\n",
    "\n",
    "<img src=\"https://image.ibb.co/j85L50/distributions.png\" alt=\"distributions\" border=\"0\" />\n",
    "\n",
    "Obviously there are many more types of distributions other than those in the decision tree above (well over 100), all with their own unique properties. Nevertheless, almost all of them are merely a special case of another. There are several relating factors among each of them, and these relationships can be categorized into the following groups [26]: \n",
    "\n",
    "* One distribution is a **special case** of another with a broader parameter space\n",
    "* **Transformation** (function of a random variable)\n",
    "* **Combinations** (function of several variables)\n",
    "* Approximation (**limiting**) relationships\n",
    "* Bayesian\n",
    "* Duality\n",
    "* Conjugate priors\n",
    "\n",
    "These grouping terms are technical, but lets try and wrap our heads around the basics. \n",
    "\n",
    "For example, there are certain special cases where distributions overlap for just a single setting of their parameters, such as in the case of an exponential distribution with a mean of 2 and a chi-square distribution with 2 degrees of freedom. Another example of this is that a binomial (n, p) random variable with n = 1, is in fact also a Bernoulli (p) random variable. So, these are examples of one distribution being a *special case* of another with a broader parameter space [26]. What about an example of a *transformation* relationship ? One example could be; if X is a Student’s t (i.e. a T-distribution) random variable with ν degree of freedom, then X2 is an F (i.e. an F-distribution) (1,ν) random variable. This transformation relationship could essentially arise for example when an ANOVA (F-test) distribution overlaps with a T-test distribution in a psychology experiment with many groups. \n",
    "\n",
    "While there exists scores of different relationships between distributions, Let's take a look at some other examples:\n",
    "\n",
    "* A geometric random variable is the floor of an exponential random variable.\n",
    "* A rectangular random variable is the floor of a uniform random variable.\n",
    "* A binomial random variable is a special case of a power series random variable [29].\n",
    "* If X is a binomial(n, p) random variable and Y is a Poisson(np) distribution then P(X = n) ≈ P(Y = n) if n is large and np is small\n",
    "* If X is a Poisson random variable with large mean and Y is a normal distribution with the same mean and variance as X, then for integers j and k, P(j ≤ X ≤ k) ≈ P(j – 1/2 ≤ Y ≤ k + 1/2).\n",
    "* If X is an F(ν, ω) random variable with ω large, then ν X is approximately distributed as a chi-squared random variable with ν degrees of freedom.\n",
    "* If X is an exponential random variable with mean β, then X1/γ is a Weibull(γ, β) random variable [30].\n",
    "\n",
    "Technical indeed, so lets have a look at the relationship chart below for a more simple visualization:\n",
    "\n",
    "<img src=\"https://image.ibb.co/mzpYsf/distribution-chart.png\" alt=\"distribution-chart\" border=\"0\"> [30].\n",
    "\n",
    "Each distribution above is shown in the form of its probability density function. The horizontal x-axis represents the set of sample outcomes while the vertical y-axis describes the probability of these outcomes. The discrete distributions are represented with broken lines, while the continuous type are represented with dense lines. The sum of the heights of all the lines and areas under the curves always add up to 1 [28]. So, rather than thinking of distributions as a hazy mess of random data, try to instead appreciate that they are a family which represent all possible and probabilistic outcomes of events. "
   ]
  },
  {
   "cell_type": "markdown",
   "metadata": {},
   "source": [
    "-------------------------\n",
    "\n",
    "### Use of seeds in generating pseudorandom numbers\n",
    "\n",
    "The source of \"randomness\" that we apply to programs or statistical tests is in fact a mathematical trick produced by a pseudorandom number generator (PNG). We have just seen numerous examples of this at work by examining the numpy.random functions. In data science, true randomness is difficult to achieve, so we employ pseudorandomness instead. While pseudorandom numbers appear to be genuinely random, they are actually generated by a deterministic process. Numbers are generated in a sequence and this sequence is deterministic and **seeded** with an *initial* number. If you don't seed the pseudorandom number generator for example, then it may use the current machine time in seconds or miliseconds as the seed (sometimes referred to as the seed state). The value of the seed does not necessarily matter. What does matter is that the same seeding of the process results in the same sequence of random numbers [31]. \n",
    "\n",
    "Numpy.random contains a small suite called *Random generator*, a collection of functions which help us generate pseudorandom processes. The seed() function in numpy.random will seed the PNG, receiving an interger value as an argument e.g. 1 or 9. Let's look at an example:"
   ]
  },
  {
   "cell_type": "code",
   "execution_count": 16,
   "metadata": {},
   "outputs": [
    {
     "name": "stdout",
     "output_type": "stream",
     "text": [
      "0.6229016948897019 0.7417869892607294 0.7951935655656966 0.9424502837770503\n",
      "0.6229016948897019 0.7417869892607294 0.7951935655656966 0.9424502837770503\n",
      "0.4745706786885481 0.6574725026572553 0.6664104711248381 0.14260035292536777\n"
     ]
    }
   ],
   "source": [
    "from random import seed\n",
    "from random import random\n",
    "\n",
    "# Seed the PNG (Pseudorandom Number Generator)\n",
    "seed(5)\n",
    "\n",
    "# Generate random numbers set from the seed(1)\n",
    "print(random(), random(), random(), random())\n",
    "\n",
    "# Resetting the seed\n",
    "seed(5)\n",
    "\n",
    "# Generating random numbers again\n",
    "print(random(), random(), random(), random())\n",
    "\n",
    "# Resetting the seed with a different argument\n",
    "seed(12)\n",
    "\n",
    "# Generating random numbers again\n",
    "print(random(), random(), random(), random())"
   ]
  },
  {
   "cell_type": "markdown",
   "metadata": {},
   "source": [
    "We can see above that after running the example, we seeded the PNG with the value 5 and it generated 4 random numbers. We then reseeded the PNG and ran it again to see it generate the exact same 4 numbers. In the final example after reseeding to the value of 12, we can see it has generated 4 completely different random numbers. \n",
    "\n",
    "The choice of a good seed is essential for computer security. When an encryption key is generated pseudorandomly, being in possession of the seed allows an individual to obtain that key. It can also be very useful to control the randomness by setting the seed to ensure your code generates the same result every time, such as in a production model for manufacturing cars such as a Tesla prototype, i.e. the relationship between the output of the company and the labour/resources required to produce the cars. Coversely, when running experiments where randomization is used to control for confounding variables, we would use a different seed for each experimental trial [31]."
   ]
  },
  {
   "cell_type": "markdown",
   "metadata": {},
   "source": [
    "We could also generate a range of floats which will be drawn in a uniform distribution i.e. each value has an equal chance of being drawn [3]:"
   ]
  },
  {
   "cell_type": "code",
   "execution_count": 34,
   "metadata": {},
   "outputs": [
    {
     "name": "stdout",
     "output_type": "stream",
     "text": [
      "0.23796462709189137\n",
      "0.5442292252959519\n",
      "0.36995516654807925\n",
      "0.6039200385961945\n",
      "0.625720304108054\n",
      "0.06552885923981311\n",
      "0.013167991554874137\n",
      "0.83746908209646\n",
      "0.25935401432800764\n",
      "0.23433096104669637\n",
      "0.9956448355104628\n",
      "0.47026350752244794\n",
      "0.8364614512743888\n",
      "0.47635320869933495\n",
      "0.6390681405441619\n"
     ]
    }
   ],
   "source": [
    "# Seed the PNG \n",
    "seed(3)\n",
    "\n",
    "# Generate random floating point values between 0-1\n",
    "for i in range(15):\n",
    "    floats = random()\n",
    "    print(floats)"
   ]
  },
  {
   "cell_type": "markdown",
   "metadata": {},
   "source": [
    "Similarly we can do the same with intergers with the randint() function we used earlier:"
   ]
  },
  {
   "cell_type": "code",
   "execution_count": 43,
   "metadata": {},
   "outputs": [
    {
     "name": "stdout",
     "output_type": "stream",
     "text": [
      "41\n",
      "19\n",
      "50\n",
      "83\n",
      "6\n",
      "9\n",
      "68\n",
      "12\n",
      "46\n",
      "74\n",
      "7\n",
      "64\n",
      "27\n",
      "4\n",
      "11\n"
     ]
    }
   ],
   "source": [
    "from random import randint\n",
    "\n",
    "# Seed the PNG \n",
    "seed(7)\n",
    "\n",
    "# Generate random integers\n",
    "\n",
    "for i in range(15):\n",
    "    integers = randint(0, 99)\n",
    "    print(integers)"
   ]
  },
  {
   "cell_type": "markdown",
   "metadata": {},
   "source": [
    "It's not just random.random or random.int that the seed function affects, seed() has this affect on every single function in the numpy random module. Be aware that for a seed to be used as a PNG, it doesn't even need to be random itself. Furthermore, provided the original seed is ignored, the rest of the values generated by the PNG algorithm will nonetheless follow a probability distribution (in a pseudorandom fashion) [31].  \n",
    "\n",
    "Let's plot some data in order to visualize the effects of a controlled vs changed seed:"
   ]
  },
  {
   "cell_type": "code",
   "execution_count": 2,
   "metadata": {},
   "outputs": [
    {
     "data": {
      "text/plain": [
       "<matplotlib.axes._subplots.AxesSubplot at 0x29c6863d518>"
      ]
     },
     "execution_count": 2,
     "metadata": {},
     "output_type": "execute_result"
    },
    {
     "data": {
      "image/png": "[encoded data removed]",
      "text/plain": [
       "<Figure size 432x288 with 1 Axes>"
      ]
     },
     "metadata": {},
     "output_type": "display_data"
    }
   ],
   "source": [
    "import warnings # Importing the Python warnings module to \"ignore\" a plot configuration warning: \"UserWarning: The 'normed' kwarg is deprecated, and has been replaced by the 'density' kwarg\".\n",
    "warnings.filterwarnings('ignore')\n",
    "\n",
    "# Plot 1\n",
    "# Importing Seaborn to plot a random seeded distribution \n",
    "# Creating a controlled seed of 6\n",
    "\n",
    "import seaborn as sns, numpy as np\n",
    "np.random.seed(11)\n",
    "g = np.random.randn(1000)\n",
    "sns.distplot(g, color=\"r\")"
   ]
  },
  {
   "cell_type": "code",
   "execution_count": 3,
   "metadata": {},
   "outputs": [
    {
     "data": {
      "text/plain": [
       "<matplotlib.axes._subplots.AxesSubplot at 0x29c686d55c0>"
      ]
     },
     "execution_count": 3,
     "metadata": {},
     "output_type": "execute_result"
    },
    {
     "data": {
      "image/png": "[encoded data removed]",
      "text/plain": [
       "<Figure size 432x288 with 1 Axes>"
      ]
     },
     "metadata": {},
     "output_type": "display_data"
    }
   ],
   "source": [
    "# Plot 2\n",
    "# We will run the distribution plot again with nothing changed\n",
    "\n",
    "import seaborn as sns, numpy as np\n",
    "np.random.seed(11)\n",
    "g = np.random.randn(1000)\n",
    "sns.distplot(g, color=\"r\")"
   ]
  },
  {
   "cell_type": "code",
   "execution_count": 8,
   "metadata": {},
   "outputs": [
    {
     "data": {
      "image/png": "[encoded data removed]",
      "text/plain": [
       "<Figure size 432x288 with 1 Axes>"
      ]
     },
     "metadata": {},
     "output_type": "display_data"
    }
   ],
   "source": [
    "# Plot 3\n",
    "# Now we will change just the seed and run the distribution plot\n",
    "\n",
    "import seaborn as sns, numpy as np\n",
    "np.random.seed(1)\n",
    "g = np.random.randn(1000)\n",
    "sns.distplot(g, color=\"r\")\n",
    "\n",
    "# lastly, let's not forget to reset the previously ignored warning to its default state:\n",
    "warnings.resetwarnings()"
   ]
  },
  {
   "cell_type": "markdown",
   "metadata": {},
   "source": [
    "Notice how plot 1 and 2 are completely identical while plot 3 is slightly different in distributional shape, even though the only thing altered was the seed.\n",
    "\n",
    "What about the other functions in the Random generator suite? \n",
    "\n",
    "numpy.random.RandomState is a container for the Mersenne Twister pseudo-random number generator. It is very similar to the seed() function but unlike seed, can be used to create packaged objects which you can for call in your programs at a later stage. RandomState essentially exposes a number of methods for generating random numbers drawn from a variety of probability distributions [3]. For example, lets create an object:"
   ]
  },
  {
   "cell_type": "code",
   "execution_count": 51,
   "metadata": {},
   "outputs": [
    {
     "data": {
      "text/plain": [
       "<mtrand.RandomState at 0x27a9c3f0480>"
      ]
     },
     "execution_count": 51,
     "metadata": {},
     "output_type": "execute_result"
    }
   ],
   "source": [
    "import numpy \n",
    "obj = numpy.random.RandomState(1234) # Creating a RandomState object as \"obj\"\n",
    "obj"
   ]
  },
  {
   "cell_type": "code",
   "execution_count": 52,
   "metadata": {},
   "outputs": [
    {
     "data": {
      "text/plain": [
       "array([[0.19151945, 0.62210877, 0.43772774],\n",
       "       [0.78535858, 0.77997581, 0.27259261],\n",
       "       [0.27646426, 0.80187218, 0.95813935],\n",
       "       [0.87593263, 0.35781727, 0.50099513],\n",
       "       [0.68346294, 0.71270203, 0.37025075],\n",
       "       [0.56119619, 0.50308317, 0.01376845],\n",
       "       [0.77282662, 0.88264119, 0.36488598],\n",
       "       [0.61539618, 0.07538124, 0.36882401],\n",
       "       [0.9331401 , 0.65137814, 0.39720258]])"
      ]
     },
     "execution_count": 52,
     "metadata": {},
     "output_type": "execute_result"
    }
   ],
   "source": [
    "data = obj.rand(9, 3) # Using the object \"obj\" to create a new random numpy array which is also an object called \"data\"\n",
    "data"
   ]
  },
  {
   "cell_type": "markdown",
   "metadata": {},
   "source": [
    "Now if we call the \"data\" object again we will see that RandomState has maintained its state just as before:"
   ]
  },
  {
   "cell_type": "code",
   "execution_count": 53,
   "metadata": {},
   "outputs": [
    {
     "data": {
      "text/plain": [
       "array([[0.19151945, 0.62210877, 0.43772774],\n",
       "       [0.78535858, 0.77997581, 0.27259261],\n",
       "       [0.27646426, 0.80187218, 0.95813935],\n",
       "       [0.87593263, 0.35781727, 0.50099513],\n",
       "       [0.68346294, 0.71270203, 0.37025075],\n",
       "       [0.56119619, 0.50308317, 0.01376845],\n",
       "       [0.77282662, 0.88264119, 0.36488598],\n",
       "       [0.61539618, 0.07538124, 0.36882401],\n",
       "       [0.9331401 , 0.65137814, 0.39720258]])"
      ]
     },
     "execution_count": 53,
     "metadata": {},
     "output_type": "execute_result"
    }
   ],
   "source": [
    "data"
   ]
  },
  {
   "cell_type": "markdown",
   "metadata": {},
   "source": [
    "The get_state function will return a tuple representing the internal state of the generator. This is essentially the blueprint produced by the Mersenne Twister algorithm, and we can see its detail from the output which returns the following items[3]:\n",
    "\n",
    "* The string ‘MT19937’.\n",
    "* A 1-D array of 624 unsigned integer keys.\n",
    "* An integer pos.\n",
    "* An integer has_gauss.\n",
    "* A float cached_gaussian.\n",
    "\n",
    "Let's see:"
   ]
  },
  {
   "cell_type": "code",
   "execution_count": 48,
   "metadata": {},
   "outputs": [
    {
     "data": {
      "text/plain": [
       "('MT19937', array([2260313690,  348938374, 3392255680, 2909033704,  140638832,\n",
       "        1016917445, 4051655600,  976942074, 1628339371,  932989997,\n",
       "         417988570, 3106230116, 3847402493, 2846838083, 1854065059,\n",
       "        2365406610,  631390710, 3006558680, 1855109059,  230064328,\n",
       "         758538135, 1999313224, 2345696623, 4174662269,  280561112,\n",
       "        1706268812, 4182435209, 1014638053,  610687375, 2331525695,\n",
       "        3432349290, 1302213857, 2461808965, 1211193860, 3120004290,\n",
       "         159403718,  785407708, 1103582039, 2181742160, 4003474818,\n",
       "        3333684546, 2164025542, 3329631014, 3331897623,   44841503,\n",
       "        2124190575, 4103716897, 1985760015, 3231349092, 2579223365,\n",
       "        2045506447, 1684183393, 4105280043,  264622240, 3457386480,\n",
       "        3640204395, 3308050770, 1877785652, 1671495555,  489816736,\n",
       "        3645271096, 1053221445, 4106060276, 3422181599, 2615443735,\n",
       "        1804244509, 3539838858, 3452443235, 2399113344, 1565187405,\n",
       "        2474733055, 1149428025, 3675651662, 3578586687, 2141819878,\n",
       "        3912530560, 3882533229,  502129057, 2262588256,  243511723,\n",
       "        3669928491, 2909147132, 2533094556, 1693913013, 1031455591,\n",
       "         892347669, 1204715320, 2778280540, 3103938066, 1548020698,\n",
       "        2371526184, 2362735796,  601580678, 4163515833, 2286774353,\n",
       "        3385525426, 3435050721, 3859726043,  658564489, 1680167334,\n",
       "         395160378, 1918020476, 2179531800,  750714379, 1277823100,\n",
       "        3279993862,  968375750, 2645945689, 1435905461,  453299951,\n",
       "        2432221527, 2543208725,  977186272,  374115648, 1760836837,\n",
       "        1339597678, 4072942346, 1502786855, 1263608786, 2235649091,\n",
       "        3748764825,  105321286, 3494441207,  889085055, 1548213403,\n",
       "        3930247105, 1261616741, 3701589864, 2730870951, 2328741100,\n",
       "        1549885863,  885362289, 4236685512, 4183414762, 2700385771,\n",
       "        4179975148, 1324969786, 3735228741, 3337696400,  342695004,\n",
       "        1189947554,  799007231, 3479707634, 2754945644,  450211552,\n",
       "        2069028394, 1489498981, 3077105910, 2775627593, 1485941576,\n",
       "        1906706347, 1363343182, 1154927348, 2663740949, 3518726712,\n",
       "        3224543204, 2088074182, 3636799541,  876485687, 1331764607,\n",
       "        1721688505, 2144969088, 4090073983, 1223328334, 1893823894,\n",
       "        4023014570, 2390997307,  722079132,  534353189, 4068461700,\n",
       "        4005844884, 3362478912, 2758321754, 2734444009,  970440841,\n",
       "        3012468549, 1113307510, 4226440206, 4008367189, 2219268773,\n",
       "         870392716, 2499253257, 3083981992, 2008109066, 1151287397,\n",
       "        2169435052, 2384932835, 1612096122, 2171119261, 3321318748,\n",
       "        1317674930, 1449643218, 2113476231, 3313810858, 1519782446,\n",
       "        2630003892, 2464758765,    9731462, 1052415654, 3656592014,\n",
       "        2841565583, 3624077715, 2983921733,  562911616, 1962641375,\n",
       "         614269341,  785306885, 4273760749, 1888303864, 3171945333,\n",
       "         747233216,  368198111, 3813072643, 1724804430,  681854442,\n",
       "        4131373003, 2999398905, 2879312256, 3658689550, 2347669835,\n",
       "        2664829219, 2807075018, 3253655972, 2002544366, 1643713543,\n",
       "        1186919809, 3215199810, 4029160488, 1068185241,  915000036,\n",
       "        2065976610, 4276053157, 3527758033, 2401161367,  842168689,\n",
       "         507969091, 1804685371,  958670079, 2845853863, 2795655679,\n",
       "         229490910,  774557515, 2141840939, 1784889067, 1679680385,\n",
       "        2648417388, 2429705148, 2754293229, 1433256960,  126113575,\n",
       "        3636255678, 3156875032, 3485050346, 2225833886,  477422240,\n",
       "        2922494267, 3447028538, 4123742736, 1624289207, 1362957341,\n",
       "         578091799, 1188249426, 4254745168, 2077134384, 3248839208,\n",
       "         920104920,  777072686,  919500975,  954689369, 3734345697,\n",
       "         963527021, 1627543331,  610865187, 3652041124, 2034149562,\n",
       "        3544763031,   77621747, 4128985850, 1587424817, 1354288442,\n",
       "        3619314760, 1708376797,  326940888, 2058024529, 3459367601,\n",
       "        1470000018, 1095941426, 2700094647, 1369430284,  240943488,\n",
       "         361842083,  961851483, 2191681518, 3308512613, 2054940002,\n",
       "        4265757199, 1166040063, 3479215563, 3448883455,  660622673,\n",
       "        1004507739,  444314655, 3089971362, 3441658735, 2054386395,\n",
       "         721606098, 2808281070, 3988922231, 2981069157, 3187660644,\n",
       "        1700438419,  465094909, 2067097955,  781034920, 3593382873,\n",
       "         221537540, 4058240238, 2649691518, 1464747161, 2171116181,\n",
       "         277760487, 2657734871, 1713714962, 2306668985, 1921083486,\n",
       "        3101885825,  663912034, 2109009255, 1604183668,  752862648,\n",
       "        2154754068, 2146568730, 2346085114,  227251157, 3434674477,\n",
       "        1825639385,  614299416, 1712896225,  115429852, 3468720208,\n",
       "        3812351631,  144413573, 1565979984, 4039450152, 4216138990,\n",
       "        1663623049, 2247050244, 3060868821, 1566337412, 3382686158,\n",
       "        2509623692, 1263563671, 1360200562, 1826970920, 2705971464,\n",
       "        1615712977, 4286498113, 4230861534, 2996730271, 1690375340,\n",
       "        2889722659, 3759201910,  195871346,  657582540, 3854023474,\n",
       "         443002808, 1522982692,  524536023, 4259312476, 1550095226,\n",
       "        4167482166,  156698076, 4237215123, 3869358353, 1811122148,\n",
       "        1187724156, 2737100772, 1406546615,  432196015,  814245354,\n",
       "        4129949113, 1940145834, 1587754779, 3914244363, 2890981831,\n",
       "        2532990725, 4220043234,  922349960, 3682307144, 3519797929,\n",
       "        1872948906, 3421600291, 1356585955, 2660558280, 2593655527,\n",
       "        1829590266, 4071773680, 3568093215, 2602224556, 2629361598,\n",
       "        3225297981, 3639800786, 1400651480,  769725007, 3509817332,\n",
       "        1138316693, 1429898715, 3029690960, 3512041792, 2693047090,\n",
       "        3025060641, 2934039187,  271210632, 1213597215,  466142102,\n",
       "        1489185601, 2431230993, 1940741760, 1856343276, 3695963554,\n",
       "         277495980, 2525997388, 3753281030, 3833241502, 1492571399,\n",
       "         203035164, 2190351553, 3620139539, 2628646633, 2244091324,\n",
       "        1274966498, 3847098676,  958180754, 1263580506, 2803396943,\n",
       "         804048593,  578223533, 3232363764, 3810610989, 2666351419,\n",
       "         274246722, 3045961342, 2654133257,  338915900,  135050623,\n",
       "        3714710897, 1122319361, 1930288394, 1514757446, 2648411551,\n",
       "        2665976818, 1922954710, 2414027436, 1364684265,  395814907,\n",
       "         803208761, 2521936447,  631823100,  570463898, 1034907987,\n",
       "         179273695, 2234303106, 2679028703, 2219522624, 2189595580,\n",
       "        3160356306, 2041672333, 2986536412, 3816979234, 3054356004,\n",
       "        1932200261,  487488630, 2462430590, 3646338000, 1173263836,\n",
       "         542681657, 1746431646, 2016274431,   50704002, 2910955822,\n",
       "        3136959849, 2562376297, 2669796713,  218959494, 2736407903,\n",
       "        2112935337, 2184602348, 3131955204, 1988918897, 1979433465,\n",
       "         111037611, 1307546936, 1620099127, 1388754931,  507698292,\n",
       "        3193492631, 2715688218, 2909281280, 1057165160,  951970226,\n",
       "        1479088468, 2466700726,  110695581, 2588386715, 3894786584,\n",
       "        1363081750, 2562094110,  673223621, 3455478874,  319727983,\n",
       "        3420367804, 2595169198, 3952587382,  841364433, 3277142633,\n",
       "        2615888764,  353016384,  897840736,  884587774, 2356096243,\n",
       "         231721642, 2574185937,   13589462,  865475638, 4107744461,\n",
       "        1653527351, 2649632148, 1167334644, 1569430142, 3609105483,\n",
       "        3463259590, 1179723884, 2115248217, 3982052755,  487211103,\n",
       "        2363841818, 3724666385, 2275560911, 3830737525,  353381279,\n",
       "        1123433786, 1682768477, 2473812269, 1408021729, 1584109860,\n",
       "        4045088634, 1624954728, 1941754630, 4153741554, 3653232275,\n",
       "        1526795240, 3729710413,  332973006, 1697259304, 4217938175,\n",
       "        3876775776, 2901195850, 1611722990, 2548595086, 4265201072,\n",
       "          76991528, 3763912135, 1696021447,  123633128,  225556227,\n",
       "        3703923807, 4055295818, 1989679936,  572855962, 2422414634,\n",
       "        4293793217, 3757525477, 2042976673, 4132414536, 4241580006,\n",
       "        2077062331, 2198064263, 3998557957,  563847915, 2851070600,\n",
       "        3105990049, 2079504127, 1211296335,   61687311, 1982828632,\n",
       "        2130228175, 1557705711, 1212550942, 1205493497,  185279173,\n",
       "        4165883878,  773213171,  344698889, 1395910106, 3707815628,\n",
       "        1334816435, 2620911066, 1935228689,  180053610, 4078401641,\n",
       "        1736554240, 3643702302, 3315857509,  341577669, 2807850657,\n",
       "         391126227, 2467381806, 2838072779, 3039008762, 3826797962,\n",
       "         421136520, 3827508772, 1428234374,  798512555, 1640145905,\n",
       "        2443857604, 1869726726,  374514272, 2743520988, 3451965119,\n",
       "        3983557115, 1676015003, 2941385220, 2985199325], dtype=uint32), 54, 0, 0.0)"
      ]
     },
     "execution_count": 48,
     "metadata": {},
     "output_type": "execute_result"
    }
   ],
   "source": [
    "obj.get_state()"
   ]
  },
  {
   "cell_type": "markdown",
   "metadata": {},
   "source": [
    "The last function of the Random generator suite is the set_state function, which sets the internal state of the generator from a tuple. It is only used if someone has reason to manually reset the internal state of the Mersenne Twister  algorithm [3]. \n",
    "\n",
    "So, we can \"get\" and \"set\" the internal state of the PNG *directly* using get_state set_state. The tuple returned by get_state can be used like a seed in order to create reproducible sequences of random numbers. For example:[32]:"
   ]
  },
  {
   "cell_type": "code",
   "execution_count": 64,
   "metadata": {},
   "outputs": [
    {
     "name": "stdout",
     "output_type": "stream",
     "text": [
      "[44 47 64 67 67  9 83 21 36 87 70 88 88 12 58 65 39 87 46 88]\n"
     ]
    }
   ],
   "source": [
    "import numpy as np\n",
    "\n",
    "# Randomly initialize the PNG \n",
    "np.random.seed(0)\n",
    "\n",
    "# Get the initial state of the PNG\n",
    "init_png = np.random.get_state()\n",
    "\n",
    "# Draw some random numbers\n",
    "print(np.random.randint(0, 100, 20))"
   ]
  },
  {
   "cell_type": "code",
   "execution_count": 65,
   "metadata": {},
   "outputs": [
    {
     "name": "stdout",
     "output_type": "stream",
     "text": [
      "[44 47 64 67 67  9 83 21 36 87 70 88 88 12 58 65 39 87 46 88]\n"
     ]
    }
   ],
   "source": [
    "# Set the state back to what it was originally\n",
    "np.random.set_state(init_png)\n",
    "\n",
    "# Draw again\n",
    "print(np.random.randint(0, 100, 20))"
   ]
  },
  {
   "cell_type": "markdown",
   "metadata": {},
   "source": [
    "------------------------\n",
    "There we have it. We have explored a handful of useful functions, distributions and random generating modules belonging to the numpy.random package. Probability and distributions form the backbone of data analytics, but what is use of randomness?\n",
    "\n",
    "Computers have carried us a long way from old conventional methods of generating random numbers such as the rolling of dice, coin flipping or shuffling cards. These mechanical methods required alot of repeated work and time. Generating large amounts of random numbers in todays world affords many applications such as statistical sampling and testing, computer simulation, cryptography, randomized experiments, debugging programs  and search algorithms [33]. In a world governed by randomness, being able to simulate random events and processes can allow us to predict the probabilty of future events, develop better technologies, improve mathematical algorithms, and perhaps above all, allows us to better understand the very nature of our unpredictable lives.\n",
    "\n",
    "------------------------------"
   ]
  },
  {
   "cell_type": "markdown",
   "metadata": {},
   "source": [
    "### References\n",
    "\n",
    "[1]. McKinney, W.(2018). *Python for Data Analysis*. Boston: O' Reilly.\n",
    "\n",
    "[2]. Lutz, M.(2013). *Learning Python*. Boston: O' Reilly\n",
    "\n",
    "[3]. SciPy.org, multiple authors (2018). *Random sampling (numpy.random)*. Retrieved from:    https://docs.scipy.org/doc/numpy-1.15.1/reference/routines.random.html\n",
    "\n",
    "[4]. Matplotlib.org, multiple authors (2018). *Shapes and collections\"*. Retrieved from:  https://matplotlib.org/gallery/shapes_and_collections/scatter.html\n",
    "\n",
    "[5]. Stattrek.com, multiple authors (2018). *What is a Probability Distribution?*. Retrieved from: https://stattrek.com/probability-distributions/probability-distribution.aspx\n",
    "\n",
    "[6]. Frost, J. (2018). *Statistics by Jim*. Retrieved from: http://statisticsbyjim.com/basics/normal-distribution/\n",
    "\n",
    "[7]. Mathisfun.com, multiple authors (2017). *Standard normal distribution*. Retrieved from: https://www.mathsisfun.com/data/standard-normal-distribution.html\n",
    "\n",
    "[8]. Khanacademy.org, multiple authors (2018). *Z scores review*. Retrieved from: https://www.khanacademy.org/math/statistics-probability/modeling-distributions-of-data/z-scores/a/z-scores-review\n",
    "\n",
    "[9]. Sullivan, M. (2018). *The Binomial Probability Distribution*. Retrieved from:https://faculty.elgin.edu/dkernler/statistics/ch06/6-2.html\n",
    "\n",
    "[10]. SciPy.org, multiple authors (2018). *scipy.stats.binom*. Retrieved from:https://docs.scipy.org/doc/scipy-0.14.0/reference/generated/scipy.stats.binom.html\n",
    "\n",
    "[11]. Wikipedia, multiple authors (2018. *Probabilty mass function*. Retrieved from: https://en.wikipedia.org/wiki/Probability_mass_function\n",
    "\n",
    "[12]. Lutus, P. (2013). *Binomial Probabilty*. Retrieved from: https://arachnoid.com/binomial_probability/#Probability_Mass_Function\n",
    "\n",
    "[13]. Dataflair (2018). *How to Implement Probability Distributions with Python*. Retrieved from:https://data-flair.training/blogs/probability-distributions-with-python/\n",
    "\n",
    "[14]. Datasciencecentral.com, multiple authors (2018). *Statistics how to*. Retrieved from: https://www.statisticshowto.datasciencecentral.com/poisson-distribution/\n",
    "\n",
    "[15]. Krishnan, M. (2017). *Poisson distribution with Python*. Retrieved from:http://muthu.co/poisson-distribution-with-python/\n",
    "\n",
    "[16]. Brooks, E. B. (2007). *The Poisson Distribution*. Retrieved from:https://www.umass.edu/wsp/resources/poisson/\n",
    "\n",
    "[17]. Wikipedia, multiple authors (2018) *The F distribution*. Retrieved from: https://en.wikipedia.org/wiki/F-distribution\n",
    "\n",
    "[18]. Datasciencecentral.com, multiple authors (2018). *Statistics how to*. Retrieved from:https://www.statisticshowto.datasciencecentral.com/probability-and-statistics/f-statistic-value-test/\n",
    "\n",
    "[19]. Pytolearn, multiple authors (2018). *F Distribution*. Retrieved from: http://pytolearn.csd.auth.gr/d1-hyptest/11/f-distro.html\n",
    "\n",
    "[20]. Frost, J. (2018). *Statistics by Jim*. Retrieved from: http://statisticsbyjim.com/anova/f-tests-anova/\n",
    "\n",
    "[21]. Brownlee, J. (2018). *Critical Values for Statistical Hypothesis Testing and How to Calculate Them in Python*. Retrieved from: https://machinelearningmastery.com/critical-values-for-statistical-hypothesis-testing/\n",
    "\n",
    "[22]. Cornett, J. (2014). *How do I do an F-test in Python*. Retrieved from: https://stackoverflow.com/questions/21494141/how-do-i-do-a-f-test-in-python\n",
    "\n",
    "[23]. Wikipedia, multiple authors (2018) *Exponential distribution*.Retrieved from: https://en.wikipedia.org/wiki/Exponential_distribution\n",
    "\n",
    "[24]. Statisticshowto.com, Author unknown (2014). *Exponetial distribution*. Retrieved from: https://www.statisticshowto.datasciencecentral.com/exponential-distribution/\n",
    "\n",
    "[25]. Weckesser, W. (2015). *Fitting a Normal distribution to 1D data*. Retrieved from: https://stackoverflow.com/questions/20011122/fitting-a-normal-distribution-to-1d-data\n",
    "\n",
    "[26]. Wikipedia, multiple authors (2018). *Relationships among probability distributions*. Retrieved from: https://en.wikipedia.org/wiki/Relationships_among_probability_distributions\n",
    "\n",
    "[27]. Stattrek.com, multiple authors (2018). *Central Limit Theorem*. Retrieved from: https://stattrek.com/statistics/dictionary.aspx?definition=central_limit_theorem\n",
    "\n",
    "[28]. Owen, S. (2015). *Common Probability Distributions: The Data Scientist’s Crib Sheet*. Retrieved from: http://blog.cloudera.com/blog/2015/12/common-probability-distributions-the-data-scientists-crib-sheet/\n",
    "\n",
    "[29]. Leemis, L. M. & Mc Question, J. T. (2008). *Univariate Distribution Relationships*. The American Statistician,Vol.62,No.1 \n",
    "\n",
    "[30]. Cook, J. (2018). *Diagram of distribution relationships*. Retrieved from: https://www.johndcook.com/blog/distribution_chart/\n",
    "\n",
    "[31]. Brownlee, J. (2018). *How to Generate Random Numbers in Python*. Retrieved from: https://machinelearningmastery.com/how-to-generate-random-numbers-in-python/\n",
    "\n",
    "[32]. Ali, M. (2015). *How can I retrieve the current seed of NumPy's random number generator?*. Retrieved from: https://stackoverflow.com/questions/32172054/how-can-i-retrieve-the-current-seed-of-numpys-random-number-generator\n",
    "\n",
    "[33]. Wikipedia, multiple authors (2018). *Random number generation*. Retrieved from: https://en.wikipedia.org/wiki/Random_number_generation"
   ]
  }
 ],
 "metadata": {
  "kernelspec": {
   "display_name": "Python 3",
   "language": "python",
   "name": "python3"
  },
  "language_info": {
   "codemirror_mode": {
    "name": "ipython",
    "version": 3
   },
   "file_extension": ".py",
   "mimetype": "text/x-python",
   "name": "python",
   "nbconvert_exporter": "python",
   "pygments_lexer": "ipython3",
   "version": "3.6.5"
  }
 },
 "nbformat": 4,
 "nbformat_minor": 2
}
