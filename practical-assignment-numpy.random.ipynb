{
 "cells": [
  {
   "cell_type": "markdown",
   "metadata": {},
   "source": [
    "<img src=\"https://image.ibb.co/gw4Gen/Index-GMIT.png\" alt=\"Index-GMIT\" border=\"0\">\n",
    "## Practical Assignment: ***numpy.random package***\n",
    "\n",
    "* Assignment for Programming for Data Analytics\n",
    "\n",
    "* Start date: 12-10-2018 End date 11-11-2018\n",
    "\n",
    "-----------------------------------------------------------------------\n"
   ]
  },
  {
   "cell_type": "markdown",
   "metadata": {},
   "source": [
    "### Assignment outline and objectives\n",
    "1. Explain the overall purpose of the package.\n",
    "2. Explain the use of the “Simple random data” and “Permutations” functions.\n",
    "3. Explain the use and purpose of at least five “Distributions” functions.\n",
    "4. Explain the use of seeds in generating pseudorandom numbers.\n",
    "\n",
    "--------------------"
   ]
  },
  {
   "cell_type": "markdown",
   "metadata": {},
   "source": [
    "### Overall purpose of the package \n",
    "\n",
    "* The random module in Python's numpy package is a widely used tool which affords a suite of functions for generating random numbers, data and distributions.\n",
    "* It supplements the built-in Python *random* with functions for efficiently generating whole arrays of sample values from many kinds of probabilty distributions [1].\n",
    "* The module is comprised of \"simple random data\" (functions), \"permutations\", \"distributions\" and \"random generators.\n",
    "* It provides an array of tools, for tasks such as picking a random floating-point number between 0 and 1, and selecting a random integer between two numbers [2].\n",
    "* The module is also capable of generating a vast amount of probability distribtions, e.g. a normal or binomial types.\n",
    "* The module uses a popular and robust number generator called the *Mersenne Twister*. It also provides the function *seed* for setting the initial seed (more on this below).\n",
    "\n",
    "\n",
    "* As a brief example, the random module can *choose* an item at random from a sequence or shuffle a list of items randomly:\n",
    "-----------------------\n"
   ]
  },
  {
   "cell_type": "code",
   "execution_count": 4,
   "metadata": {},
   "outputs": [
    {
     "data": {
      "text/plain": [
       "'Linux'"
      ]
     },
     "execution_count": 4,
     "metadata": {},
     "output_type": "execute_result"
    }
   ],
   "source": [
    "# Choosing an item at random \n",
    "\n",
    "import random\n",
    "random.choice(['Windows', 'Linux', 'Mac', 'Android'])"
   ]
  },
  {
   "cell_type": "code",
   "execution_count": 5,
   "metadata": {},
   "outputs": [
    {
     "data": {
      "text/plain": [
       "'Windows'"
      ]
     },
     "execution_count": 5,
     "metadata": {},
     "output_type": "execute_result"
    }
   ],
   "source": [
    "# Repeating the random choice\n",
    "\n",
    "random.choice(['Windows', 'Linux', 'Mac', 'Android'])"
   ]
  },
  {
   "cell_type": "code",
   "execution_count": 12,
   "metadata": {},
   "outputs": [
    {
     "data": {
      "text/plain": [
       "['Acer', 'Dell', 'Microsoft', 'Apple', 'HP']"
      ]
     },
     "execution_count": 12,
     "metadata": {},
     "output_type": "execute_result"
    }
   ],
   "source": [
    "# Shuffling a list of items randomly\n",
    "\n",
    "import random\n",
    "machines = ['HP', 'Dell', 'Microsoft', 'Apple', 'Acer']\n",
    "random.shuffle(machines)\n",
    "machines"
   ]
  },
  {
   "cell_type": "code",
   "execution_count": 19,
   "metadata": {},
   "outputs": [
    {
     "data": {
      "text/plain": [
       "['HP', 'Apple', 'Microsoft', 'Acer', 'Dell']"
      ]
     },
     "execution_count": 19,
     "metadata": {},
     "output_type": "execute_result"
    }
   ],
   "source": [
    "# Repeating the random shuffle\n",
    "\n",
    "random.shuffle(machines)\n",
    "machines"
   ]
  },
  {
   "cell_type": "markdown",
   "metadata": {},
   "source": []
  },
  {
   "cell_type": "markdown",
   "metadata": {},
   "source": [
    "## References\n",
    "\n",
    "[1]. McKinney, W.(2018). *Python for Data Analysis*. Boston: O' Reilly.\n",
    "\n",
    "[2]. Lutz, M.(2013). *Learning Python*. Boston: O' Reilly"
   ]
  },
  {
   "cell_type": "code",
   "execution_count": null,
   "metadata": {},
   "outputs": [],
   "source": []
  }
 ],
 "metadata": {
  "kernelspec": {
   "display_name": "Python 3",
   "language": "python",
   "name": "python3"
  },
  "language_info": {
   "codemirror_mode": {
    "name": "ipython",
    "version": 3
   },
   "file_extension": ".py",
   "mimetype": "text/x-python",
   "name": "python",
   "nbconvert_exporter": "python",
   "pygments_lexer": "ipython3",
   "version": "3.6.5"
  }
 },
 "nbformat": 4,
 "nbformat_minor": 2
}
