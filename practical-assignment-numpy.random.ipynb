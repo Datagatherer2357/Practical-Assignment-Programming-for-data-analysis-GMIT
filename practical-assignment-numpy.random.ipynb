{
 "cells": [
  {
   "cell_type": "markdown",
   "metadata": {},
   "source": [
    "<img src=\"https://image.ibb.co/gw4Gen/Index-GMIT.png\" alt=\"Index-GMIT\" border=\"0\">\n",
    "## Practical Assignment: ***numpy.random package***\n",
    "* Assignment for Programming for Data Analytics\n",
    "\n",
    "* Start date: 12-10-2018 End date 11-11-2018\n",
    "-----------------------------------------------------------------------\n"
   ]
  },
  {
   "cell_type": "markdown",
   "metadata": {},
   "source": [
    "### Assignment outline and objectives\n",
    "1. Explain the overall purpose of the package.\n",
    "2. Explain the use of the “Simple random data” and “Permutations” functions.\n",
    "3. Explain the use and purpose of at least five “Distributions” functions.\n",
    "4. Explain the use of seeds in generating pseudorandom numbers.\n",
    "--------------------"
   ]
  },
  {
   "cell_type": "markdown",
   "metadata": {},
   "source": [
    "### Overall purpose of the package \n",
    "\n",
    "The random module in Python's numpy package is a widely used tool which affords a suite of functions for generating random numbers, data and distributions.\n",
    "It supplements the built-in Python *random* with functions for efficiently generating whole arrays of sample values from many kinds of probabilty distributions [1].\n",
    "The module is comprised of \"simple random data\" (functions), \"permutations\", \"distributions\" and \"random generators.\n",
    "It provides an array of tools, for tasks such as picking a random floating-point number between 0 and 1, and selecting a random integer between two numbers [2].\n",
    "The module is also capable of generating a vast amount of probability distribtions, e.g. a normal or binomial types.\n",
    "The module uses a popular and robust number generator called the *Mersenne Twister*. It also provides the function *seed* for setting the initial seed (more on this below).\n",
    "\n",
    "-----------------------------\n",
    "\n",
    "As a brief example, the random module can *choose* an item at random from a sequence or shuffle a list of items randomly:\n",
    "\n",
    "-----------------------\n"
   ]
  },
  {
   "cell_type": "code",
   "execution_count": 1,
   "metadata": {},
   "outputs": [
    {
     "data": {
      "text/plain": [
       "'Android'"
      ]
     },
     "execution_count": 1,
     "metadata": {},
     "output_type": "execute_result"
    }
   ],
   "source": [
    "# Choosing an item at random \n",
    "\n",
    "import random\n",
    "random.choice(['Windows', 'Linux', 'Mac', 'Android'])"
   ]
  },
  {
   "cell_type": "code",
   "execution_count": 2,
   "metadata": {},
   "outputs": [
    {
     "data": {
      "text/plain": [
       "'Windows'"
      ]
     },
     "execution_count": 2,
     "metadata": {},
     "output_type": "execute_result"
    }
   ],
   "source": [
    "# Repeating the random choice\n",
    "\n",
    "random.choice(['Windows', 'Linux', 'Mac', 'Android'])"
   ]
  },
  {
   "cell_type": "code",
   "execution_count": 3,
   "metadata": {},
   "outputs": [
    {
     "data": {
      "text/plain": [
       "['Acer', 'Dell', 'HP', 'Apple', 'Microsoft']"
      ]
     },
     "execution_count": 3,
     "metadata": {},
     "output_type": "execute_result"
    }
   ],
   "source": [
    "# Shuffling a list of items randomly\n",
    "\n",
    "import random\n",
    "machines = ['HP', 'Dell', 'Microsoft', 'Apple', 'Acer']\n",
    "random.shuffle(machines)\n",
    "machines"
   ]
  },
  {
   "cell_type": "code",
   "execution_count": 4,
   "metadata": {},
   "outputs": [
    {
     "data": {
      "text/plain": [
       "['HP', 'Acer', 'Apple', 'Microsoft', 'Dell']"
      ]
     },
     "execution_count": 4,
     "metadata": {},
     "output_type": "execute_result"
    }
   ],
   "source": [
    "# Repeating the random shuffle\n",
    "\n",
    "random.shuffle(machines)\n",
    "machines"
   ]
  },
  {
   "cell_type": "markdown",
   "metadata": {},
   "source": [
    "---------------------------\n",
    "\n",
    "Another example is that we could get a 5 × 4 array of \"samples\" from the standard normal distribution using *normal* [2]:\n",
    "\n",
    "---------------------------"
   ]
  },
  {
   "cell_type": "code",
   "execution_count": 5,
   "metadata": {},
   "outputs": [
    {
     "data": {
      "text/plain": [
       "array([[-0.29949411,  0.45863439,  0.23609932,  0.39213722],\n",
       "       [ 0.79538379,  0.32829102,  0.38840433, -0.26405728],\n",
       "       [ 0.4685686 ,  1.15229844,  0.79814492, -0.93258662],\n",
       "       [ 1.56341622,  1.71581183, -0.74905407,  1.12355738],\n",
       "       [-1.12376213, -1.94375662,  1.94822359,  0.91155388]])"
      ]
     },
     "execution_count": 5,
     "metadata": {},
     "output_type": "execute_result"
    }
   ],
   "source": [
    "# Creating a randomly sampled array\n",
    "\n",
    "import numpy as np\n",
    "import random\n",
    "samples = np.random.normal(size=(5, 4))\n",
    "samples"
   ]
  },
  {
   "cell_type": "markdown",
   "metadata": {},
   "source": [
    "### Use of “Simple random data” and “Permutations” functions\n",
    "\n",
    "The random module's *simple random data* section is a collection of ten functions, which perform different tasks. The afforementioned *random.choice()* function above is an example of one of these functions. \n",
    "\n",
    "Another function example is the *random.randint()* function, which returns random integers from *low* (inclusive) to *high* (exclusive). We can also include a third *size* argument as seen below:"
   ]
  },
  {
   "cell_type": "code",
   "execution_count": 6,
   "metadata": {},
   "outputs": [
    {
     "data": {
      "text/plain": [
       "array([46, 29, 24, 14, 20, 61, 40])"
      ]
     },
     "execution_count": 6,
     "metadata": {},
     "output_type": "execute_result"
    }
   ],
   "source": [
    "# Generate seven random integers between 1 and 75\n",
    "\n",
    "import numpy as np\n",
    "np.random.randint(low=1, high=75, size=7) # specifying lower and upper values and array size"
   ]
  },
  {
   "cell_type": "markdown",
   "metadata": {},
   "source": [
    "We could also for example, produce a 4 x 4 numpy array of integers between 1 and 20:"
   ]
  },
  {
   "cell_type": "code",
   "execution_count": 86,
   "metadata": {},
   "outputs": [
    {
     "data": {
      "text/plain": [
       "array([[ 7, 11,  7,  7],\n",
       "       [ 6,  1, 14,  8],\n",
       "       [19, 13,  7,  8]])"
      ]
     },
     "execution_count": 86,
     "metadata": {},
     "output_type": "execute_result"
    }
   ],
   "source": [
    "y = np.random.randint(1, 20, size=(3, 4)) # assigning array code to y variable\n",
    "y"
   ]
  },
  {
   "cell_type": "markdown",
   "metadata": {},
   "source": [
    "We can also plot this random array nicely on a histogram:"
   ]
  },
  {
   "cell_type": "code",
   "execution_count": 87,
   "metadata": {},
   "outputs": [
    {
     "data": {
      "image/png": "[encoded data removed]",
      "text/plain": [
       "<Figure size 432x288 with 1 Axes>"
      ]
     },
     "metadata": {},
     "output_type": "display_data"
    }
   ],
   "source": [
    "# plotting a random array\n",
    "\n",
    "import matplotlib.pyplot as plt\n",
    "plt.title(\"GMIT randint histogram\") # Labelling the title\n",
    "plt.xlabel(\"Count\")                 # Labelling x axis\n",
    "plt.ylabel(\"Random integer\")        # Labelling y axis\n",
    "\n",
    "plt.hist(y, edgecolor='k')\n",
    "\n",
    "plt.show() # or use: %matplotlib inline"
   ]
  },
  {
   "cell_type": "markdown",
   "metadata": {},
   "source": [
    "The histogram is nicely defined showing a bar measure for each number in the array and how many times each occurs.\n",
    "\n",
    "\n",
    "Another useful function belonging to the simple random data suite is the *random.rand* function. \n",
    "\n",
    "*rand* will take ANY number of arguments in its parameters and returns a set of random values in a given shape. So for example, we could create an array of this given shape and fill it with random samples from a uniform distribution over;[0, 1).\n",
    "\n",
    "But what does this mean ? It, means that the outputted distribution can include any random (floating point) number between 0 and 1 but won't include 1 *itself*. If no argument is specified, a single float will be returned [3]. \n",
    "\n",
    "For example, using rand we could randomly construct a 2D or 3D numpy array:\n",
    "\n",
    "-----------------------------\n"
   ]
  },
  {
   "cell_type": "code",
   "execution_count": 26,
   "metadata": {},
   "outputs": [
    {
     "data": {
      "text/plain": [
       "array([[0.7356731 , 0.70830839, 0.10344341, 0.04139901],\n",
       "       [0.47125975, 0.03194845, 0.84777557, 0.34471699],\n",
       "       [0.41613219, 0.7402566 , 0.73720195, 0.42974194]])"
      ]
     },
     "execution_count": 26,
     "metadata": {},
     "output_type": "execute_result"
    }
   ],
   "source": [
    "# 2D array using rand function\n",
    "\n",
    "twoD = np.random.rand(3, 4) \n",
    "twoD"
   ]
  },
  {
   "cell_type": "code",
   "execution_count": 27,
   "metadata": {},
   "outputs": [
    {
     "data": {
      "text/plain": [
       "array([[[0.83212292, 0.25585343, 0.21820813],\n",
       "        [0.76797526, 0.02457421, 0.24483006],\n",
       "        [0.83923557, 0.06606951, 0.67475305],\n",
       "        [0.80593456, 0.82906448, 0.26040309],\n",
       "        [0.56566314, 0.75397005, 0.57429166]],\n",
       "\n",
       "       [[0.59211133, 0.10175676, 0.20625569],\n",
       "        [0.75576133, 0.76831791, 0.99845509],\n",
       "        [0.44475385, 0.77799727, 0.6674606 ],\n",
       "        [0.68856896, 0.81150182, 0.74306045],\n",
       "        [0.23872086, 0.83209952, 0.0308947 ]]])"
      ]
     },
     "execution_count": 27,
     "metadata": {},
     "output_type": "execute_result"
    }
   ],
   "source": [
    "# 3D array using rand function\n",
    "\n",
    "threeD = np.random.rand(2, 5, 3) \n",
    "threeD"
   ]
  },
  {
   "cell_type": "markdown",
   "metadata": {},
   "source": [
    "Indeed, interesting and useful, but for the purpose of gaining a better visualization of our random data, we will go a bit further and input our own number into the rand parameters and produce a nice scatterplot:"
   ]
  },
  {
   "cell_type": "code",
   "execution_count": 70,
   "metadata": {},
   "outputs": [
    {
     "data": {
      "image/png": "[encoded data removed]",
      "text/plain": [
       "<Figure size 432x288 with 1 Axes>"
      ]
     },
     "metadata": {},
     "output_type": "display_data"
    }
   ],
   "source": [
    "import numpy as np\n",
    "import matplotlib.pyplot\n",
    "\n",
    "# Creating our random scatteplot data [4].\n",
    "\n",
    "num = 135 # Number of random data points\n",
    "x = np.random.rand(num) # plots the random data positions (x and y axes)\n",
    "y = np.random.rand(num)\n",
    "colors = np.random.rand(num) # Using the random.rand function to create random colours on our points\n",
    "area = (20 * np.random.rand(num))**2  # This will determine the size properties of our scatter radii points\n",
    "\n",
    "# Setting the parameters of our plot [4].\n",
    "\n",
    "plt.scatter(x, y, s=area, c=colors, alpha=0.5, edgecolor = 'black') # \"s\" plots an array like shape; \"c\" plots the colour sequence;  \n",
    "                                                                    # \"alpha\" is the blending value between 0 (transparent) and 1 (opaque).\n",
    "                                                                    # edgecolour adds edge colours to the radii points\n",
    "plt.title('Scatterplot of GMIT random assignment data') # For labelling our visible title    \n",
    "plt.xlabel('random x data') # labelling my x axis\n",
    "plt.ylabel('random y data') # labelling my y axis \n",
    "plt.show()"
   ]
  },
  {
   "cell_type": "markdown",
   "metadata": {},
   "source": [
    "There we are, a simple and appealing plot of purely randomly generated data\n",
    "\n",
    "----------------------------"
   ]
  },
  {
   "cell_type": "markdown",
   "metadata": {},
   "source": [
    "------------------\n",
    "\n",
    "The module's *permutations* section is comprised of two more specialised funtions: *shuffle* and *permutation*. \n",
    "\n",
    "*shuffle* takes only one argument (x), and will modify a sequence in-place by shuffling its contents (as demonstrated in the example above). \n",
    "\n",
    "The shuffle function will also only shuffle an array along the first axis of a multi-dimensional array. The order of sub-arrays is changed but their contents remains the same [3]. So, below is another example of the shuffle function...we can shuffle a multidimensional array by row:"
   ]
  },
  {
   "cell_type": "code",
   "execution_count": 29,
   "metadata": {},
   "outputs": [
    {
     "data": {
      "text/plain": [
       "array([[0.10834139, 0.1412637 , 0.0486077 ],\n",
       "       [0.46433101, 0.54414437, 0.63437346],\n",
       "       [0.72391129, 0.8438917 , 0.85893299],\n",
       "       [0.40809962, 0.13411108, 0.13324288],\n",
       "       [0.11620161, 0.13656185, 0.25003297]])"
      ]
     },
     "execution_count": 29,
     "metadata": {},
     "output_type": "execute_result"
    }
   ],
   "source": [
    "# First we create our random array \"so_random\"\n",
    "\n",
    "so_random = np.random.random((5, 3)) # the random function returns random floats in the half-open interval [0.0, 1.0).\n",
    "so_random"
   ]
  },
  {
   "cell_type": "code",
   "execution_count": 30,
   "metadata": {},
   "outputs": [
    {
     "data": {
      "text/plain": [
       "array([[0.72391129, 0.8438917 , 0.85893299],\n",
       "       [0.46433101, 0.54414437, 0.63437346],\n",
       "       [0.10834139, 0.1412637 , 0.0486077 ],\n",
       "       [0.40809962, 0.13411108, 0.13324288],\n",
       "       [0.11620161, 0.13656185, 0.25003297]])"
      ]
     },
     "execution_count": 30,
     "metadata": {},
     "output_type": "execute_result"
    }
   ],
   "source": [
    "# Next we shuffle our so_random array\n",
    "\n",
    "np.random.shuffle(so_random) # our previous randomly shuffled z array of floats entered into the shuffle paramter\n",
    "so_random"
   ]
  },
  {
   "cell_type": "markdown",
   "metadata": {},
   "source": [
    "*permutation* will also take one argument (x) and randomly permute (randomly reorder) a sequence, or return a permuted range [3].\n",
    "\n",
    "While permutation appears to be very similar to the shuffle function, there are some differences. For example, if passed an array, permutation will return a shuffled copy of the array; np.random.shuffle shuffles the array *inplace*."
   ]
  },
  {
   "cell_type": "code",
   "execution_count": 20,
   "metadata": {},
   "outputs": [
    {
     "data": {
      "text/plain": [
       "array([ 2, 11,  1,  5, 13,  3, 23, 17, 19,  7])"
      ]
     },
     "execution_count": 20,
     "metadata": {},
     "output_type": "execute_result"
    }
   ],
   "source": [
    "# Here I'll input a list of primes numbers, and apply the permutation function:\n",
    "\n",
    "import numpy as np\n",
    "np.random.permutation([1, 2, 3, 5, 7, 11, 13, 17, 19, 23])"
   ]
  },
  {
   "cell_type": "code",
   "execution_count": 39,
   "metadata": {},
   "outputs": [
    {
     "data": {
      "text/plain": [
       "array([[ 0,  1,  2,  3,  4],\n",
       "       [ 5,  6,  7,  8,  9],\n",
       "       [10, 11, 12, 13, 14],\n",
       "       [15, 16, 17, 18, 19],\n",
       "       [20, 21, 22, 23, 24]])"
      ]
     },
     "execution_count": 39,
     "metadata": {},
     "output_type": "execute_result"
    }
   ],
   "source": [
    "# Now I'll apply permutation to an array.\n",
    "# First I'll create a random array:\n",
    "\n",
    "array_mix = np.arange(25).reshape((5, 5))\n",
    "array_mix"
   ]
  },
  {
   "cell_type": "code",
   "execution_count": 38,
   "metadata": {},
   "outputs": [
    {
     "data": {
      "text/plain": [
       "array([[ 0,  1,  2,  3,  4],\n",
       "       [15, 16, 17, 18, 19],\n",
       "       [ 5,  6,  7,  8,  9],\n",
       "       [10, 11, 12, 13, 14],\n",
       "       [20, 21, 22, 23, 24]])"
      ]
     },
     "execution_count": 38,
     "metadata": {},
     "output_type": "execute_result"
    }
   ],
   "source": [
    "# Now we will apply the permutation function to the array:\n",
    "\n",
    "np.random.permutation(array_mix)"
   ]
  },
  {
   "cell_type": "markdown",
   "metadata": {},
   "source": [
    "Permuting a series or the rows in a dataframe is also quite easy to achieve. "
   ]
  },
  {
   "cell_type": "code",
   "execution_count": 87,
   "metadata": {},
   "outputs": [
    {
     "data": {
      "text/html": [
       "<div>\n",
       "<style scoped>\n",
       "    .dataframe tbody tr th:only-of-type {\n",
       "        vertical-align: middle;\n",
       "    }\n",
       "\n",
       "    .dataframe tbody tr th {\n",
       "        vertical-align: top;\n",
       "    }\n",
       "\n",
       "    .dataframe thead th {\n",
       "        text-align: right;\n",
       "    }\n",
       "</style>\n",
       "<table border=\"1\" class=\"dataframe\">\n",
       "  <thead>\n",
       "    <tr style=\"text-align: right;\">\n",
       "      <th></th>\n",
       "      <th>0</th>\n",
       "      <th>1</th>\n",
       "      <th>2</th>\n",
       "      <th>3</th>\n",
       "      <th>4</th>\n",
       "      <th>5</th>\n",
       "      <th>6</th>\n",
       "    </tr>\n",
       "  </thead>\n",
       "  <tbody>\n",
       "    <tr>\n",
       "      <th>0</th>\n",
       "      <td>0</td>\n",
       "      <td>1</td>\n",
       "      <td>2</td>\n",
       "      <td>3</td>\n",
       "      <td>4</td>\n",
       "      <td>5</td>\n",
       "      <td>6</td>\n",
       "    </tr>\n",
       "    <tr>\n",
       "      <th>1</th>\n",
       "      <td>7</td>\n",
       "      <td>8</td>\n",
       "      <td>9</td>\n",
       "      <td>10</td>\n",
       "      <td>11</td>\n",
       "      <td>12</td>\n",
       "      <td>13</td>\n",
       "    </tr>\n",
       "    <tr>\n",
       "      <th>2</th>\n",
       "      <td>14</td>\n",
       "      <td>15</td>\n",
       "      <td>16</td>\n",
       "      <td>17</td>\n",
       "      <td>18</td>\n",
       "      <td>19</td>\n",
       "      <td>20</td>\n",
       "    </tr>\n",
       "    <tr>\n",
       "      <th>3</th>\n",
       "      <td>21</td>\n",
       "      <td>22</td>\n",
       "      <td>23</td>\n",
       "      <td>24</td>\n",
       "      <td>25</td>\n",
       "      <td>26</td>\n",
       "      <td>27</td>\n",
       "    </tr>\n",
       "    <tr>\n",
       "      <th>4</th>\n",
       "      <td>28</td>\n",
       "      <td>29</td>\n",
       "      <td>30</td>\n",
       "      <td>31</td>\n",
       "      <td>32</td>\n",
       "      <td>33</td>\n",
       "      <td>34</td>\n",
       "    </tr>\n",
       "  </tbody>\n",
       "</table>\n",
       "</div>"
      ],
      "text/plain": [
       "    0   1   2   3   4   5   6\n",
       "0   0   1   2   3   4   5   6\n",
       "1   7   8   9  10  11  12  13\n",
       "2  14  15  16  17  18  19  20\n",
       "3  21  22  23  24  25  26  27\n",
       "4  28  29  30  31  32  33  34"
      ]
     },
     "execution_count": 87,
     "metadata": {},
     "output_type": "execute_result"
    }
   ],
   "source": [
    "# Creating a dataframe\n",
    "\n",
    "import pandas as pd\n",
    "GMIT_df = pd.DataFrame(np.arange(7 * 5).reshape((5, 7))) # Arranges and shapes the amount of rows and columns in the dataframe (GMIT_df)\n",
    "GMIT_df"
   ]
  },
  {
   "cell_type": "code",
   "execution_count": 88,
   "metadata": {},
   "outputs": [
    {
     "data": {
      "text/plain": [
       "array([[21, 22, 23, 24, 25, 26, 27],\n",
       "       [ 0,  1,  2,  3,  4,  5,  6],\n",
       "       [ 7,  8,  9, 10, 11, 12, 13],\n",
       "       [28, 29, 30, 31, 32, 33, 34],\n",
       "       [14, 15, 16, 17, 18, 19, 20]])"
      ]
     },
     "execution_count": 88,
     "metadata": {},
     "output_type": "execute_result"
    }
   ],
   "source": [
    "# Permuting the dataframe\n",
    "\n",
    "np.random.permutation(GMIT_df)"
   ]
  },
  {
   "cell_type": "markdown",
   "metadata": {},
   "source": [
    "Calling permutation with the length of the axis you want to permute produces an array of integers indicating the new\n",
    "ordering [1]:"
   ]
  },
  {
   "cell_type": "code",
   "execution_count": 99,
   "metadata": {},
   "outputs": [
    {
     "data": {
      "text/plain": [
       "array([4, 2, 1, 0, 3])"
      ]
     },
     "execution_count": 99,
     "metadata": {},
     "output_type": "execute_result"
    }
   ],
   "source": [
    "# Producing random array\n",
    "\n",
    "sample_arr = np.random.permutation(5) # Permuting array \n",
    "sample_arr"
   ]
  },
  {
   "cell_type": "markdown",
   "metadata": {},
   "source": [
    "This array can now be used in iloc-based indexing (by incorporating the *take* function) with our above dataframe (GMIT_DF) [1]:"
   ]
  },
  {
   "cell_type": "code",
   "execution_count": 101,
   "metadata": {},
   "outputs": [
    {
     "data": {
      "text/html": [
       "<div>\n",
       "<style scoped>\n",
       "    .dataframe tbody tr th:only-of-type {\n",
       "        vertical-align: middle;\n",
       "    }\n",
       "\n",
       "    .dataframe tbody tr th {\n",
       "        vertical-align: top;\n",
       "    }\n",
       "\n",
       "    .dataframe thead th {\n",
       "        text-align: right;\n",
       "    }\n",
       "</style>\n",
       "<table border=\"1\" class=\"dataframe\">\n",
       "  <thead>\n",
       "    <tr style=\"text-align: right;\">\n",
       "      <th></th>\n",
       "      <th>0</th>\n",
       "      <th>1</th>\n",
       "      <th>2</th>\n",
       "      <th>3</th>\n",
       "      <th>4</th>\n",
       "      <th>5</th>\n",
       "      <th>6</th>\n",
       "    </tr>\n",
       "  </thead>\n",
       "  <tbody>\n",
       "    <tr>\n",
       "      <th>4</th>\n",
       "      <td>28</td>\n",
       "      <td>29</td>\n",
       "      <td>30</td>\n",
       "      <td>31</td>\n",
       "      <td>32</td>\n",
       "      <td>33</td>\n",
       "      <td>34</td>\n",
       "    </tr>\n",
       "    <tr>\n",
       "      <th>2</th>\n",
       "      <td>14</td>\n",
       "      <td>15</td>\n",
       "      <td>16</td>\n",
       "      <td>17</td>\n",
       "      <td>18</td>\n",
       "      <td>19</td>\n",
       "      <td>20</td>\n",
       "    </tr>\n",
       "    <tr>\n",
       "      <th>1</th>\n",
       "      <td>7</td>\n",
       "      <td>8</td>\n",
       "      <td>9</td>\n",
       "      <td>10</td>\n",
       "      <td>11</td>\n",
       "      <td>12</td>\n",
       "      <td>13</td>\n",
       "    </tr>\n",
       "    <tr>\n",
       "      <th>0</th>\n",
       "      <td>0</td>\n",
       "      <td>1</td>\n",
       "      <td>2</td>\n",
       "      <td>3</td>\n",
       "      <td>4</td>\n",
       "      <td>5</td>\n",
       "      <td>6</td>\n",
       "    </tr>\n",
       "    <tr>\n",
       "      <th>3</th>\n",
       "      <td>21</td>\n",
       "      <td>22</td>\n",
       "      <td>23</td>\n",
       "      <td>24</td>\n",
       "      <td>25</td>\n",
       "      <td>26</td>\n",
       "      <td>27</td>\n",
       "    </tr>\n",
       "  </tbody>\n",
       "</table>\n",
       "</div>"
      ],
      "text/plain": [
       "    0   1   2   3   4   5   6\n",
       "4  28  29  30  31  32  33  34\n",
       "2  14  15  16  17  18  19  20\n",
       "1   7   8   9  10  11  12  13\n",
       "0   0   1   2   3   4   5   6\n",
       "3  21  22  23  24  25  26  27"
      ]
     },
     "execution_count": 101,
     "metadata": {},
     "output_type": "execute_result"
    }
   ],
   "source": [
    "# Applying the permuted array to re-index dataframe\n",
    "\n",
    "GMIT_df.take(sample_arr) # \"take\" takes elements from an array along an axis\n"
   ]
  },
  {
   "cell_type": "markdown",
   "metadata": {},
   "source": [
    "### Use and purpose of  “Distributions” functions"
   ]
  },
  {
   "cell_type": "markdown",
   "metadata": {},
   "source": [
    "Numpy's random distribution functions is a suite of probabilty distributions of many different varieties. But what is a probability distribution? \n",
    "\n",
    "Well, A probability distribution is a table or an equation that links each outcome of a statistical experiment with its probability of occurrence. That is, it provides the probabilities of occurrence of different possible *outcomes* of any given experiment [5].\n",
    "\n",
    "To get a better understanding of probability distributions we need to understand random variables.\n",
    "\n",
    "A variables is a symbol (A, B, x, y, z etc) that can adopt any specified set of values. When the value of a variable is the result of a statistical experiment, then it is known as a random variable.\n",
    "\n",
    "To explain the relationship between random variables and probability distributions imagine flipping a coin twice.\n",
    "\n",
    "This very basic statistical experiment can have four possible outcomes:\n",
    "\n",
    "* #### Heads/Heads\n",
    "* #### Heads/Tails\n",
    "* #### Tails/Heads\n",
    "* #### Tails/Tails\n",
    "\n",
    "\"X\" represents the number of heads that result from our experiment with its probability of occurence. The table below, which associates each outcome with its chance of occuring (probability), is an example of a basic probabilty distribution.\n",
    "\n",
    "| No. of heads (X) | Probabilty |\n",
    "| :--------------: | :--------: |\n",
    "| 0                | 0.25       |\n",
    "| 1                | 0.50       |\n",
    "| 2                | 0.25       |\n",
    "\n",
    "----------------------"
   ]
  },
  {
   "cell_type": "markdown",
   "metadata": {},
   "source": [
    "#### Normal distribution\n",
    "\n",
    "The normal distribution (also known as the Gaussian distribution or bell curve) is the most important probability distribution in statistics because it fits many natural phenomena. For example, heights, blood pressure, measurement error, and IQ scores follow the normal distribution.  \n",
    "\n",
    "The normal distribution is symmetric and most of the observations cluster around the central peak and the probabilities for values further away from the mean taper off equally in both directions. Extreme values in both tails of the distribution are also unlikely, they are know as outliers [6].\n",
    "\n",
    "The parameters for the normal distribution define its shape and probabilities. The normal distribution has two parameters, the mean and standard deviation: \n",
    "\n",
    "* The mean (M) is the central tendency of the distribution. It defines the location of the peak for normal distributions. Most values cluster around the mean. \n",
    "\n",
    "* The standard deviation (SD) is a measure of variability. It defines the width of the normal distribution. The standard deviation determines how far away from the mean the values tend to fall. It represents the typical distance between the observations and the average [6].\n",
    "\n",
    "numpy.random.normal draws random samples from a normal distribution. It has three parameters: location (M), scale (SD) and size (optional).\n",
    "\n",
    "Let's have a look at a few examples:\n",
    "\n",
    "\n"
   ]
  },
  {
   "cell_type": "code",
   "execution_count": 77,
   "metadata": {
    "scrolled": true
   },
   "outputs": [
    {
     "data": {
      "text/plain": [
       "array([-0.07594428,  0.11412484, -0.01042395,  0.06235236,  0.03105926,\n",
       "        0.08630312, -0.11037853,  0.01807556, -0.0575205 ,  0.03992949,\n",
       "        0.10399806, -0.07763395, -0.12380682,  0.09374282,  0.0669124 ,\n",
       "       -0.19556034,  0.00724595, -0.12308775, -0.03302882, -0.00998204,\n",
       "        0.09765753,  0.09523325,  0.07039855,  0.12188654, -0.09754365,\n",
       "        0.17547825,  0.04396719, -0.09370597, -0.15985745,  0.00275035,\n",
       "        0.00825589,  0.07244588,  0.07607315,  0.16129644, -0.09611226,\n",
       "        0.04250451, -0.01304947, -0.00720402,  0.04555275,  0.08441873,\n",
       "        0.01678858,  0.04499728,  0.05870281, -0.07724115,  0.08152501,\n",
       "        0.06524992, -0.03619377,  0.18517065, -0.01661322,  0.25103777,\n",
       "        0.05617417, -0.03892572, -0.06017979, -0.05856485,  0.0685177 ,\n",
       "        0.07307567, -0.02646843, -0.09670754, -0.01917035, -0.05525911,\n",
       "       -0.00799446,  0.10874846, -0.04077812,  0.0228759 , -0.13834284,\n",
       "       -0.0824576 , -0.03657997, -0.03543176, -0.02219998,  0.01984824,\n",
       "        0.12156234, -0.06353735,  0.13324681,  0.12981139,  0.0931381 ,\n",
       "        0.01125392,  0.00388554, -0.09120599,  0.03160958, -0.10195973,\n",
       "        0.00364032,  0.08164477,  0.11274009,  0.06241523,  0.05448487,\n",
       "       -0.04156422, -0.0428098 , -0.0368455 ,  0.14980034, -0.10640309,\n",
       "        0.0587205 , -0.18148101, -0.04604086, -0.20949918, -0.16103942,\n",
       "        0.05164954, -0.03808833,  0.15725923,  0.00204934,  0.12339909,\n",
       "       -0.24073383,  0.03192453, -0.06074393, -0.06178263,  0.00915617,\n",
       "        0.17428171, -0.14031965, -0.08680552, -0.0036942 , -0.14273253,\n",
       "       -0.05368379, -0.11850632,  0.0530464 ,  0.06453964,  0.07303137,\n",
       "        0.10948407,  0.07466899, -0.15538448,  0.05179072, -0.01609465,\n",
       "        0.02700939, -0.11256427, -0.00658519, -0.14512885,  0.00515393,\n",
       "        0.06726688,  0.05568938, -0.04553472, -0.04900071, -0.03127299,\n",
       "        0.06930337, -0.17188686, -0.06180386, -0.11653083, -0.13732158,\n",
       "       -0.01792903,  0.10993385,  0.04534774,  0.06260269, -0.00596953,\n",
       "       -0.10981466, -0.08274796,  0.04129248,  0.06135908, -0.06024712,\n",
       "        0.0552824 , -0.04906636, -0.0418053 ,  0.0877791 ,  0.03122774,\n",
       "        0.1122982 ,  0.09609429, -0.26292708,  0.01556434,  0.09775899,\n",
       "        0.21903139, -0.08124828,  0.10970875, -0.06542403,  0.06188714,\n",
       "        0.07542196, -0.11932306,  0.06173114, -0.03631536, -0.02479582,\n",
       "       -0.09804106,  0.17440377,  0.09987108,  0.04512115, -0.13367772,\n",
       "       -0.00077506, -0.06246799,  0.01591913, -0.12567127, -0.03479586,\n",
       "        0.04515981,  0.00739142,  0.20969468, -0.10239794,  0.00219674,\n",
       "        0.06705986, -0.10641793, -0.01786538, -0.02501707, -0.11466146,\n",
       "        0.04428775, -0.05313811,  0.00201037, -0.08636535, -0.00633435,\n",
       "       -0.16240851,  0.01263035, -0.05766956, -0.21025286,  0.01851051,\n",
       "        0.01615172, -0.00311659,  0.01824964, -0.06997471, -0.10092933,\n",
       "       -0.01034511, -0.04110838, -0.24360355, -0.03605017, -0.05541357,\n",
       "        0.02581342,  0.1069998 , -0.0676332 , -0.07942668, -0.11593481,\n",
       "       -0.10234601,  0.06527169,  0.03053422, -0.00265029, -0.02725088,\n",
       "        0.05006752,  0.00075651,  0.14094961, -0.06348029,  0.03267091,\n",
       "       -0.03889363,  0.10890541, -0.06911621, -0.01919211, -0.02351215,\n",
       "       -0.04430084,  0.15382995,  0.08881302,  0.0594213 , -0.24641058,\n",
       "        0.00871767,  0.06831561,  0.02639019,  0.07670679,  0.02765932,\n",
       "       -0.12367915, -0.06569136,  0.01182106, -0.0076736 , -0.03185582,\n",
       "        0.06749261, -0.03485099,  0.02257483, -0.16642242,  0.18412432,\n",
       "        0.18024101, -0.04628585,  0.17040333, -0.07315041, -0.04681115,\n",
       "       -0.12926786, -0.06623387,  0.00539146,  0.04177763,  0.14568624,\n",
       "       -0.13707458,  0.04564486,  0.13048269, -0.15556583,  0.05563725,\n",
       "        0.05298879, -0.08074722,  0.01328517, -0.13205031,  0.10207825,\n",
       "       -0.08940692,  0.0268639 ,  0.00907506, -0.03110294, -0.07945608,\n",
       "       -0.04596292,  0.00993809, -0.1901983 ,  0.02217367, -0.06550288,\n",
       "        0.01736265, -0.02485292, -0.05872289,  0.05686744,  0.02137785,\n",
       "        0.01146406,  0.03755319, -0.0419015 , -0.11697921,  0.14956742,\n",
       "        0.12895679,  0.04501451, -0.18261815,  0.105056  , -0.05469555,\n",
       "        0.05424004,  0.029093  , -0.03904212, -0.18809114, -0.02862727,\n",
       "        0.06798893, -0.08300536, -0.12575478, -0.06811385,  0.05311185,\n",
       "        0.08516379, -0.05298602, -0.08657631, -0.03416848, -0.16745717,\n",
       "        0.01280862, -0.1225472 , -0.11020723,  0.07693967,  0.05193878,\n",
       "        0.02877761,  0.27313354, -0.0770904 , -0.00883352,  0.00389274,\n",
       "        0.0320707 ,  0.03644519, -0.04735706,  0.22082463,  0.04538072,\n",
       "       -0.08092824, -0.05707541,  0.04105672, -0.12777977, -0.08397305,\n",
       "        0.0006467 , -0.13174778, -0.10528891,  0.04501037,  0.02282623,\n",
       "        0.06925944,  0.04854585,  0.08246823,  0.2746847 , -0.05110187,\n",
       "        0.0536056 ,  0.11800907,  0.04404622, -0.13593291,  0.03533388,\n",
       "       -0.01124342, -0.07801745, -0.039394  , -0.22192367,  0.02019722,\n",
       "       -0.09044817, -0.00990527,  0.05614096,  0.08996335, -0.05309654,\n",
       "        0.06148229, -0.15314694,  0.14976386,  0.22304753, -0.11872325,\n",
       "        0.03197899,  0.03235688,  0.08339817, -0.04254157,  0.05778442,\n",
       "        0.02367684,  0.06116119, -0.20981984,  0.11057567, -0.04504801,\n",
       "        0.00144444, -0.00390819,  0.08331728,  0.04633715,  0.14047919,\n",
       "       -0.06601627, -0.07980372, -0.20642438,  0.10410937, -0.06124599,\n",
       "       -0.00959243, -0.13596276, -0.20584166,  0.06327431, -0.14305008,\n",
       "        0.08807499, -0.17740588,  0.07921161, -0.00814338, -0.0355676 ,\n",
       "       -0.05868081,  0.0328057 , -0.06115234, -0.02301147, -0.07001694,\n",
       "       -0.0936774 , -0.05185552,  0.17804903,  0.06609779, -0.12023942,\n",
       "       -0.08202039,  0.14306039,  0.04701703,  0.01003681,  0.00210898,\n",
       "       -0.0704694 ,  0.05766934, -0.11061819,  0.0650172 , -0.03923949,\n",
       "        0.04576562,  0.12664272, -0.0952215 ,  0.01511896,  0.04784557,\n",
       "        0.01306008, -0.08729288,  0.00914712,  0.05096528, -0.15563928,\n",
       "        0.02901695, -0.00520886, -0.04101996,  0.21677772,  0.07977927,\n",
       "       -0.03162916,  0.12333373,  0.02563516,  0.23335794,  0.12308535,\n",
       "       -0.170626  ,  0.00436907,  0.01391041,  0.08576907, -0.05328169,\n",
       "       -0.00848577, -0.11915768, -0.14909598, -0.22817783, -0.05877123,\n",
       "       -0.20863532,  0.06030809,  0.11145822,  0.04748149, -0.01027246,\n",
       "        0.08082326,  0.06102482,  0.26087482,  0.19692847, -0.04183973,\n",
       "        0.05281209,  0.15116455,  0.04752458, -0.04612568, -0.0305873 ,\n",
       "        0.07828331, -0.01374511, -0.15451236, -0.02687259, -0.0253372 ,\n",
       "        0.03496813, -0.21604783,  0.06894736,  0.16099648,  0.13052364,\n",
       "        0.20926934,  0.06525514,  0.1625176 ,  0.10187374,  0.15868264,\n",
       "        0.13827768,  0.07840769, -0.12798042, -0.21408505,  0.07431257,\n",
       "       -0.06714242, -0.02608085, -0.04732682, -0.05212241, -0.13182894,\n",
       "       -0.0329152 , -0.02190483,  0.04788804, -0.04785392,  0.11558024,\n",
       "       -0.03743846, -0.05920665, -0.16155084, -0.30106423, -0.0089864 ,\n",
       "        0.08671208,  0.07135528, -0.2166686 , -0.10727465, -0.08021015,\n",
       "        0.1346314 ,  0.13891898, -0.02659877, -0.01977618, -0.14487534,\n",
       "       -0.1780983 , -0.04987721,  0.01219663, -0.12514611,  0.1156678 ])"
      ]
     },
     "execution_count": 77,
     "metadata": {},
     "output_type": "execute_result"
    }
   ],
   "source": [
    "# Let's take samples from a normal distribution\n",
    "\n",
    "import numpy as np\n",
    " \n",
    "M, SD, = 0, 0.1 # Creating our Mean and Standard Deviation variables\n",
    "examples = np.random.normal(M, SD, size=500) # (Mean, stanard deviation, size)\n",
    "examples"
   ]
  },
  {
   "cell_type": "code",
   "execution_count": 78,
   "metadata": {},
   "outputs": [
    {
     "data": {
      "image/png": "[encoded data removed]",
      "text/plain": [
       "<Figure size 432x288 with 1 Axes>"
      ]
     },
     "metadata": {},
     "output_type": "display_data"
    }
   ],
   "source": [
    "# Creating a histogram of our normal distribution\n",
    "\n",
    "import matplotlib.pyplot as plt\n",
    "plt.hist(examples, 40, density=True, edgecolor='k') # Adding sample count, amount of bins and density function line (True = normal),\n",
    "                                                    # and adding edgecolour to the bins\n",
    "                                                    \n",
    "# Configuring the details of the histogram output [3].\n",
    "\n",
    "plt.plot(bins, 1/(SD * np.sqrt(2 * np.pi)) * np.exp( - (bins - M)**2 / (2 * SD**2) ), linewidth=2, color='r', label=\"Probability density function\")\n",
    "plt.legend() # Adding a legend box into the plot\n",
    "plt.ylabel('Random examples') # labelling my y axis\n",
    "plt.xlabel('Mean and standard deviations') # labelling my x axis \n",
    "plt.show()"
   ]
  },
  {
   "cell_type": "markdown",
   "metadata": {},
   "source": [
    "The normal distribution plot above clearly shows some interesting features. Indeed, when we say that it is *distributed*, it means that the normal distribution has symmetry around its centre and that roughly 50% of the values are less that the mean (M), and 50% are greater.\n",
    "\n",
    "As previously mentioned, the standard deviation (SD) is a measure of how the sample numbers are spread out. For example, typically in a normal distribution 68% of the values lie within 1 SD's of the mean i.e. -0.1 or 0.1 which you should be able to visualize above. Ninety-five percent of the values lie within 2 SD's and 98% within 3 SD's [7]. Any outliers (or extreme scores) that are within this area of the distribution will tend to skew the distribution to the left or right and thus affect certain statistical tests such as the reliability of regression models. \n",
    "\n",
    "There are several other reasons why the normal distribution is important in statistics and data science. One example is in central limit theorem, which states that as the sample size increases, the sampling distribution of the mean follows a normal distribution even when the underlying distribution of the original variable is non-normal [6].\n",
    "\n",
    "Another crucial reason is for plotting *Z-scores* so that we can compare data of different measurement types: \n",
    "\n",
    "Despite their slightly different shapes, all forms of the normal distribution share similar properties. The standard normal distribution is a special case in that the mean is 0 and the SD is 1. This is what is known as the Z-distribution and this is extremely useful when \"converting\" scores of different data measurements. For example, the mean will always have a Z-score of 0.\n",
    "\n",
    "Z-scores allow us to compare observations drawn from normally distributed populations which have *different* mean and SDs and compare them on a standard scale, a process called *standardization*. To do this we convert the raw data measurements into Z-scores so that we can compare different types of data along the **same** scale. \n",
    "\n",
    "The Z-score formula is calculated by subtracting the total score from the mean and then dividing it by standard deviation.\n",
    "For example:  \n",
    "\n",
    "The grades on a data analytics exam have a mean of 85 and a SD of 2.\n",
    "\n",
    "Gareth scored 86 on the exam.\n",
    "\n",
    "Thus, to find the Z-score for Gareth's exam grade we do the following [8]:\n",
    "\n",
    "\n",
    "\n",
    "\n",
    "\n",
    "\n"
   ]
  },
  {
   "cell_type": "code",
   "execution_count": 3,
   "metadata": {},
   "outputs": [],
   "source": [
    "#     Gareth's grade - mean grade\n",
    "# Z = ---------------------------\n",
    "#        Standard deviation\n",
    "            \n",
    "#     86-85\n",
    "# Z = -----\n",
    "#       2\n",
    "\n",
    "#     1   \n",
    "# Z= --- = 0.5\n",
    "#     2\n",
    "    \n",
    "# Thus Gareth's Z score is 0.5, meaning his grade was half an SD above the class mean"
   ]
  },
  {
   "cell_type": "markdown",
   "metadata": {},
   "source": [
    "------------------------"
   ]
  },
  {
   "cell_type": "markdown",
   "metadata": {},
   "source": [
    "#### Binomial distribution\n",
    "\n",
    "A binomial distribution tells us the probability of how often there will be a success in *n* independent experiments. Such experiments are yes/no, true/false or success/failure questions, i.e. only two possible outcomes. One example may be tossing a coin, where the probabilty of sucess and failure is the same. A single success/failure esperiment is also knowm as a Bernoulli trial because the binomial distribution was derived by James Bernoulli.\n",
    "\n",
    "Samples are drawn from a binomial distribution with specified parameters, *n* trials and *p* probability of success where *n* an integer >= 0 and *p* is in the interval [0,1]. Adding a *size* parameter is optional [3]. \n",
    "Each trial is independent since the outcome doesn't affect the outcome of the current coin toss.\n",
    "So:\n",
    "\n",
    "n = number of trials\n",
    "p = probability event of interest occurs on any one trial (success)\n",
    "size = number of times you want to run this experiment\n",
    "\n",
    "Let's look at an example:"
   ]
  },
  {
   "cell_type": "code",
   "execution_count": 56,
   "metadata": {},
   "outputs": [
    {
     "data": {
      "text/plain": [
       "2"
      ]
     },
     "execution_count": 56,
     "metadata": {},
     "output_type": "execute_result"
    }
   ],
   "source": [
    "# The number n of heads (successes) in 4 coin ﬂips (Bernoulli trials) with probability 0.5 of heads is Binomially distributed \n",
    "\n",
    "flips = 4\n",
    "prob = 0.5\n",
    "np.random.binomial(flips, prob) "
   ]
  },
  {
   "cell_type": "code",
   "execution_count": 111,
   "metadata": {},
   "outputs": [
    {
     "data": {
      "text/plain": [
       "array([3, 1, 4, 3, 1, 2, 1, 0, 1, 2])"
      ]
     },
     "execution_count": 111,
     "metadata": {},
     "output_type": "execute_result"
    }
   ],
   "source": [
    "# Now we can look at the array of number of successful flips from running the experiment 10 times\n",
    "\n",
    "bernoulli = np.random.binomial(flips, prob, size = 10)\n",
    "bernoulli"
   ]
  },
  {
   "cell_type": "markdown",
   "metadata": {},
   "source": [
    "Now we can plot the results of this binomial experiment:"
   ]
  },
  {
   "cell_type": "code",
   "execution_count": 113,
   "metadata": {},
   "outputs": [
    {
     "data": {
      "image/png": "[encoded data removed]",
      "text/plain": [
       "<Figure size 432x288 with 1 Axes>"
      ]
     },
     "metadata": {},
     "output_type": "display_data"
    }
   ],
   "source": [
    "%matplotlib inline\n",
    "import matplotlib.pyplot as plt\n",
    "\n",
    "import matplotlib.pyplot as plt\n",
    "plt.hist(bernoulli, density=True, edgecolor='k')    # Adding sample count, amount of bins and density function line (True = normal),\n",
    "                                                    # and adding edgecolour to the bins\n",
    "\n",
    "# Configuring the details of the histogram output [3].\n",
    "\n",
    "plt.plot(linewidth=2, color='r', edgecolor= 'k')\n",
    "plt.ylabel('Frequency') # labelling my y axis\n",
    "plt.xlabel('Binomial distribution') # labelling my x axis \n",
    "plt.show()"
   ]
  },
  {
   "cell_type": "markdown",
   "metadata": {},
   "source": [
    "Above our outcome shows that most of the 4 coin flips resulted in only 1 ending up heads, while many ended up tails. Repeated \"failures\" like this tend to skew the binomial distribution to the left. Conversely, in the event of most flips turning up heads, the skew on the the binomial distribution would be to the right. If we ran an experiment where the outcome of success was equal to the outcome of failure, the outcome plot would tend to look more like the normal distribution.\n",
    "\n",
    "We can imagine many other instances where the binomial distribution is at play such as a yes or no game show, a player taking a penalty (scoring or not scoring) or when a six-sided die is rolled ten times, and the number of 6's is recorded. All of these examples are binomial experiments and we need to remember that a binomial experiment is as previously explained, an experiment which satisfies 4 conditions:\n",
    "\n",
    "* A fixed number of \"trials\"\n",
    "* Each trial is independent of the others\n",
    "* There are only two outcomes\n",
    "* The **probabilty** of each outcome remains constant from trial to trial.\n",
    "\n",
    "So how exactly do we calculate the probabilty of such a trial?\n",
    "\n",
    "We could do this by taking the example of a person playing who wants to be a millionaire. Four multiple choice questions appear, yet they have no prior knowledge of the subject matter. What is the probabilty of the person getting exactly 3 questions correct? [9]. \n"
   ]
  },
  {
   "cell_type": "code",
   "execution_count": 82,
   "metadata": {},
   "outputs": [
    {
     "name": "stdout",
     "output_type": "stream",
     "text": [
      "0.046875000000000035\n"
     ]
    }
   ],
   "source": [
    "# Who wants to be a millionaire example\n",
    "\n",
    "n = 4 # Number of multiple choice questions\n",
    "p = 0.25 # Probabilty of getting a question right\n",
    "X = 3 # Binomial random variable which we want to quantify the probabilty of\n",
    "\n",
    "from scipy.stats import binom # Importing the binomial package from the scipy library [10].\n",
    "print(binom.pmf(X, n, p)) # Binomial probabilty mass function to calculate p value [9].\n",
    "                          # The probability mass function (pmf) is a function that gives the probability \n",
    "                          # that a discrete random variable (in this case X) is exactly equal to some value (p) [11]."
   ]
  },
  {
   "cell_type": "markdown",
   "metadata": {},
   "source": [
    "So, we see the binomial probabilty of getting exactly 3 out of 4 multiple choice questions right is 0.0469 (around 4.7%) thus highly unlikely.\n",
    "\n",
    "In summarising, it should be understood that the most simple, and arguably the most useful binomial application is in fact the probabilty mass function (as seen above), which allows us to determine an outcome of Bernoulli trials. Indeed, binomial probability concerns itself entirely with measuring the probability of outcomes of Bernoulli trials, trials that are independent of each other and that are binary i.e. with only two possible outcomes [12]. Binomial phenomena like this are so apparent and widespread in everyday life that we tend to remain oblivious to the underlying mathematics pulling the strings.\n",
    "\n",
    "----------------"
   ]
  },
  {
   "cell_type": "markdown",
   "metadata": {},
   "source": [
    "#### Poisson distribution\n",
    "\n",
    "The Poisson distribution tells us how probable it is that a certain number of events occur in a fixed interval of time (or space). It assumes that these events happen at a contstant rate and are also independent of the last event [13]. The time period must also be pre-determined. It is a discrete function in that it can only be measured as occuring or not occuring, thus the variable can only be measured in whole numbers.\n",
    "\n",
    "An example of the distribution in real life could be one of the number of meals in a certain restaurant each day. If the average number of meals for seven days is 400, then we could predict the probabilty of a certain day having more customers.\n",
    "Practical uses of the Poisson distribution include business forecasting about the number of customer sales on certain days or seasons of the year. If a company overstocks it would mean money wasted by goods not sold on certain days. Likewise, having too little stock could mean lost business oportunity because you didnt maximise sales due to shortage of stock. Similarly restaurants could prepare for an influx of customers or make contingency plans in case they cannot accommodate all guests. The Poisson distribution allows companies to adjust supply and demand in order to keep profit stable, and to prevent future waste of resources\n",
    "\n",
    "The Poisson distribution function has two paramteres, lam and size. lam will accept floats or an array of floats greater to or equal to zero [3]. The lam parameter equals the mean and variance, i.e.the total number of events divided by the number of units in the data. The size paramter will determine the amount of random samples called to the distribution [14].\n",
    "\n",
    "Let's take a look:"
   ]
  },
  {
   "cell_type": "code",
   "execution_count": 2,
   "metadata": {},
   "outputs": [
    {
     "data": {
      "image/png": "[encoded data removed]",
      "text/plain": [
       "<Figure size 432x288 with 1 Axes>"
      ]
     },
     "metadata": {},
     "output_type": "display_data"
    }
   ],
   "source": [
    "import numpy as np\n",
    "poiss = np.random.poisson(7, 20000) # Drawing samples from the distribution\n",
    "\n",
    "# Creating a histogram of random Poisson samples\n",
    "\n",
    "import matplotlib.pyplot as plt\n",
    "plt.hist(poiss, 16, density=True, color='r', edgecolor ='k') # Adding sample count, amount of bins and density function line (True = normal),\n",
    "                                                             # and adding edgecolour to the bins\n",
    "plt.show()"
   ]
  },
  {
   "cell_type": "markdown",
   "metadata": {},
   "source": [
    "Now let's see what the mean and variance (lam) actually are from this distribution:"
   ]
  },
  {
   "cell_type": "code",
   "execution_count": 8,
   "metadata": {},
   "outputs": [
    {
     "name": "stdout",
     "output_type": "stream",
     "text": [
      "The mean is 7.0527\n",
      "The variance is 7.122722709999999\n"
     ]
    }
   ],
   "source": [
    "print(\"The mean is\", np.mean(poiss)) # Calculating the mean of our poiss distribution variable\n",
    "print(\"The variance is\", np.var(poiss))"
   ]
  },
  {
   "cell_type": "markdown",
   "metadata": {},
   "source": [
    "Another use of poisson for example, is that we could call 25 values each for lam 50, 150, 250, and 1050:"
   ]
  },
  {
   "cell_type": "code",
   "execution_count": 4,
   "metadata": {},
   "outputs": [
    {
     "data": {
      "text/plain": [
       "array([[  40,  147,  245, 1014],\n",
       "       [  46,  143,  243, 1062],\n",
       "       [  50,  163,  237, 1076],\n",
       "       [  51,  156,  232, 1100],\n",
       "       [  53,  170,  255, 1100],\n",
       "       [  48,  146,  251,  999],\n",
       "       [  55,  153,  261, 1048],\n",
       "       [  48,  145,  255, 1070],\n",
       "       [  58,  157,  268, 1011],\n",
       "       [  59,  165,  217, 1062],\n",
       "       [  47,  133,  254, 1054],\n",
       "       [  62,  138,  236, 1120],\n",
       "       [  47,  159,  244, 1013],\n",
       "       [  50,  157,  214, 1110],\n",
       "       [  66,  149,  259, 1098],\n",
       "       [  43,  151,  256, 1044],\n",
       "       [  57,  179,  215, 1070],\n",
       "       [  44,  142,  247, 1064],\n",
       "       [  65,  159,  238, 1017],\n",
       "       [  53,  132,  253,  977],\n",
       "       [  51,  135,  244, 1058],\n",
       "       [  55,  150,  231, 1043],\n",
       "       [  53,  146,  250, 1077],\n",
       "       [  37,  163,  242, 1038],\n",
       "       [  50,  147,  232, 1033]])"
      ]
     },
     "execution_count": 4,
     "metadata": {},
     "output_type": "execute_result"
    }
   ],
   "source": [
    "Q = np.random.poisson(lam=(50, 150, 250, 1050), size=(25, 4)) \n",
    "Q"
   ]
  },
  {
   "cell_type": "code",
   "execution_count": 11,
   "metadata": {},
   "outputs": [
    {
     "name": "stdout",
     "output_type": "stream",
     "text": [
      "The mean is 375.1\n",
      "The variance is 158784.59\n"
     ]
    }
   ],
   "source": [
    "# And then call the mean and variance on them\n",
    "import numpy as np\n",
    "print(\"The mean is\", np.mean(Q)) # Calculating the mean of Q\n",
    "print(\"The variance is\", np.var(Q))"
   ]
  },
  {
   "cell_type": "markdown",
   "metadata": {},
   "source": [
    "Isn't that interesting, the mean and variance outputs was given for the four columns *together*. \n",
    "\n",
    "But what if we want to calculate the mean of one particular row or column?:"
   ]
  },
  {
   "cell_type": "code",
   "execution_count": 23,
   "metadata": {},
   "outputs": [
    {
     "name": "stdout",
     "output_type": "stream",
     "text": [
      "The mean of row 24 is 365.5\n"
     ]
    }
   ],
   "source": [
    "print(\"The mean of row 24 is\", np.mean(Q [24])) # Calculating the mean of row 24 in Q"
   ]
  },
  {
   "cell_type": "code",
   "execution_count": 24,
   "metadata": {},
   "outputs": [
    {
     "data": {
      "text/plain": [
       "array([361.5 , 373.5 , 381.5 , 384.75, 394.5 , 361.  , 379.25, 379.5 ,\n",
       "       373.5 , 375.75, 372.  , 389.  , 365.75, 382.75, 393.  , 373.5 ,\n",
       "       380.25, 374.25, 369.75, 353.75, 372.  , 369.75, 381.5 , 370.  ,\n",
       "       365.5 ])"
      ]
     },
     "execution_count": 24,
     "metadata": {},
     "output_type": "execute_result"
    }
   ],
   "source": [
    "Q.mean(axis=1) # Calculating the mean of each row"
   ]
  },
  {
   "cell_type": "code",
   "execution_count": 26,
   "metadata": {},
   "outputs": [
    {
     "data": {
      "text/plain": [
       "array([  51.52,  151.4 ,  243.16, 1054.32])"
      ]
     },
     "execution_count": 26,
     "metadata": {},
     "output_type": "execute_result"
    }
   ],
   "source": [
    "Q.mean(axis=0) # Calculating the mean of each column"
   ]
  },
  {
   "cell_type": "markdown",
   "metadata": {},
   "source": [
    "So as we have seen, the Poisson distribution is used for count-based distributions where the events occur with a known average rate and independently of the last event. With this in mind, we could go further to calculate the probabilty of a future event. Let's look at an example.\n",
    "\n",
    "Suppose the average number of cars passing a certain street in one day is 25. With this in mind we could calculate the probabilty of 30 cars passing the street. \n",
    "\n",
    "The short script below uses the scipy stats poisson function which takes as its parameter the 25 cars passing, and then uses this within the probabilty mass function (pmf) method to calculate the probabilty percentage we are looking for i.e. the probabilty tha 30 cars will the street. \n",
    "\n",
    "A poisson probability mass function is a function that can predict or show the probability of a value occurring of a certain data point. Being that it is a probability mass function, it shows discrete data points as we will see below [15]:"
   ]
  },
  {
   "cell_type": "code",
   "execution_count": 33,
   "metadata": {},
   "outputs": [
    {
     "data": {
      "text/plain": [
       "0.04541278513011904"
      ]
     },
     "execution_count": 33,
     "metadata": {},
     "output_type": "execute_result"
    }
   ],
   "source": [
    "cars = poisson(25)\n",
    "cars.pmf(30)"
   ]
  },
  {
   "cell_type": "markdown",
   "metadata": {},
   "source": [
    "There we have it, the probabilty of 30 cars passing the street in one day is around 4.5%. Now we can plot the poisson probabilty mass function by first configuring the plot to incorporate the car variables:"
   ]
  },
  {
   "cell_type": "code",
   "execution_count": 41,
   "metadata": {},
   "outputs": [
    {
     "data": {
      "image/png": "[encoded data removed]",
      "text/plain": [
       "<Figure size 432x288 with 1 Axes>"
      ]
     },
     "metadata": {},
     "output_type": "display_data"
    }
   ],
   "source": [
    "from scipy.stats import poisson\n",
    "import matplotlib.pyplot as plt\n",
    "%matplotlib inline\n",
    "\n",
    "plt.ylabel('Probability of car passing') # Labelling y axis\n",
    "plt.xlabel('Number of cars') # Labelling x axis\n",
    "plt.title('Probability Distribution Curve') # Adding title\n",
    "arr = [] \n",
    "cars = poisson(25)\n",
    "for num in range(0,50): # for loop for determining the range of number of cars displayed on x axis\n",
    " arr.append(cars.pmf(num))\n",
    " \n",
    "# print(rv.pmf(30))\n",
    "prob = cars.pmf(30)\n",
    "plt.grid(True)\n",
    "plt.plot(arr, linewidth=2.0)\n",
    "plt.plot([30], [prob], marker='o', markersize=6, color=\"red\")\n",
    "plt.show()"
   ]
  },
  {
   "cell_type": "markdown",
   "metadata": {},
   "source": [
    "### References\n",
    "\n",
    "[1]. McKinney, W.(2018). *Python for Data Analysis*. Boston: O' Reilly.\n",
    "\n",
    "[2]. Lutz, M.(2013). *Learning Python*. Boston: O' Reilly\n",
    "\n",
    "[3]. SciPy.org, multiple authors (2018). *Random sampling (numpy.random)*. Retrieved from:    https://docs.scipy.org/doc/numpy-1.15.1/reference/routines.random.html\n",
    "\n",
    "[4]. Matplotlib.org, multiple authors (2018). *Shapes and collections\"*. Retrieved from:  https://matplotlib.org/gallery/shapes_and_collections/scatter.html\n",
    "\n",
    "[5]. Stattrek.com, multiple authors (2018). *What is a Probability Distribution?*. Retrieved from: https://stattrek.com/probability-distributions/probability-distribution.aspx\n",
    "\n",
    "[6]. Frost, J. (2018). *Statistics by Jim*. Retrieved from: http://statisticsbyjim.com/basics/normal-distribution/\n",
    "\n",
    "[7]. Mathisfun.com, multiple authors (2017). *Standard normal distribution*. Retrieved from: https://www.mathsisfun.com/data/standard-normal-distribution.html\n",
    "\n",
    "[8]. Khanacademy.org, multiple authors (2018). *Z scores review*. Retrieved from: https://www.khanacademy.org/math/statistics-probability/modeling-distributions-of-data/z-scores/a/z-scores-review\n",
    "\n",
    "[9]. Sullivan, M. (2018). *The Binomial Probability Distribution*. Retrieved from:https://faculty.elgin.edu/dkernler/statistics/ch06/6-2.html\n",
    "\n",
    "[10]. SciPy.org, multiple authors (2018). *scipy.stats.binom*. Retrieved from:https://docs.scipy.org/doc/scipy-0.14.0/reference/generated/scipy.stats.binom.html\n",
    "\n",
    "[11]. Wikipedia, multiple authors (2018. *Probabilty mass function*. Retrieved from: https://en.wikipedia.org/wiki/Probability_mass_function\n",
    "\n",
    "[12]. Lutus, P. (2013). *Binomial Probabilty*. Retrieved from: https://arachnoid.com/binomial_probability/#Probability_Mass_Function\n",
    "\n",
    "[13]. Dataflair (2018). *How to Implement Probability Distributions with Python*. Retrieved from:https://data-flair.training/blogs/probability-distributions-with-python/\n",
    "\n",
    "[14]. Datasciencecentral.com, multiple authors (2018). *Statistics how to*. Retrieved from: https://www.statisticshowto.datasciencecentral.com/poisson-distribution/\n",
    "\n",
    "[15]. Krishnan, M. (2017). *Poisson distribution with Python*. Retrieved from: http://muthu.co/poisson-distribution-with-python/"
   ]
  },
  {
   "cell_type": "code",
   "execution_count": null,
   "metadata": {},
   "outputs": [],
   "source": []
  }
 ],
 "metadata": {
  "kernelspec": {
   "display_name": "Python 3",
   "language": "python",
   "name": "python3"
  },
  "language_info": {
   "codemirror_mode": {
    "name": "ipython",
    "version": 3
   },
   "file_extension": ".py",
   "mimetype": "text/x-python",
   "name": "python",
   "nbconvert_exporter": "python",
   "pygments_lexer": "ipython3",
   "version": "3.6.5"
  }
 },
 "nbformat": 4,
 "nbformat_minor": 2
}
